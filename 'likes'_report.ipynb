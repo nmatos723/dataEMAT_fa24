{
 "cells": [
  {
   "cell_type": "markdown",
   "id": "672b0d10-1c27-4fcf-8c99-d3e6f1a09021",
   "metadata": {},
   "source": [
    "Noah Matos - 09/13/24 - 'likes' report"
   ]
  },
  {
   "cell_type": "code",
   "execution_count": 1,
   "id": "2073ae5d-5bbc-4c5a-9af8-c9329b55b9b9",
   "metadata": {},
   "outputs": [],
   "source": [
    "import json\n",
    "import pandas as pd\n",
    "import matplotlib as plt"
   ]
  },
  {
   "cell_type": "code",
   "execution_count": 2,
   "id": "c9b35f59-2e9e-4849-8134-596d929e3d77",
   "metadata": {},
   "outputs": [],
   "source": [
    "path = \"/Users/noahmatos/Downloads/instagram:tiktok data for emat/instagram-definitelynotnoah_-2024-08-28-KdnStHUB/your_instagram_activity/likes/liked_posts.json\"\n",
    "with open(path)as j:\n",
    "    likes_mess = json.load(j)"
   ]
  },
  {
   "cell_type": "markdown",
   "id": "25d131d7-2172-4ba6-b435-6e80f9e38777",
   "metadata": {},
   "source": [
    "this process loads the .json file of my instagram likes"
   ]
  },
  {
   "cell_type": "markdown",
   "id": "fce8fa48-39a5-49d0-a8fb-7c14a5fabceb",
   "metadata": {},
   "source": [
    "The source of this data is the \"liked_posts.json\" file downloaded from my own personal instagram data. The structure of this data is a list as shown in the cells below. This data was created to show the amount of times I have liked a post sorted by account name. This data is reliable because it is directly taken from my own personal activity on the app, and can faithfully show how many times I have interacted with their page. I believe this data does not have the ability to be considered unreliable as this is all based off of user input."
   ]
  },
  {
   "cell_type": "code",
   "execution_count": 3,
   "id": "713e22b1-a309-4797-903d-e1b7d5399bc4",
   "metadata": {},
   "outputs": [
    {
     "data": {
      "text/plain": [
       "dict_keys(['likes_media_likes'])"
      ]
     },
     "execution_count": 3,
     "metadata": {},
     "output_type": "execute_result"
    }
   ],
   "source": [
    "likes_mess.keys()"
   ]
  },
  {
   "cell_type": "code",
   "execution_count": 4,
   "id": "92e6c31e-a13e-4a7d-959e-b9ead4993371",
   "metadata": {},
   "outputs": [
    {
     "data": {
      "text/plain": [
       "list"
      ]
     },
     "execution_count": 4,
     "metadata": {},
     "output_type": "execute_result"
    }
   ],
   "source": [
    "type(likes_mess['likes_media_likes'])"
   ]
  },
  {
   "cell_type": "code",
   "execution_count": 5,
   "id": "3e46ce88-c6de-4951-9388-97456645b9d0",
   "metadata": {},
   "outputs": [
    {
     "data": {
      "text/html": [
       "<div>\n",
       "<style scoped>\n",
       "    .dataframe tbody tr th:only-of-type {\n",
       "        vertical-align: middle;\n",
       "    }\n",
       "\n",
       "    .dataframe tbody tr th {\n",
       "        vertical-align: top;\n",
       "    }\n",
       "\n",
       "    .dataframe thead th {\n",
       "        text-align: right;\n",
       "    }\n",
       "</style>\n",
       "<table border=\"1\" class=\"dataframe\">\n",
       "  <thead>\n",
       "    <tr style=\"text-align: right;\">\n",
       "      <th></th>\n",
       "      <th>title</th>\n",
       "      <th>string_list_data</th>\n",
       "    </tr>\n",
       "  </thead>\n",
       "  <tbody>\n",
       "    <tr>\n",
       "      <th>0</th>\n",
       "      <td>memerzone</td>\n",
       "      <td>[{'href': 'https://www.instagram.com/p/C_Bnrbq...</td>\n",
       "    </tr>\n",
       "    <tr>\n",
       "      <th>1</th>\n",
       "      <td>petercainedogtraining1</td>\n",
       "      <td>[{'href': 'https://www.instagram.com/reel/C_HJ...</td>\n",
       "    </tr>\n",
       "    <tr>\n",
       "      <th>2</th>\n",
       "      <td>clevelandbrowns</td>\n",
       "      <td>[{'href': 'https://www.instagram.com/p/C_EyHqL...</td>\n",
       "    </tr>\n",
       "    <tr>\n",
       "      <th>3</th>\n",
       "      <td>memeblox</td>\n",
       "      <td>[{'href': 'https://www.instagram.com/reel/C9Fj...</td>\n",
       "    </tr>\n",
       "    <tr>\n",
       "      <th>4</th>\n",
       "      <td>doctor.suck</td>\n",
       "      <td>[{'href': 'https://www.instagram.com/p/C-2fWlP...</td>\n",
       "    </tr>\n",
       "    <tr>\n",
       "      <th>...</th>\n",
       "      <td>...</td>\n",
       "      <td>...</td>\n",
       "    </tr>\n",
       "    <tr>\n",
       "      <th>15932</th>\n",
       "      <td>clairo</td>\n",
       "      <td>[{'href': 'https://www.instagram.com/p/BxQ_Jsw...</td>\n",
       "    </tr>\n",
       "    <tr>\n",
       "      <th>15933</th>\n",
       "      <td>iamkillbill</td>\n",
       "      <td>[{'href': 'https://www.instagram.com/p/BxN1RA_...</td>\n",
       "    </tr>\n",
       "    <tr>\n",
       "      <th>15934</th>\n",
       "      <td>clairo</td>\n",
       "      <td>[{'href': 'https://www.instagram.com/p/BxON_ZR...</td>\n",
       "    </tr>\n",
       "    <tr>\n",
       "      <th>15935</th>\n",
       "      <td>addisonroseee</td>\n",
       "      <td>[{'href': 'https://www.instagram.com/p/BwQjxWA...</td>\n",
       "    </tr>\n",
       "    <tr>\n",
       "      <th>15936</th>\n",
       "      <td>brandonbrown___</td>\n",
       "      <td>[{'href': 'https://www.instagram.com/p/BxBZkOu...</td>\n",
       "    </tr>\n",
       "  </tbody>\n",
       "</table>\n",
       "<p>15937 rows × 2 columns</p>\n",
       "</div>"
      ],
      "text/plain": [
       "                        title  \\\n",
       "0                   memerzone   \n",
       "1      petercainedogtraining1   \n",
       "2             clevelandbrowns   \n",
       "3                    memeblox   \n",
       "4                 doctor.suck   \n",
       "...                       ...   \n",
       "15932                  clairo   \n",
       "15933             iamkillbill   \n",
       "15934                  clairo   \n",
       "15935           addisonroseee   \n",
       "15936         brandonbrown___   \n",
       "\n",
       "                                        string_list_data  \n",
       "0      [{'href': 'https://www.instagram.com/p/C_Bnrbq...  \n",
       "1      [{'href': 'https://www.instagram.com/reel/C_HJ...  \n",
       "2      [{'href': 'https://www.instagram.com/p/C_EyHqL...  \n",
       "3      [{'href': 'https://www.instagram.com/reel/C9Fj...  \n",
       "4      [{'href': 'https://www.instagram.com/p/C-2fWlP...  \n",
       "...                                                  ...  \n",
       "15932  [{'href': 'https://www.instagram.com/p/BxQ_Jsw...  \n",
       "15933  [{'href': 'https://www.instagram.com/p/BxN1RA_...  \n",
       "15934  [{'href': 'https://www.instagram.com/p/BxON_ZR...  \n",
       "15935  [{'href': 'https://www.instagram.com/p/BwQjxWA...  \n",
       "15936  [{'href': 'https://www.instagram.com/p/BxBZkOu...  \n",
       "\n",
       "[15937 rows x 2 columns]"
      ]
     },
     "execution_count": 5,
     "metadata": {},
     "output_type": "execute_result"
    }
   ],
   "source": [
    "likes_mess_df = pd.DataFrame(likes_mess['likes_media_likes'])\n",
    "likes_mess_df"
   ]
  },
  {
   "cell_type": "markdown",
   "id": "5d68ee85-757e-4f42-be52-51475009f830",
   "metadata": {},
   "source": [
    "this creates the datarame for my data. It is untidy, but still useful."
   ]
  },
  {
   "cell_type": "code",
   "execution_count": 6,
   "id": "4dd6706d-bf7a-4153-8eac-fae1a66527e1",
   "metadata": {},
   "outputs": [
    {
     "data": {
      "text/plain": [
       "[{'href': 'https://www.instagram.com/p/C_BnrbqyRrC/',\n",
       "  'value': 'ð\\x9f\\x91\\x8d',\n",
       "  'timestamp': 1724696650}]"
      ]
     },
     "execution_count": 6,
     "metadata": {},
     "output_type": "execute_result"
    }
   ],
   "source": [
    "likes_mess_df['string_list_data'].iloc[0]"
   ]
  },
  {
   "cell_type": "markdown",
   "id": "9f1b8e4a-4dab-4efb-bf74-fe1a66d15a61",
   "metadata": {},
   "source": [
    "LIST"
   ]
  },
  {
   "cell_type": "code",
   "execution_count": 7,
   "id": "0559639a-0385-45a6-9958-ff79daf029d6",
   "metadata": {},
   "outputs": [
    {
     "data": {
      "text/plain": [
       "{'href': 'https://www.instagram.com/p/C_BnrbqyRrC/',\n",
       " 'value': 'ð\\x9f\\x91\\x8d',\n",
       " 'timestamp': 1724696650}"
      ]
     },
     "execution_count": 7,
     "metadata": {},
     "output_type": "execute_result"
    }
   ],
   "source": [
    "likes_mess_df['string_list_data'].iloc[0][0]"
   ]
  },
  {
   "cell_type": "markdown",
   "id": "df8929c7-eb99-40a0-886a-f5ed9746e5fd",
   "metadata": {},
   "source": [
    "this pics out the dictionary from the previously called list"
   ]
  },
  {
   "cell_type": "markdown",
   "id": "01786b27-04ce-4d28-a3ff-74762f4a2ba1",
   "metadata": {},
   "source": [
    "THIS IS A DICTIONARY THE DIFFERENCE IS THE SECOND [0]"
   ]
  },
  {
   "cell_type": "code",
   "execution_count": 8,
   "id": "17104e2b-93b5-41ca-8004-9f139b1411b4",
   "metadata": {},
   "outputs": [
    {
     "data": {
      "text/plain": [
       "1724696650"
      ]
     },
     "execution_count": 8,
     "metadata": {},
     "output_type": "execute_result"
    }
   ],
   "source": [
    "likes_mess_df['string_list_data'].iloc[0][0]['timestamp']"
   ]
  },
  {
   "cell_type": "code",
   "execution_count": 9,
   "id": "7546401e-bd33-47c1-869b-60307f185d04",
   "metadata": {},
   "outputs": [],
   "source": [
    "#[x[0]['timestamp'] for x in likes_mess_df['string_list_data']]"
   ]
  },
  {
   "cell_type": "markdown",
   "id": "704540a8-d375-4646-a890-b87073f5a426",
   "metadata": {},
   "source": [
    "a list of all the timestamps for every like"
   ]
  },
  {
   "cell_type": "code",
   "execution_count": 10,
   "id": "ef46a593-6bdf-49e3-9926-14aa55e50072",
   "metadata": {},
   "outputs": [],
   "source": [
    "likes_mess_df['timestamps'] = [+x[0]['timestamp'] for x in likes_mess_df['string_list_data']]\n"
   ]
  },
  {
   "cell_type": "code",
   "execution_count": 11,
   "id": "9b108ec2-1637-446b-acc0-57f7d7bb93c2",
   "metadata": {},
   "outputs": [
    {
     "data": {
      "text/html": [
       "<div>\n",
       "<style scoped>\n",
       "    .dataframe tbody tr th:only-of-type {\n",
       "        vertical-align: middle;\n",
       "    }\n",
       "\n",
       "    .dataframe tbody tr th {\n",
       "        vertical-align: top;\n",
       "    }\n",
       "\n",
       "    .dataframe thead th {\n",
       "        text-align: right;\n",
       "    }\n",
       "</style>\n",
       "<table border=\"1\" class=\"dataframe\">\n",
       "  <thead>\n",
       "    <tr style=\"text-align: right;\">\n",
       "      <th></th>\n",
       "      <th>title</th>\n",
       "      <th>string_list_data</th>\n",
       "      <th>timestamps</th>\n",
       "    </tr>\n",
       "  </thead>\n",
       "  <tbody>\n",
       "    <tr>\n",
       "      <th>0</th>\n",
       "      <td>memerzone</td>\n",
       "      <td>[{'href': 'https://www.instagram.com/p/C_Bnrbq...</td>\n",
       "      <td>1724696650</td>\n",
       "    </tr>\n",
       "    <tr>\n",
       "      <th>1</th>\n",
       "      <td>petercainedogtraining1</td>\n",
       "      <td>[{'href': 'https://www.instagram.com/reel/C_HJ...</td>\n",
       "      <td>1724629688</td>\n",
       "    </tr>\n",
       "    <tr>\n",
       "      <th>2</th>\n",
       "      <td>clevelandbrowns</td>\n",
       "      <td>[{'href': 'https://www.instagram.com/p/C_EyHqL...</td>\n",
       "      <td>1724629683</td>\n",
       "    </tr>\n",
       "    <tr>\n",
       "      <th>3</th>\n",
       "      <td>memeblox</td>\n",
       "      <td>[{'href': 'https://www.instagram.com/reel/C9Fj...</td>\n",
       "      <td>1724629514</td>\n",
       "    </tr>\n",
       "    <tr>\n",
       "      <th>4</th>\n",
       "      <td>doctor.suck</td>\n",
       "      <td>[{'href': 'https://www.instagram.com/p/C-2fWlP...</td>\n",
       "      <td>1724628384</td>\n",
       "    </tr>\n",
       "    <tr>\n",
       "      <th>...</th>\n",
       "      <td>...</td>\n",
       "      <td>...</td>\n",
       "      <td>...</td>\n",
       "    </tr>\n",
       "    <tr>\n",
       "      <th>15932</th>\n",
       "      <td>clairo</td>\n",
       "      <td>[{'href': 'https://www.instagram.com/p/BxQ_Jsw...</td>\n",
       "      <td>1557458499</td>\n",
       "    </tr>\n",
       "    <tr>\n",
       "      <th>15933</th>\n",
       "      <td>iamkillbill</td>\n",
       "      <td>[{'href': 'https://www.instagram.com/p/BxN1RA_...</td>\n",
       "      <td>1557449579</td>\n",
       "    </tr>\n",
       "    <tr>\n",
       "      <th>15934</th>\n",
       "      <td>clairo</td>\n",
       "      <td>[{'href': 'https://www.instagram.com/p/BxON_ZR...</td>\n",
       "      <td>1557399357</td>\n",
       "    </tr>\n",
       "    <tr>\n",
       "      <th>15935</th>\n",
       "      <td>addisonroseee</td>\n",
       "      <td>[{'href': 'https://www.instagram.com/p/BwQjxWA...</td>\n",
       "      <td>1557029706</td>\n",
       "    </tr>\n",
       "    <tr>\n",
       "      <th>15936</th>\n",
       "      <td>brandonbrown___</td>\n",
       "      <td>[{'href': 'https://www.instagram.com/p/BxBZkOu...</td>\n",
       "      <td>1556934886</td>\n",
       "    </tr>\n",
       "  </tbody>\n",
       "</table>\n",
       "<p>15937 rows × 3 columns</p>\n",
       "</div>"
      ],
      "text/plain": [
       "                        title  \\\n",
       "0                   memerzone   \n",
       "1      petercainedogtraining1   \n",
       "2             clevelandbrowns   \n",
       "3                    memeblox   \n",
       "4                 doctor.suck   \n",
       "...                       ...   \n",
       "15932                  clairo   \n",
       "15933             iamkillbill   \n",
       "15934                  clairo   \n",
       "15935           addisonroseee   \n",
       "15936         brandonbrown___   \n",
       "\n",
       "                                        string_list_data  timestamps  \n",
       "0      [{'href': 'https://www.instagram.com/p/C_Bnrbq...  1724696650  \n",
       "1      [{'href': 'https://www.instagram.com/reel/C_HJ...  1724629688  \n",
       "2      [{'href': 'https://www.instagram.com/p/C_EyHqL...  1724629683  \n",
       "3      [{'href': 'https://www.instagram.com/reel/C9Fj...  1724629514  \n",
       "4      [{'href': 'https://www.instagram.com/p/C-2fWlP...  1724628384  \n",
       "...                                                  ...         ...  \n",
       "15932  [{'href': 'https://www.instagram.com/p/BxQ_Jsw...  1557458499  \n",
       "15933  [{'href': 'https://www.instagram.com/p/BxN1RA_...  1557449579  \n",
       "15934  [{'href': 'https://www.instagram.com/p/BxON_ZR...  1557399357  \n",
       "15935  [{'href': 'https://www.instagram.com/p/BwQjxWA...  1557029706  \n",
       "15936  [{'href': 'https://www.instagram.com/p/BxBZkOu...  1556934886  \n",
       "\n",
       "[15937 rows x 3 columns]"
      ]
     },
     "execution_count": 11,
     "metadata": {},
     "output_type": "execute_result"
    }
   ],
   "source": [
    "likes_mess_df"
   ]
  },
  {
   "cell_type": "markdown",
   "id": "db62ad97-988e-41ff-b756-9772e9127e55",
   "metadata": {},
   "source": [
    "this process adds the timestamps column to the dataframe, letting us know exactly what time i liked each post"
   ]
  },
  {
   "cell_type": "code",
   "execution_count": 12,
   "id": "9466c8cc-ef35-4044-962d-fa81d37a88d7",
   "metadata": {},
   "outputs": [],
   "source": [
    "#likes_mess_df['links'] = [+x[0]['href'] for x in tidy_df['string_list_data']]"
   ]
  },
  {
   "cell_type": "markdown",
   "id": "d5068c6c-96f6-4f66-acf7-dacce7e09652",
   "metadata": {},
   "source": [
    "I could not figure out how to add the links column to the dataframe as well for whatever reason. i tried different variations of this code but it didn't seem to work. Im thinking it might be because the links are considered strings, and I cannot for the life of me think about how to code that."
   ]
  },
  {
   "cell_type": "code",
   "execution_count": 13,
   "id": "87baf0b3-460c-4108-b492-a3e386e829a4",
   "metadata": {},
   "outputs": [],
   "source": [
    "tidy_df = pd.DataFrame([x[0] for x in likes_mess_df['string_list_data']])"
   ]
  },
  {
   "cell_type": "code",
   "execution_count": 14,
   "id": "9aa50f1f-0869-4927-830f-1c010442e10d",
   "metadata": {},
   "outputs": [
    {
     "data": {
      "text/html": [
       "<div>\n",
       "<style scoped>\n",
       "    .dataframe tbody tr th:only-of-type {\n",
       "        vertical-align: middle;\n",
       "    }\n",
       "\n",
       "    .dataframe tbody tr th {\n",
       "        vertical-align: top;\n",
       "    }\n",
       "\n",
       "    .dataframe thead th {\n",
       "        text-align: right;\n",
       "    }\n",
       "</style>\n",
       "<table border=\"1\" class=\"dataframe\">\n",
       "  <thead>\n",
       "    <tr style=\"text-align: right;\">\n",
       "      <th></th>\n",
       "      <th>href</th>\n",
       "      <th>value</th>\n",
       "      <th>timestamp</th>\n",
       "      <th>title</th>\n",
       "    </tr>\n",
       "  </thead>\n",
       "  <tbody>\n",
       "    <tr>\n",
       "      <th>0</th>\n",
       "      <td>https://www.instagram.com/p/C_BnrbqyRrC/</td>\n",
       "      <td>ð</td>\n",
       "      <td>1724696650</td>\n",
       "      <td>memerzone</td>\n",
       "    </tr>\n",
       "    <tr>\n",
       "      <th>1</th>\n",
       "      <td>https://www.instagram.com/reel/C_HJLo5P2hg/</td>\n",
       "      <td>ð</td>\n",
       "      <td>1724629688</td>\n",
       "      <td>petercainedogtraining1</td>\n",
       "    </tr>\n",
       "    <tr>\n",
       "      <th>2</th>\n",
       "      <td>https://www.instagram.com/p/C_EyHqLRYF0/</td>\n",
       "      <td>ð</td>\n",
       "      <td>1724629683</td>\n",
       "      <td>clevelandbrowns</td>\n",
       "    </tr>\n",
       "    <tr>\n",
       "      <th>3</th>\n",
       "      <td>https://www.instagram.com/reel/C9Fjm9pIbSG/</td>\n",
       "      <td>ð</td>\n",
       "      <td>1724629514</td>\n",
       "      <td>memeblox</td>\n",
       "    </tr>\n",
       "    <tr>\n",
       "      <th>4</th>\n",
       "      <td>https://www.instagram.com/p/C-2fWlPSybm/</td>\n",
       "      <td>ð</td>\n",
       "      <td>1724628384</td>\n",
       "      <td>doctor.suck</td>\n",
       "    </tr>\n",
       "  </tbody>\n",
       "</table>\n",
       "</div>"
      ],
      "text/plain": [
       "                                          href value   timestamp  \\\n",
       "0     https://www.instagram.com/p/C_BnrbqyRrC/  ð  1724696650   \n",
       "1  https://www.instagram.com/reel/C_HJLo5P2hg/  ð  1724629688   \n",
       "2     https://www.instagram.com/p/C_EyHqLRYF0/  ð  1724629683   \n",
       "3  https://www.instagram.com/reel/C9Fjm9pIbSG/  ð  1724629514   \n",
       "4     https://www.instagram.com/p/C-2fWlPSybm/  ð  1724628384   \n",
       "\n",
       "                    title  \n",
       "0               memerzone  \n",
       "1  petercainedogtraining1  \n",
       "2         clevelandbrowns  \n",
       "3                memeblox  \n",
       "4             doctor.suck  "
      ]
     },
     "execution_count": 14,
     "metadata": {},
     "output_type": "execute_result"
    }
   ],
   "source": [
    "tidy_df['title'] = likes_mess_df['title']\n",
    "tidy_df.head()"
   ]
  },
  {
   "cell_type": "code",
   "execution_count": 15,
   "id": "8a9a84eb-bee0-49f2-b396-534f055c5631",
   "metadata": {},
   "outputs": [
    {
     "data": {
      "text/html": [
       "<div>\n",
       "<style scoped>\n",
       "    .dataframe tbody tr th:only-of-type {\n",
       "        vertical-align: middle;\n",
       "    }\n",
       "\n",
       "    .dataframe tbody tr th {\n",
       "        vertical-align: top;\n",
       "    }\n",
       "\n",
       "    .dataframe thead th {\n",
       "        text-align: right;\n",
       "    }\n",
       "</style>\n",
       "<table border=\"1\" class=\"dataframe\">\n",
       "  <thead>\n",
       "    <tr style=\"text-align: right;\">\n",
       "      <th></th>\n",
       "      <th>href</th>\n",
       "      <th>value</th>\n",
       "      <th>timestamp</th>\n",
       "    </tr>\n",
       "    <tr>\n",
       "      <th>title</th>\n",
       "      <th></th>\n",
       "      <th></th>\n",
       "      <th></th>\n",
       "    </tr>\n",
       "  </thead>\n",
       "  <tbody>\n",
       "    <tr>\n",
       "      <th>clevelandbrowns</th>\n",
       "      <td>387</td>\n",
       "      <td>387</td>\n",
       "      <td>387</td>\n",
       "    </tr>\n",
       "    <tr>\n",
       "      <th>rocahistory</th>\n",
       "      <td>239</td>\n",
       "      <td>239</td>\n",
       "      <td>239</td>\n",
       "    </tr>\n",
       "    <tr>\n",
       "      <th>liquidhbox</th>\n",
       "      <td>153</td>\n",
       "      <td>153</td>\n",
       "      <td>153</td>\n",
       "    </tr>\n",
       "    <tr>\n",
       "      <th>oneysc</th>\n",
       "      <td>134</td>\n",
       "      <td>134</td>\n",
       "      <td>134</td>\n",
       "    </tr>\n",
       "    <tr>\n",
       "      <th>h0llien0elle</th>\n",
       "      <td>129</td>\n",
       "      <td>129</td>\n",
       "      <td>129</td>\n",
       "    </tr>\n",
       "    <tr>\n",
       "      <th>historycolored</th>\n",
       "      <td>115</td>\n",
       "      <td>115</td>\n",
       "      <td>115</td>\n",
       "    </tr>\n",
       "    <tr>\n",
       "      <th>matthwatson</th>\n",
       "      <td>113</td>\n",
       "      <td>113</td>\n",
       "      <td>113</td>\n",
       "    </tr>\n",
       "    <tr>\n",
       "      <th>clairo</th>\n",
       "      <td>109</td>\n",
       "      <td>109</td>\n",
       "      <td>109</td>\n",
       "    </tr>\n",
       "    <tr>\n",
       "      <th>brownsbybrad</th>\n",
       "      <td>108</td>\n",
       "      <td>108</td>\n",
       "      <td>108</td>\n",
       "    </tr>\n",
       "    <tr>\n",
       "      <th>greem_is_my_fave_color</th>\n",
       "      <td>100</td>\n",
       "      <td>100</td>\n",
       "      <td>100</td>\n",
       "    </tr>\n",
       "  </tbody>\n",
       "</table>\n",
       "</div>"
      ],
      "text/plain": [
       "                        href  value  timestamp\n",
       "title                                         \n",
       "clevelandbrowns          387    387        387\n",
       "rocahistory              239    239        239\n",
       "liquidhbox               153    153        153\n",
       "oneysc                   134    134        134\n",
       "h0llien0elle             129    129        129\n",
       "historycolored           115    115        115\n",
       "matthwatson              113    113        113\n",
       "clairo                   109    109        109\n",
       "brownsbybrad             108    108        108\n",
       "greem_is_my_fave_color   100    100        100"
      ]
     },
     "execution_count": 15,
     "metadata": {},
     "output_type": "execute_result"
    }
   ],
   "source": [
    "tidy_df.groupby('title').count().sort_values('value', ascending = False).head(10)"
   ]
  },
  {
   "cell_type": "markdown",
   "id": "081a963f-d6d1-4f5c-a02c-080a2823f8a5",
   "metadata": {},
   "source": []
  },
  {
   "cell_type": "code",
   "execution_count": 16,
   "id": "684acc19-45de-495a-8a52-de878b25b62f",
   "metadata": {},
   "outputs": [
    {
     "data": {
      "text/html": [
       "<div>\n",
       "<style scoped>\n",
       "    .dataframe tbody tr th:only-of-type {\n",
       "        vertical-align: middle;\n",
       "    }\n",
       "\n",
       "    .dataframe tbody tr th {\n",
       "        vertical-align: top;\n",
       "    }\n",
       "\n",
       "    .dataframe thead th {\n",
       "        text-align: right;\n",
       "    }\n",
       "</style>\n",
       "<table border=\"1\" class=\"dataframe\">\n",
       "  <thead>\n",
       "    <tr style=\"text-align: right;\">\n",
       "      <th></th>\n",
       "      <th>value</th>\n",
       "      <th>timestamp</th>\n",
       "      <th>title</th>\n",
       "    </tr>\n",
       "  </thead>\n",
       "  <tbody>\n",
       "    <tr>\n",
       "      <th>0</th>\n",
       "      <td>ð</td>\n",
       "      <td>1724696650</td>\n",
       "      <td>memerzone</td>\n",
       "    </tr>\n",
       "    <tr>\n",
       "      <th>1</th>\n",
       "      <td>ð</td>\n",
       "      <td>1724629688</td>\n",
       "      <td>petercainedogtraining1</td>\n",
       "    </tr>\n",
       "    <tr>\n",
       "      <th>2</th>\n",
       "      <td>ð</td>\n",
       "      <td>1724629683</td>\n",
       "      <td>clevelandbrowns</td>\n",
       "    </tr>\n",
       "    <tr>\n",
       "      <th>3</th>\n",
       "      <td>ð</td>\n",
       "      <td>1724629514</td>\n",
       "      <td>memeblox</td>\n",
       "    </tr>\n",
       "    <tr>\n",
       "      <th>4</th>\n",
       "      <td>ð</td>\n",
       "      <td>1724628384</td>\n",
       "      <td>doctor.suck</td>\n",
       "    </tr>\n",
       "    <tr>\n",
       "      <th>...</th>\n",
       "      <td>...</td>\n",
       "      <td>...</td>\n",
       "      <td>...</td>\n",
       "    </tr>\n",
       "    <tr>\n",
       "      <th>15932</th>\n",
       "      <td>ð</td>\n",
       "      <td>1557458499</td>\n",
       "      <td>clairo</td>\n",
       "    </tr>\n",
       "    <tr>\n",
       "      <th>15933</th>\n",
       "      <td>ð</td>\n",
       "      <td>1557449579</td>\n",
       "      <td>iamkillbill</td>\n",
       "    </tr>\n",
       "    <tr>\n",
       "      <th>15934</th>\n",
       "      <td>ð</td>\n",
       "      <td>1557399357</td>\n",
       "      <td>clairo</td>\n",
       "    </tr>\n",
       "    <tr>\n",
       "      <th>15935</th>\n",
       "      <td>ð</td>\n",
       "      <td>1557029706</td>\n",
       "      <td>addisonroseee</td>\n",
       "    </tr>\n",
       "    <tr>\n",
       "      <th>15936</th>\n",
       "      <td>ð</td>\n",
       "      <td>1556934886</td>\n",
       "      <td>brandonbrown___</td>\n",
       "    </tr>\n",
       "  </tbody>\n",
       "</table>\n",
       "<p>15937 rows × 3 columns</p>\n",
       "</div>"
      ],
      "text/plain": [
       "      value   timestamp                   title\n",
       "0      ð  1724696650               memerzone\n",
       "1      ð  1724629688  petercainedogtraining1\n",
       "2      ð  1724629683         clevelandbrowns\n",
       "3      ð  1724629514                memeblox\n",
       "4      ð  1724628384             doctor.suck\n",
       "...     ...         ...                     ...\n",
       "15932  ð  1557458499                  clairo\n",
       "15933  ð  1557449579             iamkillbill\n",
       "15934  ð  1557399357                  clairo\n",
       "15935  ð  1557029706           addisonroseee\n",
       "15936  ð  1556934886         brandonbrown___\n",
       "\n",
       "[15937 rows x 3 columns]"
      ]
     },
     "execution_count": 16,
     "metadata": {},
     "output_type": "execute_result"
    }
   ],
   "source": [
    "tidy_df = tidy_df.drop(columns = ['href'])\n",
    "tidy_df"
   ]
  },
  {
   "cell_type": "code",
   "execution_count": 17,
   "id": "7d728303-69b1-42b1-8da6-9cab4ef068ea",
   "metadata": {},
   "outputs": [
    {
     "data": {
      "text/html": [
       "<div>\n",
       "<style scoped>\n",
       "    .dataframe tbody tr th:only-of-type {\n",
       "        vertical-align: middle;\n",
       "    }\n",
       "\n",
       "    .dataframe tbody tr th {\n",
       "        vertical-align: top;\n",
       "    }\n",
       "\n",
       "    .dataframe thead th {\n",
       "        text-align: right;\n",
       "    }\n",
       "</style>\n",
       "<table border=\"1\" class=\"dataframe\">\n",
       "  <thead>\n",
       "    <tr style=\"text-align: right;\">\n",
       "      <th></th>\n",
       "      <th>value</th>\n",
       "      <th>timestamp</th>\n",
       "    </tr>\n",
       "    <tr>\n",
       "      <th>title</th>\n",
       "      <th></th>\n",
       "      <th></th>\n",
       "    </tr>\n",
       "  </thead>\n",
       "  <tbody>\n",
       "    <tr>\n",
       "      <th>clevelandbrowns</th>\n",
       "      <td>387</td>\n",
       "      <td>387</td>\n",
       "    </tr>\n",
       "    <tr>\n",
       "      <th>rocahistory</th>\n",
       "      <td>239</td>\n",
       "      <td>239</td>\n",
       "    </tr>\n",
       "    <tr>\n",
       "      <th>liquidhbox</th>\n",
       "      <td>153</td>\n",
       "      <td>153</td>\n",
       "    </tr>\n",
       "    <tr>\n",
       "      <th>oneysc</th>\n",
       "      <td>134</td>\n",
       "      <td>134</td>\n",
       "    </tr>\n",
       "    <tr>\n",
       "      <th>h0llien0elle</th>\n",
       "      <td>129</td>\n",
       "      <td>129</td>\n",
       "    </tr>\n",
       "    <tr>\n",
       "      <th>historycolored</th>\n",
       "      <td>115</td>\n",
       "      <td>115</td>\n",
       "    </tr>\n",
       "    <tr>\n",
       "      <th>matthwatson</th>\n",
       "      <td>113</td>\n",
       "      <td>113</td>\n",
       "    </tr>\n",
       "    <tr>\n",
       "      <th>clairo</th>\n",
       "      <td>109</td>\n",
       "      <td>109</td>\n",
       "    </tr>\n",
       "    <tr>\n",
       "      <th>brownsbybrad</th>\n",
       "      <td>108</td>\n",
       "      <td>108</td>\n",
       "    </tr>\n",
       "    <tr>\n",
       "      <th>greem_is_my_fave_color</th>\n",
       "      <td>100</td>\n",
       "      <td>100</td>\n",
       "    </tr>\n",
       "  </tbody>\n",
       "</table>\n",
       "</div>"
      ],
      "text/plain": [
       "                        value  timestamp\n",
       "title                                   \n",
       "clevelandbrowns           387        387\n",
       "rocahistory               239        239\n",
       "liquidhbox                153        153\n",
       "oneysc                    134        134\n",
       "h0llien0elle              129        129\n",
       "historycolored            115        115\n",
       "matthwatson               113        113\n",
       "clairo                    109        109\n",
       "brownsbybrad              108        108\n",
       "greem_is_my_fave_color    100        100"
      ]
     },
     "execution_count": 17,
     "metadata": {},
     "output_type": "execute_result"
    }
   ],
   "source": [
    "tidy_df.groupby('title').count().sort_values('value', ascending = False).head(10)"
   ]
  },
  {
   "cell_type": "markdown",
   "id": "fe82c6a8-d6e2-4087-a3c8-6f9e0b919a72",
   "metadata": {},
   "source": [
    "a hypothesis that could be formed using this data is that I am more likely to engage with posts of people I am familiar with or posts that express interests that I have."
   ]
  },
  {
   "cell_type": "code",
   "execution_count": 36,
   "id": "cd3916a3-e787-4c84-892a-4ced32350aef",
   "metadata": {},
   "outputs": [
    {
     "data": {
      "text/plain": [
       "<Axes: xlabel='title'>"
      ]
     },
     "execution_count": 36,
     "metadata": {},
     "output_type": "execute_result"
    },
    {
     "data": {
      "image/png": "[encoded data removed]",
      "text/plain": [
       "<Figure size 640x480 with 1 Axes>"
      ]
     },
     "metadata": {},
     "output_type": "display_data"
    }
   ],
   "source": [
    "tidy_df.groupby('title').count().sort_values('value', ascending = True).plot(kind = 'bar')\n"
   ]
  },
  {
   "cell_type": "markdown",
   "id": "a4f27737-c2be-4e1d-b928-3ca88a95daea",
   "metadata": {},
   "source": [
    "As you can see, this is a massive graph with so many titles. I don't really know how to narrow the scope of a graph in this program just yet, but if I did know how I think this would be a lot more helpful than it is right now"
   ]
  },
  {
   "cell_type": "code",
   "execution_count": 19,
   "id": "ed86eb5b-f1c1-4d0c-beca-4c9330f7cd18",
   "metadata": {},
   "outputs": [],
   "source": [
    "path = \"/Users/noahmatos/Downloads/instagram:tiktok data for emat/instagram-definitelynotnoah_-2024-08-28-KdnStHUB/your_instagram_activity/comments/post_comments_1.json\"\n",
    "with open(path)as j:\n",
    "    comments_mess = json.load(j)"
   ]
  },
  {
   "cell_type": "code",
   "execution_count": 20,
   "id": "5ffb8e17-bc90-42fb-8b27-70f6b87926ca",
   "metadata": {},
   "outputs": [],
   "source": [
    "#comments_mess"
   ]
  },
  {
   "cell_type": "code",
   "execution_count": 21,
   "id": "d1bad24f-d942-4b3b-9155-ca0d28163468",
   "metadata": {},
   "outputs": [
    {
     "data": {
      "text/html": [
       "<div>\n",
       "<style scoped>\n",
       "    .dataframe tbody tr th:only-of-type {\n",
       "        vertical-align: middle;\n",
       "    }\n",
       "\n",
       "    .dataframe tbody tr th {\n",
       "        vertical-align: top;\n",
       "    }\n",
       "\n",
       "    .dataframe thead th {\n",
       "        text-align: right;\n",
       "    }\n",
       "</style>\n",
       "<table border=\"1\" class=\"dataframe\">\n",
       "  <thead>\n",
       "    <tr style=\"text-align: right;\">\n",
       "      <th></th>\n",
       "      <th>media_list_data</th>\n",
       "      <th>string_map_data</th>\n",
       "    </tr>\n",
       "  </thead>\n",
       "  <tbody>\n",
       "    <tr>\n",
       "      <th>0</th>\n",
       "      <td>[{'uri': ''}]</td>\n",
       "      <td>{'Comment': {'value': 'Still Funny but the thi...</td>\n",
       "    </tr>\n",
       "    <tr>\n",
       "      <th>1</th>\n",
       "      <td>[{'uri': ''}]</td>\n",
       "      <td>{'Comment': {'value': '@cassarobrooklin @fanni...</td>\n",
       "    </tr>\n",
       "    <tr>\n",
       "      <th>2</th>\n",
       "      <td>[{'uri': ''}]</td>\n",
       "      <td>{'Comment': {'value': '@brenden.osully what up...</td>\n",
       "    </tr>\n",
       "    <tr>\n",
       "      <th>3</th>\n",
       "      <td>[{'uri': ''}]</td>\n",
       "      <td>{'Comment': {'value': 'I will sell my soul to ...</td>\n",
       "    </tr>\n",
       "    <tr>\n",
       "      <th>4</th>\n",
       "      <td>[{'uri': ''}]</td>\n",
       "      <td>{'Comment': {'value': 'ð'}, 'Media Owner': ...</td>\n",
       "    </tr>\n",
       "  </tbody>\n",
       "</table>\n",
       "</div>"
      ],
      "text/plain": [
       "  media_list_data                                    string_map_data\n",
       "0   [{'uri': ''}]  {'Comment': {'value': 'Still Funny but the thi...\n",
       "1   [{'uri': ''}]  {'Comment': {'value': '@cassarobrooklin @fanni...\n",
       "2   [{'uri': ''}]  {'Comment': {'value': '@brenden.osully what up...\n",
       "3   [{'uri': ''}]  {'Comment': {'value': 'I will sell my soul to ...\n",
       "4   [{'uri': ''}]  {'Comment': {'value': 'ð'}, 'Media Owner': ..."
      ]
     },
     "execution_count": 21,
     "metadata": {},
     "output_type": "execute_result"
    }
   ],
   "source": [
    "comments_df = pd.DataFrame(comments_mess)\n",
    "comments_df.head()"
   ]
  },
  {
   "cell_type": "code",
   "execution_count": 22,
   "id": "50f4ce99-a5c8-4fd6-a604-e3293f92d2b6",
   "metadata": {},
   "outputs": [
    {
     "data": {
      "text/plain": [
       "{'Comment': {'value': 'I will sell my soul to see you in columbus or Cleveland'},\n",
       " 'Media Owner': {'value': 'hana.stretton'},\n",
       " 'Time': {'timestamp': 1724332914}}"
      ]
     },
     "execution_count": 22,
     "metadata": {},
     "output_type": "execute_result"
    }
   ],
   "source": [
    "comments_df['string_map_data'].iloc[3]"
   ]
  },
  {
   "cell_type": "code",
   "execution_count": 23,
   "id": "27bd135f-f51a-4160-883e-8dc550185cf1",
   "metadata": {},
   "outputs": [
    {
     "data": {
      "text/plain": [
       "dict"
      ]
     },
     "execution_count": 23,
     "metadata": {},
     "output_type": "execute_result"
    }
   ],
   "source": [
    "type(comments_df['string_map_data'].iloc[3])"
   ]
  },
  {
   "cell_type": "code",
   "execution_count": 24,
   "id": "740cac75-7bec-4d51-9dbd-72ef1a80adf9",
   "metadata": {},
   "outputs": [
    {
     "data": {
      "text/plain": [
       "{'value': 'hana.stretton'}"
      ]
     },
     "execution_count": 24,
     "metadata": {},
     "output_type": "execute_result"
    }
   ],
   "source": [
    "comments_df['string_map_data'].iloc[3]['Media Owner']"
   ]
  },
  {
   "cell_type": "code",
   "execution_count": 25,
   "id": "cf934b4b-21d8-47ee-bc21-04e3e977b62a",
   "metadata": {},
   "outputs": [
    {
     "data": {
      "text/html": [
       "<div>\n",
       "<style scoped>\n",
       "    .dataframe tbody tr th:only-of-type {\n",
       "        vertical-align: middle;\n",
       "    }\n",
       "\n",
       "    .dataframe tbody tr th {\n",
       "        vertical-align: top;\n",
       "    }\n",
       "\n",
       "    .dataframe thead th {\n",
       "        text-align: right;\n",
       "    }\n",
       "</style>\n",
       "<table border=\"1\" class=\"dataframe\">\n",
       "  <thead>\n",
       "    <tr style=\"text-align: right;\">\n",
       "      <th></th>\n",
       "      <th>Comment</th>\n",
       "      <th>Media Owner</th>\n",
       "      <th>Time</th>\n",
       "    </tr>\n",
       "  </thead>\n",
       "  <tbody>\n",
       "    <tr>\n",
       "      <th>0</th>\n",
       "      <td>{'value': 'Still Funny but the thingâs got s...</td>\n",
       "      <td>{'value': 'fukkit'}</td>\n",
       "      <td>{'timestamp': 1724628230}</td>\n",
       "    </tr>\n",
       "    <tr>\n",
       "      <th>1</th>\n",
       "      <td>{'value': '@cassarobrooklin @fannie.ketler'}</td>\n",
       "      <td>{'value': 'make_skzstay'}</td>\n",
       "      <td>{'timestamp': 1724627862}</td>\n",
       "    </tr>\n",
       "    <tr>\n",
       "      <th>2</th>\n",
       "      <td>{'value': '@brenden.osully what up dude lol'}</td>\n",
       "      <td>{'value': 'whippermedia'}</td>\n",
       "      <td>{'timestamp': 1724540790}</td>\n",
       "    </tr>\n",
       "    <tr>\n",
       "      <th>3</th>\n",
       "      <td>{'value': 'I will sell my soul to see you in c...</td>\n",
       "      <td>{'value': 'hana.stretton'}</td>\n",
       "      <td>{'timestamp': 1724332914}</td>\n",
       "    </tr>\n",
       "    <tr>\n",
       "      <th>4</th>\n",
       "      <td>{'value': 'ð'}</td>\n",
       "      <td>{'value': 'angelalmatos'}</td>\n",
       "      <td>{'timestamp': 1724078392}</td>\n",
       "    </tr>\n",
       "    <tr>\n",
       "      <th>5</th>\n",
       "      <td>{'value': 'Marylandð'}</td>\n",
       "      <td>{'value': 'tyler__fisk'}</td>\n",
       "      <td>{'timestamp': 1724078218}</td>\n",
       "    </tr>\n",
       "    <tr>\n",
       "      <th>6</th>\n",
       "      <td>{'value': '@_tanasesimona ChatGPT'}</td>\n",
       "      <td>{'value': 'hollywood_magic_hindi'}</td>\n",
       "      <td>{'timestamp': 1724066042}</td>\n",
       "    </tr>\n",
       "    <tr>\n",
       "      <th>7</th>\n",
       "      <td>{'value': 'Aura'}</td>\n",
       "      <td>{'value': 'rashid_carrom_king_555'}</td>\n",
       "      <td>{'timestamp': 1723951124}</td>\n",
       "    </tr>\n",
       "    <tr>\n",
       "      <th>8</th>\n",
       "      <td>{'value': '@themansam1221 how long that take'}</td>\n",
       "      <td>{'value': 'whippermedia'}</td>\n",
       "      <td>{'timestamp': 1723939889}</td>\n",
       "    </tr>\n",
       "    <tr>\n",
       "      <th>9</th>\n",
       "      <td>{'value': 'How do you get brought back up from...</td>\n",
       "      <td>{'value': 'mattlaureault'}</td>\n",
       "      <td>{'timestamp': 1723864899}</td>\n",
       "    </tr>\n",
       "  </tbody>\n",
       "</table>\n",
       "</div>"
      ],
      "text/plain": [
       "                                             Comment  \\\n",
       "0  {'value': 'Still Funny but the thingâs got s...   \n",
       "1       {'value': '@cassarobrooklin @fannie.ketler'}   \n",
       "2      {'value': '@brenden.osully what up dude lol'}   \n",
       "3  {'value': 'I will sell my soul to see you in c...   \n",
       "4                                  {'value': 'ð'}   \n",
       "5                          {'value': 'Marylandð'}   \n",
       "6                {'value': '@_tanasesimona ChatGPT'}   \n",
       "7                                  {'value': 'Aura'}   \n",
       "8     {'value': '@themansam1221 how long that take'}   \n",
       "9  {'value': 'How do you get brought back up from...   \n",
       "\n",
       "                           Media Owner                       Time  \n",
       "0                  {'value': 'fukkit'}  {'timestamp': 1724628230}  \n",
       "1            {'value': 'make_skzstay'}  {'timestamp': 1724627862}  \n",
       "2            {'value': 'whippermedia'}  {'timestamp': 1724540790}  \n",
       "3           {'value': 'hana.stretton'}  {'timestamp': 1724332914}  \n",
       "4            {'value': 'angelalmatos'}  {'timestamp': 1724078392}  \n",
       "5             {'value': 'tyler__fisk'}  {'timestamp': 1724078218}  \n",
       "6   {'value': 'hollywood_magic_hindi'}  {'timestamp': 1724066042}  \n",
       "7  {'value': 'rashid_carrom_king_555'}  {'timestamp': 1723951124}  \n",
       "8            {'value': 'whippermedia'}  {'timestamp': 1723939889}  \n",
       "9           {'value': 'mattlaureault'}  {'timestamp': 1723864899}  "
      ]
     },
     "execution_count": 25,
     "metadata": {},
     "output_type": "execute_result"
    }
   ],
   "source": [
    "tidy_comments = pd.DataFrame([x for x in comments_df['string_map_data']])\n",
    "tidy_comments.head(10)"
   ]
  },
  {
   "cell_type": "code",
   "execution_count": 26,
   "id": "90f3022e-3c7f-463f-a5d6-da852c2a8584",
   "metadata": {},
   "outputs": [
    {
     "data": {
      "text/html": [
       "<div>\n",
       "<style scoped>\n",
       "    .dataframe tbody tr th:only-of-type {\n",
       "        vertical-align: middle;\n",
       "    }\n",
       "\n",
       "    .dataframe tbody tr th {\n",
       "        vertical-align: top;\n",
       "    }\n",
       "\n",
       "    .dataframe thead th {\n",
       "        text-align: right;\n",
       "    }\n",
       "</style>\n",
       "<table border=\"1\" class=\"dataframe\">\n",
       "  <thead>\n",
       "    <tr style=\"text-align: right;\">\n",
       "      <th></th>\n",
       "      <th>Comment</th>\n",
       "      <th>Media Owner</th>\n",
       "      <th>Time</th>\n",
       "    </tr>\n",
       "  </thead>\n",
       "  <tbody>\n",
       "    <tr>\n",
       "      <th>0</th>\n",
       "      <td>{'value': 'Still Funny but the thingâs got s...</td>\n",
       "      <td>{'value': 'fukkit'}</td>\n",
       "      <td>{'timestamp': 1724628230}</td>\n",
       "    </tr>\n",
       "    <tr>\n",
       "      <th>1</th>\n",
       "      <td>{'value': '@cassarobrooklin @fannie.ketler'}</td>\n",
       "      <td>{'value': 'make_skzstay'}</td>\n",
       "      <td>{'timestamp': 1724627862}</td>\n",
       "    </tr>\n",
       "    <tr>\n",
       "      <th>2</th>\n",
       "      <td>{'value': '@brenden.osully what up dude lol'}</td>\n",
       "      <td>{'value': 'whippermedia'}</td>\n",
       "      <td>{'timestamp': 1724540790}</td>\n",
       "    </tr>\n",
       "    <tr>\n",
       "      <th>3</th>\n",
       "      <td>{'value': 'I will sell my soul to see you in c...</td>\n",
       "      <td>{'value': 'hana.stretton'}</td>\n",
       "      <td>{'timestamp': 1724332914}</td>\n",
       "    </tr>\n",
       "    <tr>\n",
       "      <th>4</th>\n",
       "      <td>{'value': 'ð'}</td>\n",
       "      <td>{'value': 'angelalmatos'}</td>\n",
       "      <td>{'timestamp': 1724078392}</td>\n",
       "    </tr>\n",
       "    <tr>\n",
       "      <th>5</th>\n",
       "      <td>{'value': 'Marylandð'}</td>\n",
       "      <td>{'value': 'tyler__fisk'}</td>\n",
       "      <td>{'timestamp': 1724078218}</td>\n",
       "    </tr>\n",
       "    <tr>\n",
       "      <th>6</th>\n",
       "      <td>{'value': '@_tanasesimona ChatGPT'}</td>\n",
       "      <td>{'value': 'hollywood_magic_hindi'}</td>\n",
       "      <td>{'timestamp': 1724066042}</td>\n",
       "    </tr>\n",
       "    <tr>\n",
       "      <th>7</th>\n",
       "      <td>{'value': 'Aura'}</td>\n",
       "      <td>{'value': 'rashid_carrom_king_555'}</td>\n",
       "      <td>{'timestamp': 1723951124}</td>\n",
       "    </tr>\n",
       "    <tr>\n",
       "      <th>8</th>\n",
       "      <td>{'value': '@themansam1221 how long that take'}</td>\n",
       "      <td>{'value': 'whippermedia'}</td>\n",
       "      <td>{'timestamp': 1723939889}</td>\n",
       "    </tr>\n",
       "    <tr>\n",
       "      <th>9</th>\n",
       "      <td>{'value': 'How do you get brought back up from...</td>\n",
       "      <td>{'value': 'mattlaureault'}</td>\n",
       "      <td>{'timestamp': 1723864899}</td>\n",
       "    </tr>\n",
       "  </tbody>\n",
       "</table>\n",
       "</div>"
      ],
      "text/plain": [
       "                                             Comment  \\\n",
       "0  {'value': 'Still Funny but the thingâs got s...   \n",
       "1       {'value': '@cassarobrooklin @fannie.ketler'}   \n",
       "2      {'value': '@brenden.osully what up dude lol'}   \n",
       "3  {'value': 'I will sell my soul to see you in c...   \n",
       "4                                  {'value': 'ð'}   \n",
       "5                          {'value': 'Marylandð'}   \n",
       "6                {'value': '@_tanasesimona ChatGPT'}   \n",
       "7                                  {'value': 'Aura'}   \n",
       "8     {'value': '@themansam1221 how long that take'}   \n",
       "9  {'value': 'How do you get brought back up from...   \n",
       "\n",
       "                           Media Owner                       Time  \n",
       "0                  {'value': 'fukkit'}  {'timestamp': 1724628230}  \n",
       "1            {'value': 'make_skzstay'}  {'timestamp': 1724627862}  \n",
       "2            {'value': 'whippermedia'}  {'timestamp': 1724540790}  \n",
       "3           {'value': 'hana.stretton'}  {'timestamp': 1724332914}  \n",
       "4            {'value': 'angelalmatos'}  {'timestamp': 1724078392}  \n",
       "5             {'value': 'tyler__fisk'}  {'timestamp': 1724078218}  \n",
       "6   {'value': 'hollywood_magic_hindi'}  {'timestamp': 1724066042}  \n",
       "7  {'value': 'rashid_carrom_king_555'}  {'timestamp': 1723951124}  \n",
       "8            {'value': 'whippermedia'}  {'timestamp': 1723939889}  \n",
       "9           {'value': 'mattlaureault'}  {'timestamp': 1723864899}  "
      ]
     },
     "execution_count": 26,
     "metadata": {},
     "output_type": "execute_result"
    }
   ],
   "source": [
    "tidy_comments.groupby('Media Owner')\n",
    "tidy_comments.head(10)"
   ]
  },
  {
   "cell_type": "markdown",
   "id": "5a9ab08d-7896-4cde-b49f-031cec2a9fbf",
   "metadata": {},
   "source": [
    "I've been trying for awhile now but I absolutely cannot figure out how to make 'Media Owner' the first column. I tried the ways we did it with 'Title' in the other file and it keeps outputting the same thing as the unsorted dataframe. When trying to use other things like .sort() and .countby() it always errors."
   ]
  },
  {
   "cell_type": "markdown",
   "id": "e0bd75b9-7ff6-4d6e-a2be-c9f98a819235",
   "metadata": {},
   "source": [
    "The hypothesis i was hoping to be able to prove or prove wrong with this code is that i only engage with posts of peolpe I know or with things I'm interested in. I think this would've proven that wrong, as I comment on a variety of random posts on Instagram."
   ]
  },
  {
   "cell_type": "code",
   "execution_count": 27,
   "id": "f5012398-1749-4438-a47a-7eb0fbb66b64",
   "metadata": {},
   "outputs": [],
   "source": [
    "#comments_df['string_map_data'] = [x-'value: ' for x in comments_df['string_map_data']]\n",
    "#comments_df.head()"
   ]
  },
  {
   "cell_type": "markdown",
   "id": "8e3ccfd5-d904-4b59-9945-92f5087d17bb",
   "metadata": {},
   "source": [
    "As you can see here I was trying to tidy up the values in each column by getting rid of the 'value:' next to every result. This ended up being an error every which way I tried it as well."
   ]
  },
  {
   "cell_type": "markdown",
   "id": "ad34b9dc-fa56-4a09-8d98-77d4895047ac",
   "metadata": {},
   "source": [
    "I believe the .JSON file I picked for this second segment was a little too advanced for my knowledge at the moment, but I tried my best with the knowledge I do have."
   ]
  },
  {
   "cell_type": "code",
   "execution_count": null,
   "id": "390ab79e-896a-4d16-ba90-5d451b07ac37",
   "metadata": {},
   "outputs": [],
   "source": []
  },
  {
   "cell_type": "code",
   "execution_count": null,
   "id": "0e1e81ba-cfcd-43d0-9349-b38600fea8fc",
   "metadata": {},
   "outputs": [],
   "source": []
  },
  {
   "cell_type": "code",
   "execution_count": null,
   "id": "bee676e5-4def-4ddb-952b-595fa66591e9",
   "metadata": {},
   "outputs": [],
   "source": []
  }
 ],
 "metadata": {
  "kernelspec": {
   "display_name": "Python 3 (ipykernel)",
   "language": "python",
   "name": "python3"
  },
  "language_info": {
   "codemirror_mode": {
    "name": "ipython",
    "version": 3
   },
   "file_extension": ".py",
   "mimetype": "text/x-python",
   "name": "python",
   "nbconvert_exporter": "python",
   "pygments_lexer": "ipython3",
   "version": "3.12.4"
  }
 },
 "nbformat": 4,
 "nbformat_minor": 5
}
