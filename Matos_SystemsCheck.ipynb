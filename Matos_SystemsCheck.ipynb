{
 "cells": [
  {
   "cell_type": "markdown",
   "id": "1363ccd9-72f9-4849-b60e-7d0eb913eff6",
   "metadata": {},
   "source": [
    "# _Systems Check_\n",
    "## Noah Matos\n",
    "### 08/22/24\n",
    "\n",
    "_In this class_ I am looking forward to learning more about coding and especially using command-line more, as I find it __interesting__. \n",
    "\n",
    "- __This is a list__\n",
    "- __Wowie cool__\n",
    "- __Wooooooah__\n",
    "\n",
    "\n",
    "![swag](https://encrypted-tbn0.gstatic.com/images?q=tbn:ANd9GcRAXMukVp-JzldKDrRuqzCZSLC6xgM2_n0zGw&s)"
   ]
  }
 ],
 "metadata": {
  "kernelspec": {
   "display_name": "Python 3 (ipykernel)",
   "language": "python",
   "name": "python3"
  },
  "language_info": {
   "codemirror_mode": {
    "name": "ipython",
    "version": 3
   },
   "file_extension": ".py",
   "mimetype": "text/x-python",
   "name": "python",
   "nbconvert_exporter": "python",
   "pygments_lexer": "ipython3",
   "version": "3.12.4"
  }
 },
 "nbformat": 4,
 "nbformat_minor": 5
}
