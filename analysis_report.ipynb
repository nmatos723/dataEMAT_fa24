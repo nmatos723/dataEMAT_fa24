{
 "cells": [
  {
   "cell_type": "markdown",
   "id": "c9ec58d9-8aa0-4f14-9779-41535cbf8854",
   "metadata": {},
   "source": [
    "Noah Matos - November 22 - Analysis Report"
   ]
  },
  {
   "cell_type": "markdown",
   "id": "d88f7956-7b7d-4008-950b-2c6dfd4588ea",
   "metadata": {},
   "source": [
    "Hypothesis: \n",
    "Tracks from Clairo’s album 'Charm' will have higher average valence and energy levels than tracks from 'Sling,'. This could contribute to the popularity of each album. Each album was released in July of their respective release years and I believe this makes them elligible for comparison as they are much different sounding albums"
   ]
  },
  {
   "cell_type": "code",
   "execution_count": 42,
   "id": "72a2d0fd-c6a0-42fb-8ded-b3a0fd1e6d43",
   "metadata": {},
   "outputs": [],
   "source": [
    "import urllib\n",
    "import requests\n",
    "import pandas as pd\n",
    "import json\n",
    "import base64\n",
    "import matplotlib.pyplot as plt\n",
    "import seaborn as sns\n",
    "from scipy import stats\n",
    "import statsmodels.formula.api as smf"
   ]
  },
  {
   "cell_type": "code",
   "execution_count": 43,
   "id": "19c546dd-eeff-4bc9-8b76-e8953584a4ca",
   "metadata": {},
   "outputs": [],
   "source": [
    "def get_session_token(SessionID, SessionKey):\n",
    "    url = 'https://accounts.spotify.com/api/token'\n",
    "    data = {'grant_type':'client_credentials'}\n",
    "    \n",
    "    encoded_key = base64.b64encode(str(SessionID + \":\" + SessionKey).encode(\"ascii\"))\n",
    "    \n",
    "    header = {'Authorization': 'Basic {}'.format(encoded_key.decode(\"ascii\"))}\n",
    "    response = requests.post(url, \n",
    "                             data = data, \n",
    "                             headers = header)\n",
    "   \n",
    "    print(response.status_code)\n",
    "    return response.json()['access_token']"
   ]
  },
  {
   "cell_type": "markdown",
   "id": "5420d9e3-a836-4f2d-a0a7-816740efd582",
   "metadata": {},
   "source": [
    "function that outputs access token to access the api's"
   ]
  },
  {
   "cell_type": "code",
   "execution_count": 44,
   "id": "c4a384ac-949b-4285-821a-7f493450a40a",
   "metadata": {},
   "outputs": [],
   "source": [
    "keys = pd.read_csv(\"/Users/noahmatos/dataEMAT_fa24/Spotify_Keys_9-19-24.txt\")\n",
    "#keys"
   ]
  },
  {
   "cell_type": "code",
   "execution_count": 45,
   "id": "db50196d-0ec5-4d8d-80e0-a1787843a148",
   "metadata": {},
   "outputs": [],
   "source": [
    "#get_session_token(keys['Client_ID'].iloc[0], keys['Client_Secret'].iloc[0])"
   ]
  },
  {
   "cell_type": "code",
   "execution_count": 46,
   "id": "5d958fe3-3dba-4514-8547-26b70e7780e6",
   "metadata": {},
   "outputs": [
    {
     "name": "stdout",
     "output_type": "stream",
     "text": [
      "200\n"
     ]
    }
   ],
   "source": [
    "access_token = get_session_token(keys['Client_ID'].iloc[0], keys['Client_Secret'].iloc[0])\n",
    "#access_token"
   ]
  },
  {
   "cell_type": "code",
   "execution_count": 47,
   "id": "ea18786a-75da-4e88-b478-d383f2d3e46e",
   "metadata": {},
   "outputs": [],
   "source": [
    "t_features_ep = 'https://api.spotify.com/v1/audio-features'\n",
    "albums_ep = 'https://api.spotify.com/v1/albums/{}'\n",
    "tracks_ep = 'https://api.spotify.com/v1/tracks'\n",
    "ab_tracks_ep = 'https://api.spotify.com/v1/albums/{}/tracks'"
   ]
  },
  {
   "cell_type": "code",
   "execution_count": 48,
   "id": "9dc98486-05a4-4975-9f20-4c8a372c9f74",
   "metadata": {},
   "outputs": [],
   "source": [
    "def api_call(endpoint_url, api_header):\n",
    "    response = requests.get(endpoint_url, headers = api_header)\n",
    "    print(response.status_code)\n",
    "    return response.json()"
   ]
  },
  {
   "cell_type": "markdown",
   "id": "eee0bdff-b83c-4fc1-860d-8dba84a1e5f0",
   "metadata": {},
   "source": [
    "this function allows me to pass through the endpoint i want and the session header in order to access the data in that endpoint"
   ]
  },
  {
   "cell_type": "code",
   "execution_count": 49,
   "id": "4a32bbce-0a4d-45d0-af5d-8105d0891012",
   "metadata": {},
   "outputs": [],
   "source": [
    "session_header = {'Authorization': 'Bearer {}'.format(access_token)}"
   ]
  },
  {
   "cell_type": "code",
   "execution_count": 50,
   "id": "693e81f6-488f-45a3-b8f1-dbcbe1eab020",
   "metadata": {},
   "outputs": [],
   "source": [
    "sling_album_id = '32ium7Cxb1Xwp2MLzH2459'\n",
    "charm_album_id = '1KNUCVXgIxKUGiuEB8eG0i'"
   ]
  },
  {
   "cell_type": "markdown",
   "id": "685f1287-fc41-43e3-af9e-721d9c4ee2af",
   "metadata": {},
   "source": [
    "this defines the album id's for each album to be passed through when using the api_call function"
   ]
  },
  {
   "cell_type": "code",
   "execution_count": 51,
   "id": "fb885637-81c8-48c1-a199-faea9645f406",
   "metadata": {},
   "outputs": [
    {
     "data": {
      "text/plain": [
       "'https://api.spotify.com/v1/albums/32ium7Cxb1Xwp2MLzH2459/tracks'"
      ]
     },
     "execution_count": 51,
     "metadata": {},
     "output_type": "execute_result"
    }
   ],
   "source": [
    "ab_tracks_ep.format(sling_album_id)"
   ]
  },
  {
   "cell_type": "code",
   "execution_count": 52,
   "id": "f3556202-d2e2-4cfe-af5b-9e4b7844de20",
   "metadata": {},
   "outputs": [
    {
     "data": {
      "text/plain": [
       "'https://api.spotify.com/v1/albums/1KNUCVXgIxKUGiuEB8eG0i/tracks'"
      ]
     },
     "execution_count": 52,
     "metadata": {},
     "output_type": "execute_result"
    }
   ],
   "source": [
    "ab_tracks_ep.format(charm_album_id)"
   ]
  },
  {
   "cell_type": "code",
   "execution_count": 53,
   "id": "cf046e12-f88f-406c-b3d8-209dd4091873",
   "metadata": {},
   "outputs": [
    {
     "name": "stdout",
     "output_type": "stream",
     "text": [
      "200\n",
      "200\n"
     ]
    }
   ],
   "source": [
    "sling_album_response = api_call(ab_tracks_ep.format(sling_album_id),session_header)\n",
    "charm_album_response = api_call(ab_tracks_ep.format(charm_album_id),session_header)"
   ]
  },
  {
   "cell_type": "markdown",
   "id": "d92b6e6c-10d6-4b99-8b07-34770a2fb04b",
   "metadata": {},
   "source": [
    "the album reponse variables allow me to access the album tracks endpoint and parse that data"
   ]
  },
  {
   "cell_type": "markdown",
   "id": "9838a1e1-a1ca-47b7-9146-b257557c052a",
   "metadata": {},
   "source": [
    "going to be focusing on sling first"
   ]
  },
  {
   "cell_type": "code",
   "execution_count": 54,
   "id": "ba34c7a0-9133-424b-bf39-79f299ce80e2",
   "metadata": {},
   "outputs": [
    {
     "data": {
      "text/plain": [
       "dict_keys(['href', 'items', 'limit', 'next', 'offset', 'previous', 'total'])"
      ]
     },
     "execution_count": 54,
     "metadata": {},
     "output_type": "execute_result"
    }
   ],
   "source": [
    "sling_album_response.keys()"
   ]
  },
  {
   "cell_type": "code",
   "execution_count": 55,
   "id": "c5681449-df6f-4a43-a734-640f6c1d68ef",
   "metadata": {},
   "outputs": [],
   "source": [
    "sling_album_df = pd.DataFrame(sling_album_response['items'])\n",
    "#sling_album_df.head()"
   ]
  },
  {
   "cell_type": "code",
   "execution_count": 56,
   "id": "9ba28809-b8ed-4d89-aae3-ae5cb481d4cc",
   "metadata": {},
   "outputs": [],
   "source": [
    "charm_album_df = pd.DataFrame(charm_album_response['items'])\n",
    "#charm_album_df.head()"
   ]
  },
  {
   "cell_type": "markdown",
   "id": "1c82d06b-09de-4ddb-905b-772c64591143",
   "metadata": {},
   "source": [
    "intial untidy dataframes of each album tracks endpoint"
   ]
  },
  {
   "cell_type": "code",
   "execution_count": 57,
   "id": "9f216db0-6e7e-4543-a52d-dbfb22d46d41",
   "metadata": {},
   "outputs": [
    {
     "data": {
      "text/plain": [
       "'6wQXjA6KWbwPT3ydQCsJ4P,0HAqq2GcQKyi3s87GuN7jU,4iBtktPvH4yfS5LR6oAQT1,67bSS4aLrasUNp3EQjdHTT,7brBeAX3RT0CMh3qbTBrIP,6VyCMQf7wZyZF4j9368HGK,57VAuR1WgKFzcpO3ujQx9A,63O4CpEtppRmeOZ89Fb8tn,1bCFgapvqHqqcuQXgnP94L,2P0qa2otcQdjrnypyueuJl,3Gjj8LeMagv4Ou2p7kgQHT,6IemSJkHc0EHmGPRnxamG5'"
      ]
     },
     "execution_count": 57,
     "metadata": {},
     "output_type": "execute_result"
    }
   ],
   "source": [
    "sling_track_ids = ','.join(sling_album_df['id'].to_list())\n",
    "charm_track_ids = ','.join(charm_album_df['id'].to_list())\n",
    "sling_track_ids"
   ]
  },
  {
   "cell_type": "markdown",
   "id": "df4cb8f0-ac3a-4d98-9268-41b427527495",
   "metadata": {},
   "source": [
    "puts the track ids of each album into a string list in order to pass through api_call"
   ]
  },
  {
   "cell_type": "code",
   "execution_count": 58,
   "id": "208b1b1a-5c37-4663-8ba1-75ad2574914e",
   "metadata": {},
   "outputs": [
    {
     "data": {
      "text/plain": [
       "'https://api.spotify.com/v1/audio-features?ids=4WJPxTsvWIdRZ9vMtqk7fj,3awweDjWIuXNMogMClJnvE,7cFwopK7QTOgaEwF9JgipA,2qmmnbJ9JR3f7vofbyje5r,0mMlo76aVZHpuvoR6fjBSK,32fwe7MW5koort1Ua3YFx6,2mWfVxEo4xZYDaz0v7hYrN,6FcDxtnGfsYHOcGkXN2OIG,6QlSPjiXHc1XwGKeEls6Gh,4JLBaHFkjxnbf9X0D8G3zQ,3lnEcmIHlkeqcgDiZ5cgN3'"
      ]
     },
     "execution_count": 58,
     "metadata": {},
     "output_type": "execute_result"
    }
   ],
   "source": [
    "t_features_ep + '?ids={}'.format(sling_track_ids)\n",
    "t_features_ep + '?ids={}'.format(charm_track_ids)"
   ]
  },
  {
   "cell_type": "markdown",
   "id": "89278110-567a-4cc4-878d-224899428d2e",
   "metadata": {},
   "source": [
    "adds each track id to the track features endpoint in order for them all to be passed through to the api_call function, which is what i do next"
   ]
  },
  {
   "cell_type": "code",
   "execution_count": 59,
   "id": "fff75afd-d0b2-4bde-adb5-042dba037eed",
   "metadata": {},
   "outputs": [
    {
     "name": "stdout",
     "output_type": "stream",
     "text": [
      "200\n",
      "200\n"
     ]
    }
   ],
   "source": [
    "sling_track_features = api_call(t_features_ep + '?ids={}'.format(sling_track_ids),\n",
    "                             session_header)\n",
    "charm_track_features = api_call(t_features_ep + '?ids={}'.format(charm_track_ids),\n",
    "                             session_header)"
   ]
  },
  {
   "cell_type": "markdown",
   "id": "ec9880f5-ce51-40be-9ebd-e74bbb5bb226",
   "metadata": {},
   "source": [
    "passses track features and each track id through api_call in order to parse through the audio features data for each album"
   ]
  },
  {
   "cell_type": "code",
   "execution_count": 60,
   "id": "89b5efce-d91e-4bc1-ac43-efa0087f1f0f",
   "metadata": {},
   "outputs": [],
   "source": [
    "sling_features_df = pd.DataFrame(sling_track_features['audio_features'])\n",
    "#sling_features_df"
   ]
  },
  {
   "cell_type": "code",
   "execution_count": 61,
   "id": "f02fc6a9-c71f-45c5-94bc-f85f5c00b881",
   "metadata": {},
   "outputs": [],
   "source": [
    "charm_features_df = pd.DataFrame(charm_track_features['audio_features'])\n",
    "#charm_features_df"
   ]
  },
  {
   "cell_type": "markdown",
   "id": "a373e6fa-1f9f-4b47-908d-0509ea16537e",
   "metadata": {},
   "source": [
    "initial untidy dataframes of the track features of each album"
   ]
  },
  {
   "cell_type": "code",
   "execution_count": 62,
   "id": "4ecca051-c3d0-466b-b18f-4d680bb09063",
   "metadata": {},
   "outputs": [
    {
     "name": "stdout",
     "output_type": "stream",
     "text": [
      "200\n",
      "200\n"
     ]
    }
   ],
   "source": [
    "sling_track_info = api_call(tracks_ep + '?market=US&ids={}'.format(sling_track_ids),\n",
    "                             session_header)\n",
    "charm_track_info = api_call(tracks_ep + '?market=US&ids={}'.format(charm_track_ids),\n",
    "                             session_header)"
   ]
  },
  {
   "cell_type": "code",
   "execution_count": 63,
   "id": "9ea1b9b6-f017-4bff-9ee2-ea39b9379264",
   "metadata": {},
   "outputs": [
    {
     "data": {
      "text/html": [
       "<div>\n",
       "<style scoped>\n",
       "    .dataframe tbody tr th:only-of-type {\n",
       "        vertical-align: middle;\n",
       "    }\n",
       "\n",
       "    .dataframe tbody tr th {\n",
       "        vertical-align: top;\n",
       "    }\n",
       "\n",
       "    .dataframe thead th {\n",
       "        text-align: right;\n",
       "    }\n",
       "</style>\n",
       "<table border=\"1\" class=\"dataframe\">\n",
       "  <thead>\n",
       "    <tr style=\"text-align: right;\">\n",
       "      <th></th>\n",
       "      <th>album</th>\n",
       "      <th>artists</th>\n",
       "      <th>disc_number</th>\n",
       "      <th>duration_ms</th>\n",
       "      <th>explicit</th>\n",
       "      <th>external_ids</th>\n",
       "      <th>external_urls</th>\n",
       "      <th>href</th>\n",
       "      <th>id</th>\n",
       "      <th>is_local</th>\n",
       "      <th>is_playable</th>\n",
       "      <th>name</th>\n",
       "      <th>popularity</th>\n",
       "      <th>preview_url</th>\n",
       "      <th>track_number</th>\n",
       "      <th>type</th>\n",
       "      <th>uri</th>\n",
       "    </tr>\n",
       "  </thead>\n",
       "  <tbody>\n",
       "    <tr>\n",
       "      <th>0</th>\n",
       "      <td>{'album_type': 'album', 'artists': [{'external...</td>\n",
       "      <td>[{'external_urls': {'spotify': 'https://open.s...</td>\n",
       "      <td>1</td>\n",
       "      <td>277400</td>\n",
       "      <td>False</td>\n",
       "      <td>{'isrc': 'USUG12101890'}</td>\n",
       "      <td>{'spotify': 'https://open.spotify.com/track/6w...</td>\n",
       "      <td>https://api.spotify.com/v1/tracks/6wQXjA6KWbwP...</td>\n",
       "      <td>6wQXjA6KWbwPT3ydQCsJ4P</td>\n",
       "      <td>False</td>\n",
       "      <td>True</td>\n",
       "      <td>Bambi</td>\n",
       "      <td>55</td>\n",
       "      <td>None</td>\n",
       "      <td>1</td>\n",
       "      <td>track</td>\n",
       "      <td>spotify:track:6wQXjA6KWbwPT3ydQCsJ4P</td>\n",
       "    </tr>\n",
       "    <tr>\n",
       "      <th>1</th>\n",
       "      <td>{'album_type': 'album', 'artists': [{'external...</td>\n",
       "      <td>[{'external_urls': {'spotify': 'https://open.s...</td>\n",
       "      <td>1</td>\n",
       "      <td>228922</td>\n",
       "      <td>False</td>\n",
       "      <td>{'isrc': 'USUG12101891'}</td>\n",
       "      <td>{'spotify': 'https://open.spotify.com/track/0H...</td>\n",
       "      <td>https://api.spotify.com/v1/tracks/0HAqq2GcQKyi...</td>\n",
       "      <td>0HAqq2GcQKyi3s87GuN7jU</td>\n",
       "      <td>False</td>\n",
       "      <td>True</td>\n",
       "      <td>Amoeba</td>\n",
       "      <td>71</td>\n",
       "      <td>None</td>\n",
       "      <td>2</td>\n",
       "      <td>track</td>\n",
       "      <td>spotify:track:0HAqq2GcQKyi3s87GuN7jU</td>\n",
       "    </tr>\n",
       "    <tr>\n",
       "      <th>2</th>\n",
       "      <td>{'album_type': 'album', 'artists': [{'external...</td>\n",
       "      <td>[{'external_urls': {'spotify': 'https://open.s...</td>\n",
       "      <td>1</td>\n",
       "      <td>193677</td>\n",
       "      <td>False</td>\n",
       "      <td>{'isrc': 'USUG12101892'}</td>\n",
       "      <td>{'spotify': 'https://open.spotify.com/track/4i...</td>\n",
       "      <td>https://api.spotify.com/v1/tracks/4iBtktPvH4yf...</td>\n",
       "      <td>4iBtktPvH4yfS5LR6oAQT1</td>\n",
       "      <td>False</td>\n",
       "      <td>True</td>\n",
       "      <td>Partridge</td>\n",
       "      <td>52</td>\n",
       "      <td>None</td>\n",
       "      <td>3</td>\n",
       "      <td>track</td>\n",
       "      <td>spotify:track:4iBtktPvH4yfS5LR6oAQT1</td>\n",
       "    </tr>\n",
       "    <tr>\n",
       "      <th>3</th>\n",
       "      <td>{'album_type': 'album', 'artists': [{'external...</td>\n",
       "      <td>[{'external_urls': {'spotify': 'https://open.s...</td>\n",
       "      <td>1</td>\n",
       "      <td>174765</td>\n",
       "      <td>False</td>\n",
       "      <td>{'isrc': 'USUG12101893'}</td>\n",
       "      <td>{'spotify': 'https://open.spotify.com/track/67...</td>\n",
       "      <td>https://api.spotify.com/v1/tracks/67bSS4aLrasU...</td>\n",
       "      <td>67bSS4aLrasUNp3EQjdHTT</td>\n",
       "      <td>False</td>\n",
       "      <td>True</td>\n",
       "      <td>Zinnias</td>\n",
       "      <td>49</td>\n",
       "      <td>None</td>\n",
       "      <td>4</td>\n",
       "      <td>track</td>\n",
       "      <td>spotify:track:67bSS4aLrasUNp3EQjdHTT</td>\n",
       "    </tr>\n",
       "    <tr>\n",
       "      <th>4</th>\n",
       "      <td>{'album_type': 'album', 'artists': [{'external...</td>\n",
       "      <td>[{'external_urls': {'spotify': 'https://open.s...</td>\n",
       "      <td>1</td>\n",
       "      <td>195376</td>\n",
       "      <td>False</td>\n",
       "      <td>{'isrc': 'USUG12101894'}</td>\n",
       "      <td>{'spotify': 'https://open.spotify.com/track/7b...</td>\n",
       "      <td>https://api.spotify.com/v1/tracks/7brBeAX3RT0C...</td>\n",
       "      <td>7brBeAX3RT0CMh3qbTBrIP</td>\n",
       "      <td>False</td>\n",
       "      <td>True</td>\n",
       "      <td>Blouse</td>\n",
       "      <td>54</td>\n",
       "      <td>None</td>\n",
       "      <td>5</td>\n",
       "      <td>track</td>\n",
       "      <td>spotify:track:7brBeAX3RT0CMh3qbTBrIP</td>\n",
       "    </tr>\n",
       "  </tbody>\n",
       "</table>\n",
       "</div>"
      ],
      "text/plain": [
       "                                               album  \\\n",
       "0  {'album_type': 'album', 'artists': [{'external...   \n",
       "1  {'album_type': 'album', 'artists': [{'external...   \n",
       "2  {'album_type': 'album', 'artists': [{'external...   \n",
       "3  {'album_type': 'album', 'artists': [{'external...   \n",
       "4  {'album_type': 'album', 'artists': [{'external...   \n",
       "\n",
       "                                             artists  disc_number  \\\n",
       "0  [{'external_urls': {'spotify': 'https://open.s...            1   \n",
       "1  [{'external_urls': {'spotify': 'https://open.s...            1   \n",
       "2  [{'external_urls': {'spotify': 'https://open.s...            1   \n",
       "3  [{'external_urls': {'spotify': 'https://open.s...            1   \n",
       "4  [{'external_urls': {'spotify': 'https://open.s...            1   \n",
       "\n",
       "   duration_ms  explicit              external_ids  \\\n",
       "0       277400     False  {'isrc': 'USUG12101890'}   \n",
       "1       228922     False  {'isrc': 'USUG12101891'}   \n",
       "2       193677     False  {'isrc': 'USUG12101892'}   \n",
       "3       174765     False  {'isrc': 'USUG12101893'}   \n",
       "4       195376     False  {'isrc': 'USUG12101894'}   \n",
       "\n",
       "                                       external_urls  \\\n",
       "0  {'spotify': 'https://open.spotify.com/track/6w...   \n",
       "1  {'spotify': 'https://open.spotify.com/track/0H...   \n",
       "2  {'spotify': 'https://open.spotify.com/track/4i...   \n",
       "3  {'spotify': 'https://open.spotify.com/track/67...   \n",
       "4  {'spotify': 'https://open.spotify.com/track/7b...   \n",
       "\n",
       "                                                href                      id  \\\n",
       "0  https://api.spotify.com/v1/tracks/6wQXjA6KWbwP...  6wQXjA6KWbwPT3ydQCsJ4P   \n",
       "1  https://api.spotify.com/v1/tracks/0HAqq2GcQKyi...  0HAqq2GcQKyi3s87GuN7jU   \n",
       "2  https://api.spotify.com/v1/tracks/4iBtktPvH4yf...  4iBtktPvH4yfS5LR6oAQT1   \n",
       "3  https://api.spotify.com/v1/tracks/67bSS4aLrasU...  67bSS4aLrasUNp3EQjdHTT   \n",
       "4  https://api.spotify.com/v1/tracks/7brBeAX3RT0C...  7brBeAX3RT0CMh3qbTBrIP   \n",
       "\n",
       "   is_local  is_playable       name  popularity preview_url  track_number  \\\n",
       "0     False         True      Bambi          55        None             1   \n",
       "1     False         True     Amoeba          71        None             2   \n",
       "2     False         True  Partridge          52        None             3   \n",
       "3     False         True    Zinnias          49        None             4   \n",
       "4     False         True     Blouse          54        None             5   \n",
       "\n",
       "    type                                   uri  \n",
       "0  track  spotify:track:6wQXjA6KWbwPT3ydQCsJ4P  \n",
       "1  track  spotify:track:0HAqq2GcQKyi3s87GuN7jU  \n",
       "2  track  spotify:track:4iBtktPvH4yfS5LR6oAQT1  \n",
       "3  track  spotify:track:67bSS4aLrasUNp3EQjdHTT  \n",
       "4  track  spotify:track:7brBeAX3RT0CMh3qbTBrIP  "
      ]
     },
     "execution_count": 63,
     "metadata": {},
     "output_type": "execute_result"
    }
   ],
   "source": [
    "sling_info_df = pd.DataFrame(sling_track_info['tracks'])\n",
    "sling_info_df.head()"
   ]
  },
  {
   "cell_type": "code",
   "execution_count": 64,
   "id": "b021d913-1f5e-40a1-a941-9c76c2130592",
   "metadata": {},
   "outputs": [
    {
     "data": {
      "text/html": [
       "<div>\n",
       "<style scoped>\n",
       "    .dataframe tbody tr th:only-of-type {\n",
       "        vertical-align: middle;\n",
       "    }\n",
       "\n",
       "    .dataframe tbody tr th {\n",
       "        vertical-align: top;\n",
       "    }\n",
       "\n",
       "    .dataframe thead th {\n",
       "        text-align: right;\n",
       "    }\n",
       "</style>\n",
       "<table border=\"1\" class=\"dataframe\">\n",
       "  <thead>\n",
       "    <tr style=\"text-align: right;\">\n",
       "      <th></th>\n",
       "      <th>album</th>\n",
       "      <th>artists</th>\n",
       "      <th>disc_number</th>\n",
       "      <th>duration_ms</th>\n",
       "      <th>explicit</th>\n",
       "      <th>external_ids</th>\n",
       "      <th>external_urls</th>\n",
       "      <th>href</th>\n",
       "      <th>id</th>\n",
       "      <th>is_local</th>\n",
       "      <th>is_playable</th>\n",
       "      <th>name</th>\n",
       "      <th>popularity</th>\n",
       "      <th>preview_url</th>\n",
       "      <th>track_number</th>\n",
       "      <th>type</th>\n",
       "      <th>uri</th>\n",
       "    </tr>\n",
       "  </thead>\n",
       "  <tbody>\n",
       "    <tr>\n",
       "      <th>0</th>\n",
       "      <td>{'album_type': 'album', 'artists': [{'external...</td>\n",
       "      <td>[{'external_urls': {'spotify': 'https://open.s...</td>\n",
       "      <td>1</td>\n",
       "      <td>225572</td>\n",
       "      <td>False</td>\n",
       "      <td>{'isrc': 'USA2P2416223'}</td>\n",
       "      <td>{'spotify': 'https://open.spotify.com/track/4W...</td>\n",
       "      <td>https://api.spotify.com/v1/tracks/4WJPxTsvWIdR...</td>\n",
       "      <td>4WJPxTsvWIdRZ9vMtqk7fj</td>\n",
       "      <td>False</td>\n",
       "      <td>True</td>\n",
       "      <td>Nomad</td>\n",
       "      <td>66</td>\n",
       "      <td>https://p.scdn.co/mp3-preview/d7f0b59404db6116...</td>\n",
       "      <td>1</td>\n",
       "      <td>track</td>\n",
       "      <td>spotify:track:4WJPxTsvWIdRZ9vMtqk7fj</td>\n",
       "    </tr>\n",
       "    <tr>\n",
       "      <th>1</th>\n",
       "      <td>{'album_type': 'album', 'artists': [{'external...</td>\n",
       "      <td>[{'external_urls': {'spotify': 'https://open.s...</td>\n",
       "      <td>1</td>\n",
       "      <td>207795</td>\n",
       "      <td>False</td>\n",
       "      <td>{'isrc': 'USA2P2416224'}</td>\n",
       "      <td>{'spotify': 'https://open.spotify.com/track/3a...</td>\n",
       "      <td>https://api.spotify.com/v1/tracks/3awweDjWIuXN...</td>\n",
       "      <td>3awweDjWIuXNMogMClJnvE</td>\n",
       "      <td>False</td>\n",
       "      <td>True</td>\n",
       "      <td>Sexy to Someone</td>\n",
       "      <td>72</td>\n",
       "      <td>https://p.scdn.co/mp3-preview/fd77356af12fe7e2...</td>\n",
       "      <td>2</td>\n",
       "      <td>track</td>\n",
       "      <td>spotify:track:3awweDjWIuXNMogMClJnvE</td>\n",
       "    </tr>\n",
       "    <tr>\n",
       "      <th>2</th>\n",
       "      <td>{'album_type': 'album', 'artists': [{'external...</td>\n",
       "      <td>[{'external_urls': {'spotify': 'https://open.s...</td>\n",
       "      <td>1</td>\n",
       "      <td>227409</td>\n",
       "      <td>False</td>\n",
       "      <td>{'isrc': 'USA2P2416225'}</td>\n",
       "      <td>{'spotify': 'https://open.spotify.com/track/7c...</td>\n",
       "      <td>https://api.spotify.com/v1/tracks/7cFwopK7QTOg...</td>\n",
       "      <td>7cFwopK7QTOgaEwF9JgipA</td>\n",
       "      <td>False</td>\n",
       "      <td>True</td>\n",
       "      <td>Second Nature</td>\n",
       "      <td>66</td>\n",
       "      <td>https://p.scdn.co/mp3-preview/811adc83124d3dce...</td>\n",
       "      <td>3</td>\n",
       "      <td>track</td>\n",
       "      <td>spotify:track:7cFwopK7QTOgaEwF9JgipA</td>\n",
       "    </tr>\n",
       "    <tr>\n",
       "      <th>3</th>\n",
       "      <td>{'album_type': 'album', 'artists': [{'external...</td>\n",
       "      <td>[{'external_urls': {'spotify': 'https://open.s...</td>\n",
       "      <td>1</td>\n",
       "      <td>234853</td>\n",
       "      <td>False</td>\n",
       "      <td>{'isrc': 'USA2P2416226'}</td>\n",
       "      <td>{'spotify': 'https://open.spotify.com/track/2q...</td>\n",
       "      <td>https://api.spotify.com/v1/tracks/2qmmnbJ9JR3f...</td>\n",
       "      <td>2qmmnbJ9JR3f7vofbyje5r</td>\n",
       "      <td>False</td>\n",
       "      <td>True</td>\n",
       "      <td>Slow Dance</td>\n",
       "      <td>67</td>\n",
       "      <td>https://p.scdn.co/mp3-preview/2897ab3e11a54e14...</td>\n",
       "      <td>4</td>\n",
       "      <td>track</td>\n",
       "      <td>spotify:track:2qmmnbJ9JR3f7vofbyje5r</td>\n",
       "    </tr>\n",
       "    <tr>\n",
       "      <th>4</th>\n",
       "      <td>{'album_type': 'album', 'artists': [{'external...</td>\n",
       "      <td>[{'external_urls': {'spotify': 'https://open.s...</td>\n",
       "      <td>1</td>\n",
       "      <td>205069</td>\n",
       "      <td>False</td>\n",
       "      <td>{'isrc': 'USA2P2416227'}</td>\n",
       "      <td>{'spotify': 'https://open.spotify.com/track/0m...</td>\n",
       "      <td>https://api.spotify.com/v1/tracks/0mMlo76aVZHp...</td>\n",
       "      <td>0mMlo76aVZHpuvoR6fjBSK</td>\n",
       "      <td>False</td>\n",
       "      <td>True</td>\n",
       "      <td>Thank You</td>\n",
       "      <td>64</td>\n",
       "      <td>https://p.scdn.co/mp3-preview/9a4096a287e641a9...</td>\n",
       "      <td>5</td>\n",
       "      <td>track</td>\n",
       "      <td>spotify:track:0mMlo76aVZHpuvoR6fjBSK</td>\n",
       "    </tr>\n",
       "  </tbody>\n",
       "</table>\n",
       "</div>"
      ],
      "text/plain": [
       "                                               album  \\\n",
       "0  {'album_type': 'album', 'artists': [{'external...   \n",
       "1  {'album_type': 'album', 'artists': [{'external...   \n",
       "2  {'album_type': 'album', 'artists': [{'external...   \n",
       "3  {'album_type': 'album', 'artists': [{'external...   \n",
       "4  {'album_type': 'album', 'artists': [{'external...   \n",
       "\n",
       "                                             artists  disc_number  \\\n",
       "0  [{'external_urls': {'spotify': 'https://open.s...            1   \n",
       "1  [{'external_urls': {'spotify': 'https://open.s...            1   \n",
       "2  [{'external_urls': {'spotify': 'https://open.s...            1   \n",
       "3  [{'external_urls': {'spotify': 'https://open.s...            1   \n",
       "4  [{'external_urls': {'spotify': 'https://open.s...            1   \n",
       "\n",
       "   duration_ms  explicit              external_ids  \\\n",
       "0       225572     False  {'isrc': 'USA2P2416223'}   \n",
       "1       207795     False  {'isrc': 'USA2P2416224'}   \n",
       "2       227409     False  {'isrc': 'USA2P2416225'}   \n",
       "3       234853     False  {'isrc': 'USA2P2416226'}   \n",
       "4       205069     False  {'isrc': 'USA2P2416227'}   \n",
       "\n",
       "                                       external_urls  \\\n",
       "0  {'spotify': 'https://open.spotify.com/track/4W...   \n",
       "1  {'spotify': 'https://open.spotify.com/track/3a...   \n",
       "2  {'spotify': 'https://open.spotify.com/track/7c...   \n",
       "3  {'spotify': 'https://open.spotify.com/track/2q...   \n",
       "4  {'spotify': 'https://open.spotify.com/track/0m...   \n",
       "\n",
       "                                                href                      id  \\\n",
       "0  https://api.spotify.com/v1/tracks/4WJPxTsvWIdR...  4WJPxTsvWIdRZ9vMtqk7fj   \n",
       "1  https://api.spotify.com/v1/tracks/3awweDjWIuXN...  3awweDjWIuXNMogMClJnvE   \n",
       "2  https://api.spotify.com/v1/tracks/7cFwopK7QTOg...  7cFwopK7QTOgaEwF9JgipA   \n",
       "3  https://api.spotify.com/v1/tracks/2qmmnbJ9JR3f...  2qmmnbJ9JR3f7vofbyje5r   \n",
       "4  https://api.spotify.com/v1/tracks/0mMlo76aVZHp...  0mMlo76aVZHpuvoR6fjBSK   \n",
       "\n",
       "   is_local  is_playable             name  popularity  \\\n",
       "0     False         True            Nomad          66   \n",
       "1     False         True  Sexy to Someone          72   \n",
       "2     False         True    Second Nature          66   \n",
       "3     False         True       Slow Dance          67   \n",
       "4     False         True        Thank You          64   \n",
       "\n",
       "                                         preview_url  track_number   type  \\\n",
       "0  https://p.scdn.co/mp3-preview/d7f0b59404db6116...             1  track   \n",
       "1  https://p.scdn.co/mp3-preview/fd77356af12fe7e2...             2  track   \n",
       "2  https://p.scdn.co/mp3-preview/811adc83124d3dce...             3  track   \n",
       "3  https://p.scdn.co/mp3-preview/2897ab3e11a54e14...             4  track   \n",
       "4  https://p.scdn.co/mp3-preview/9a4096a287e641a9...             5  track   \n",
       "\n",
       "                                    uri  \n",
       "0  spotify:track:4WJPxTsvWIdRZ9vMtqk7fj  \n",
       "1  spotify:track:3awweDjWIuXNMogMClJnvE  \n",
       "2  spotify:track:7cFwopK7QTOgaEwF9JgipA  \n",
       "3  spotify:track:2qmmnbJ9JR3f7vofbyje5r  \n",
       "4  spotify:track:0mMlo76aVZHpuvoR6fjBSK  "
      ]
     },
     "execution_count": 64,
     "metadata": {},
     "output_type": "execute_result"
    }
   ],
   "source": [
    "charm_info_df = pd.DataFrame(charm_track_info['tracks'])\n",
    "charm_info_df.head()"
   ]
  },
  {
   "cell_type": "markdown",
   "id": "fba17570-05c0-46d7-be79-ada7c033574e",
   "metadata": {},
   "source": [
    "this is the intial untidy dataframe for the track info of each album\n",
    "\n",
    "next it is time to merge the two and tidy them up"
   ]
  },
  {
   "cell_type": "code",
   "execution_count": 65,
   "id": "f8a64837-d902-4139-a3d0-21b6f20e85d6",
   "metadata": {},
   "outputs": [],
   "source": [
    "sling_merged = pd.merge(sling_features_df, sling_info_df,\n",
    "                        how = 'inner', on = 'id')\n",
    "#sling_merged"
   ]
  },
  {
   "cell_type": "markdown",
   "id": "86690115-6d38-4b1d-bdde-daae6fc85f84",
   "metadata": {},
   "source": [
    "merges the track features and track info dataframes of sling into one dataframe"
   ]
  },
  {
   "cell_type": "code",
   "execution_count": 66,
   "id": "fa67d08f-7030-4f55-b3ef-a0a9e6cc0538",
   "metadata": {},
   "outputs": [],
   "source": [
    "charm_merged = pd.merge(charm_features_df, charm_info_df,\n",
    "                        how = 'inner', on = 'id')\n",
    "#charm_merged"
   ]
  },
  {
   "cell_type": "markdown",
   "id": "67d403b5-9fec-494f-bd87-a7ace36905ae",
   "metadata": {},
   "source": [
    "merges the track features and track info dataframes of charm into one dataframe"
   ]
  },
  {
   "cell_type": "code",
   "execution_count": 67,
   "id": "662f45f7-87d8-4728-94db-6a6cfd181467",
   "metadata": {},
   "outputs": [
    {
     "data": {
      "text/plain": [
       "Index(['danceability', 'energy', 'key', 'loudness', 'mode', 'speechiness',\n",
       "       'acousticness', 'instrumentalness', 'liveness', 'valence', 'tempo',\n",
       "       'type_x', 'id', 'uri_x', 'track_href', 'analysis_url', 'duration_ms_x',\n",
       "       'time_signature', 'album', 'artists', 'disc_number', 'duration_ms_y',\n",
       "       'explicit', 'external_ids', 'external_urls', 'href', 'is_local',\n",
       "       'is_playable', 'name', 'popularity', 'preview_url', 'track_number',\n",
       "       'type_y', 'uri_y'],\n",
       "      dtype='object')"
      ]
     },
     "execution_count": 67,
     "metadata": {},
     "output_type": "execute_result"
    }
   ],
   "source": [
    "sling_merged.columns"
   ]
  },
  {
   "cell_type": "code",
   "execution_count": 68,
   "id": "c272ef77-8bff-4a7c-81db-a9afe39417da",
   "metadata": {},
   "outputs": [],
   "source": [
    "sling_merged['albums'] = \"Sling\"\n",
    "charm_merged['albums'] = \"Charm\""
   ]
  },
  {
   "cell_type": "markdown",
   "id": "1139d0bd-58d7-4e15-af2c-aa88ff11c25c",
   "metadata": {},
   "source": [
    "adding an album distinguisher column because the 'album' property in the columns doesn't show up in the dataframe for reasons unknown to me"
   ]
  },
  {
   "cell_type": "code",
   "execution_count": 69,
   "id": "4aad517c-306c-4fb4-9818-7af256b91cde",
   "metadata": {},
   "outputs": [
    {
     "data": {
      "text/plain": [
       "Index(['danceability', 'energy', 'key', 'loudness', 'mode', 'speechiness',\n",
       "       'acousticness', 'instrumentalness', 'liveness', 'valence', 'tempo',\n",
       "       'type_x', 'id', 'uri_x', 'track_href', 'analysis_url', 'duration_ms_x',\n",
       "       'time_signature', 'album', 'artists', 'disc_number', 'duration_ms_y',\n",
       "       'explicit', 'external_ids', 'external_urls', 'href', 'is_local',\n",
       "       'is_playable', 'name', 'popularity', 'preview_url', 'track_number',\n",
       "       'type_y', 'uri_y', 'albums'],\n",
       "      dtype='object')"
      ]
     },
     "execution_count": 69,
     "metadata": {},
     "output_type": "execute_result"
    }
   ],
   "source": [
    "sling_merged.columns"
   ]
  },
  {
   "cell_type": "code",
   "execution_count": 70,
   "id": "ab3ce994-f66d-4f1f-85df-4e7493574058",
   "metadata": {},
   "outputs": [
    {
     "data": {
      "text/plain": [
       "'https://api.spotify.com/v1/albums/32ium7Cxb1Xwp2MLzH2459'"
      ]
     },
     "execution_count": 70,
     "metadata": {},
     "output_type": "execute_result"
    }
   ],
   "source": [
    "albums_ep.format(sling_album_id)"
   ]
  },
  {
   "cell_type": "code",
   "execution_count": 71,
   "id": "6c5945e3-00cf-450d-a029-ea88b56f6c09",
   "metadata": {},
   "outputs": [
    {
     "data": {
      "text/plain": [
       "'https://api.spotify.com/v1/albums/1KNUCVXgIxKUGiuEB8eG0i'"
      ]
     },
     "execution_count": 71,
     "metadata": {},
     "output_type": "execute_result"
    }
   ],
   "source": [
    "albums_ep.format(charm_album_id)"
   ]
  },
  {
   "cell_type": "markdown",
   "id": "8c7a3665-a909-4d4e-9127-cf9e1fd1589b",
   "metadata": {},
   "source": [
    "these are the urls being passed into the api_call function in order to get the album data for each album"
   ]
  },
  {
   "cell_type": "code",
   "execution_count": 72,
   "id": "a8ac0c2a-782e-41d7-9fa2-9dca5029f240",
   "metadata": {},
   "outputs": [
    {
     "name": "stdout",
     "output_type": "stream",
     "text": [
      "200\n"
     ]
    }
   ],
   "source": [
    "sling_release = api_call(albums_ep.format(sling_album_id),session_header)"
   ]
  },
  {
   "cell_type": "markdown",
   "id": "002fd80b-d94e-48d7-8b66-32b314ada55c",
   "metadata": {},
   "source": [
    "allows me to parse through the data in the albums endpoint for sling"
   ]
  },
  {
   "cell_type": "code",
   "execution_count": 73,
   "id": "ef9a79b0-8f2c-4df2-b1cf-d35db3b71db0",
   "metadata": {},
   "outputs": [
    {
     "data": {
      "text/plain": [
       "'2021-07-16'"
      ]
     },
     "execution_count": 73,
     "metadata": {},
     "output_type": "execute_result"
    }
   ],
   "source": [
    "sling_release['release_date']"
   ]
  },
  {
   "cell_type": "code",
   "execution_count": 74,
   "id": "80e57041-b2fd-4d85-b515-443a08efd091",
   "metadata": {},
   "outputs": [
    {
     "name": "stdout",
     "output_type": "stream",
     "text": [
      "200\n"
     ]
    }
   ],
   "source": [
    "charm_release = api_call(albums_ep.format(charm_album_id),session_header)"
   ]
  },
  {
   "cell_type": "markdown",
   "id": "22ad25f9-7590-4d96-827e-9da07200d153",
   "metadata": {},
   "source": [
    "allows me to parse through the data in the albums endpoint for charm"
   ]
  },
  {
   "cell_type": "code",
   "execution_count": 75,
   "id": "297d5d9c-ca38-4844-9272-311a6104f695",
   "metadata": {},
   "outputs": [
    {
     "data": {
      "text/plain": [
       "'2024-07-12'"
      ]
     },
     "execution_count": 75,
     "metadata": {},
     "output_type": "execute_result"
    }
   ],
   "source": [
    "charm_release['release_date']"
   ]
  },
  {
   "cell_type": "code",
   "execution_count": 76,
   "id": "f26ace15-8627-4228-8df1-44c63dc577fd",
   "metadata": {},
   "outputs": [],
   "source": [
    "sling_merged['release_dates'] = sling_release['release_date']\n",
    "charm_merged['release_dates'] = charm_release['release_date']"
   ]
  },
  {
   "cell_type": "markdown",
   "id": "6bd0cbd9-de3a-4413-9752-718c091f62c3",
   "metadata": {},
   "source": [
    "the 5 code blocks above allow me to access the albums endpoint to parse through and isolate the release date data"
   ]
  },
  {
   "cell_type": "code",
   "execution_count": 77,
   "id": "edeaede5-12ee-45aa-8b74-0453d35b9c36",
   "metadata": {},
   "outputs": [],
   "source": [
    "clairo_compare = pd.concat([sling_merged, charm_merged], axis = 0)\n",
    "#clairo_compare"
   ]
  },
  {
   "cell_type": "markdown",
   "id": "4cae6bbf-4949-4bb6-a86e-69658ccd077d",
   "metadata": {},
   "source": [
    "this merges the two dataframes for each album"
   ]
  },
  {
   "cell_type": "code",
   "execution_count": 78,
   "id": "00f000eb-280c-461d-a92a-2e2c4dfa0983",
   "metadata": {},
   "outputs": [
    {
     "data": {
      "text/html": [
       "<div>\n",
       "<style scoped>\n",
       "    .dataframe tbody tr th:only-of-type {\n",
       "        vertical-align: middle;\n",
       "    }\n",
       "\n",
       "    .dataframe tbody tr th {\n",
       "        vertical-align: top;\n",
       "    }\n",
       "\n",
       "    .dataframe thead th {\n",
       "        text-align: right;\n",
       "    }\n",
       "</style>\n",
       "<table border=\"1\" class=\"dataframe\">\n",
       "  <thead>\n",
       "    <tr style=\"text-align: right;\">\n",
       "      <th></th>\n",
       "      <th>danceability</th>\n",
       "      <th>energy</th>\n",
       "      <th>key</th>\n",
       "      <th>loudness</th>\n",
       "      <th>speechiness</th>\n",
       "      <th>acousticness</th>\n",
       "      <th>instrumentalness</th>\n",
       "      <th>liveness</th>\n",
       "      <th>valence</th>\n",
       "      <th>tempo</th>\n",
       "      <th>...</th>\n",
       "      <th>explicit</th>\n",
       "      <th>external_ids</th>\n",
       "      <th>external_urls</th>\n",
       "      <th>href</th>\n",
       "      <th>name</th>\n",
       "      <th>popularity</th>\n",
       "      <th>track_number</th>\n",
       "      <th>uri_y</th>\n",
       "      <th>albums</th>\n",
       "      <th>release_dates</th>\n",
       "    </tr>\n",
       "  </thead>\n",
       "  <tbody>\n",
       "    <tr>\n",
       "      <th>0</th>\n",
       "      <td>0.436</td>\n",
       "      <td>0.1960</td>\n",
       "      <td>9</td>\n",
       "      <td>-14.566</td>\n",
       "      <td>0.0284</td>\n",
       "      <td>0.904</td>\n",
       "      <td>0.002300</td>\n",
       "      <td>0.1070</td>\n",
       "      <td>0.2810</td>\n",
       "      <td>83.768</td>\n",
       "      <td>...</td>\n",
       "      <td>False</td>\n",
       "      <td>{'isrc': 'USUG12101890'}</td>\n",
       "      <td>{'spotify': 'https://open.spotify.com/track/6w...</td>\n",
       "      <td>https://api.spotify.com/v1/tracks/6wQXjA6KWbwP...</td>\n",
       "      <td>Bambi</td>\n",
       "      <td>55</td>\n",
       "      <td>1</td>\n",
       "      <td>spotify:track:6wQXjA6KWbwPT3ydQCsJ4P</td>\n",
       "      <td>Sling</td>\n",
       "      <td>2021-07-16</td>\n",
       "    </tr>\n",
       "    <tr>\n",
       "      <th>1</th>\n",
       "      <td>0.739</td>\n",
       "      <td>0.4910</td>\n",
       "      <td>6</td>\n",
       "      <td>-11.515</td>\n",
       "      <td>0.0270</td>\n",
       "      <td>0.791</td>\n",
       "      <td>0.036600</td>\n",
       "      <td>0.1000</td>\n",
       "      <td>0.7070</td>\n",
       "      <td>111.008</td>\n",
       "      <td>...</td>\n",
       "      <td>False</td>\n",
       "      <td>{'isrc': 'USUG12101891'}</td>\n",
       "      <td>{'spotify': 'https://open.spotify.com/track/0H...</td>\n",
       "      <td>https://api.spotify.com/v1/tracks/0HAqq2GcQKyi...</td>\n",
       "      <td>Amoeba</td>\n",
       "      <td>71</td>\n",
       "      <td>2</td>\n",
       "      <td>spotify:track:0HAqq2GcQKyi3s87GuN7jU</td>\n",
       "      <td>Sling</td>\n",
       "      <td>2021-07-16</td>\n",
       "    </tr>\n",
       "    <tr>\n",
       "      <th>2</th>\n",
       "      <td>0.666</td>\n",
       "      <td>0.1800</td>\n",
       "      <td>5</td>\n",
       "      <td>-17.015</td>\n",
       "      <td>0.0484</td>\n",
       "      <td>0.917</td>\n",
       "      <td>0.007810</td>\n",
       "      <td>0.1220</td>\n",
       "      <td>0.2650</td>\n",
       "      <td>130.021</td>\n",
       "      <td>...</td>\n",
       "      <td>False</td>\n",
       "      <td>{'isrc': 'USUG12101892'}</td>\n",
       "      <td>{'spotify': 'https://open.spotify.com/track/4i...</td>\n",
       "      <td>https://api.spotify.com/v1/tracks/4iBtktPvH4yf...</td>\n",
       "      <td>Partridge</td>\n",
       "      <td>52</td>\n",
       "      <td>3</td>\n",
       "      <td>spotify:track:4iBtktPvH4yfS5LR6oAQT1</td>\n",
       "      <td>Sling</td>\n",
       "      <td>2021-07-16</td>\n",
       "    </tr>\n",
       "    <tr>\n",
       "      <th>3</th>\n",
       "      <td>0.695</td>\n",
       "      <td>0.4150</td>\n",
       "      <td>0</td>\n",
       "      <td>-13.489</td>\n",
       "      <td>0.0603</td>\n",
       "      <td>0.670</td>\n",
       "      <td>0.011100</td>\n",
       "      <td>0.3780</td>\n",
       "      <td>0.7790</td>\n",
       "      <td>145.982</td>\n",
       "      <td>...</td>\n",
       "      <td>False</td>\n",
       "      <td>{'isrc': 'USUG12101893'}</td>\n",
       "      <td>{'spotify': 'https://open.spotify.com/track/67...</td>\n",
       "      <td>https://api.spotify.com/v1/tracks/67bSS4aLrasU...</td>\n",
       "      <td>Zinnias</td>\n",
       "      <td>49</td>\n",
       "      <td>4</td>\n",
       "      <td>spotify:track:67bSS4aLrasUNp3EQjdHTT</td>\n",
       "      <td>Sling</td>\n",
       "      <td>2021-07-16</td>\n",
       "    </tr>\n",
       "    <tr>\n",
       "      <th>4</th>\n",
       "      <td>0.324</td>\n",
       "      <td>0.1160</td>\n",
       "      <td>7</td>\n",
       "      <td>-20.332</td>\n",
       "      <td>0.0331</td>\n",
       "      <td>0.947</td>\n",
       "      <td>0.000286</td>\n",
       "      <td>0.1470</td>\n",
       "      <td>0.3990</td>\n",
       "      <td>144.524</td>\n",
       "      <td>...</td>\n",
       "      <td>False</td>\n",
       "      <td>{'isrc': 'USUG12101894'}</td>\n",
       "      <td>{'spotify': 'https://open.spotify.com/track/7b...</td>\n",
       "      <td>https://api.spotify.com/v1/tracks/7brBeAX3RT0C...</td>\n",
       "      <td>Blouse</td>\n",
       "      <td>54</td>\n",
       "      <td>5</td>\n",
       "      <td>spotify:track:7brBeAX3RT0CMh3qbTBrIP</td>\n",
       "      <td>Sling</td>\n",
       "      <td>2021-07-16</td>\n",
       "    </tr>\n",
       "    <tr>\n",
       "      <th>5</th>\n",
       "      <td>0.606</td>\n",
       "      <td>0.1590</td>\n",
       "      <td>5</td>\n",
       "      <td>-18.181</td>\n",
       "      <td>0.0355</td>\n",
       "      <td>0.954</td>\n",
       "      <td>0.007360</td>\n",
       "      <td>0.1050</td>\n",
       "      <td>0.3330</td>\n",
       "      <td>107.792</td>\n",
       "      <td>...</td>\n",
       "      <td>False</td>\n",
       "      <td>{'isrc': 'USUG12101895'}</td>\n",
       "      <td>{'spotify': 'https://open.spotify.com/track/6V...</td>\n",
       "      <td>https://api.spotify.com/v1/tracks/6VyCMQf7wZyZ...</td>\n",
       "      <td>Wade</td>\n",
       "      <td>47</td>\n",
       "      <td>6</td>\n",
       "      <td>spotify:track:6VyCMQf7wZyZF4j9368HGK</td>\n",
       "      <td>Sling</td>\n",
       "      <td>2021-07-16</td>\n",
       "    </tr>\n",
       "    <tr>\n",
       "      <th>6</th>\n",
       "      <td>0.380</td>\n",
       "      <td>0.1670</td>\n",
       "      <td>6</td>\n",
       "      <td>-15.294</td>\n",
       "      <td>0.0374</td>\n",
       "      <td>0.950</td>\n",
       "      <td>0.000369</td>\n",
       "      <td>0.0844</td>\n",
       "      <td>0.1950</td>\n",
       "      <td>93.112</td>\n",
       "      <td>...</td>\n",
       "      <td>False</td>\n",
       "      <td>{'isrc': 'USUG12101896'}</td>\n",
       "      <td>{'spotify': 'https://open.spotify.com/track/57...</td>\n",
       "      <td>https://api.spotify.com/v1/tracks/57VAuR1WgKFz...</td>\n",
       "      <td>Harbor</td>\n",
       "      <td>54</td>\n",
       "      <td>7</td>\n",
       "      <td>spotify:track:57VAuR1WgKFzcpO3ujQx9A</td>\n",
       "      <td>Sling</td>\n",
       "      <td>2021-07-16</td>\n",
       "    </tr>\n",
       "    <tr>\n",
       "      <th>7</th>\n",
       "      <td>0.379</td>\n",
       "      <td>0.0405</td>\n",
       "      <td>3</td>\n",
       "      <td>-21.848</td>\n",
       "      <td>0.0329</td>\n",
       "      <td>0.920</td>\n",
       "      <td>0.000572</td>\n",
       "      <td>0.1050</td>\n",
       "      <td>0.3190</td>\n",
       "      <td>144.335</td>\n",
       "      <td>...</td>\n",
       "      <td>False</td>\n",
       "      <td>{'isrc': 'USUG12101897'}</td>\n",
       "      <td>{'spotify': 'https://open.spotify.com/track/63...</td>\n",
       "      <td>https://api.spotify.com/v1/tracks/63O4CpEtppRm...</td>\n",
       "      <td>Just For Today</td>\n",
       "      <td>49</td>\n",
       "      <td>8</td>\n",
       "      <td>spotify:track:63O4CpEtppRmeOZ89Fb8tn</td>\n",
       "      <td>Sling</td>\n",
       "      <td>2021-07-16</td>\n",
       "    </tr>\n",
       "    <tr>\n",
       "      <th>8</th>\n",
       "      <td>0.416</td>\n",
       "      <td>0.0740</td>\n",
       "      <td>2</td>\n",
       "      <td>-20.010</td>\n",
       "      <td>0.0407</td>\n",
       "      <td>0.957</td>\n",
       "      <td>0.899000</td>\n",
       "      <td>0.1230</td>\n",
       "      <td>0.0476</td>\n",
       "      <td>121.240</td>\n",
       "      <td>...</td>\n",
       "      <td>False</td>\n",
       "      <td>{'isrc': 'USUG12101898'}</td>\n",
       "      <td>{'spotify': 'https://open.spotify.com/track/1b...</td>\n",
       "      <td>https://api.spotify.com/v1/tracks/1bCFgapvqHqq...</td>\n",
       "      <td>Joanie</td>\n",
       "      <td>45</td>\n",
       "      <td>9</td>\n",
       "      <td>spotify:track:1bCFgapvqHqqcuQXgnP94L</td>\n",
       "      <td>Sling</td>\n",
       "      <td>2021-07-16</td>\n",
       "    </tr>\n",
       "    <tr>\n",
       "      <th>9</th>\n",
       "      <td>0.536</td>\n",
       "      <td>0.2240</td>\n",
       "      <td>6</td>\n",
       "      <td>-19.681</td>\n",
       "      <td>0.0496</td>\n",
       "      <td>0.863</td>\n",
       "      <td>0.039400</td>\n",
       "      <td>0.1110</td>\n",
       "      <td>0.6250</td>\n",
       "      <td>147.881</td>\n",
       "      <td>...</td>\n",
       "      <td>True</td>\n",
       "      <td>{'isrc': 'USUG12101899'}</td>\n",
       "      <td>{'spotify': 'https://open.spotify.com/track/2P...</td>\n",
       "      <td>https://api.spotify.com/v1/tracks/2P0qa2otcQdj...</td>\n",
       "      <td>Reaper</td>\n",
       "      <td>50</td>\n",
       "      <td>10</td>\n",
       "      <td>spotify:track:2P0qa2otcQdjrnypyueuJl</td>\n",
       "      <td>Sling</td>\n",
       "      <td>2021-07-16</td>\n",
       "    </tr>\n",
       "    <tr>\n",
       "      <th>10</th>\n",
       "      <td>0.415</td>\n",
       "      <td>0.0778</td>\n",
       "      <td>5</td>\n",
       "      <td>-21.716</td>\n",
       "      <td>0.0434</td>\n",
       "      <td>0.982</td>\n",
       "      <td>0.000034</td>\n",
       "      <td>0.0890</td>\n",
       "      <td>0.1780</td>\n",
       "      <td>62.850</td>\n",
       "      <td>...</td>\n",
       "      <td>False</td>\n",
       "      <td>{'isrc': 'USUG12101900'}</td>\n",
       "      <td>{'spotify': 'https://open.spotify.com/track/3G...</td>\n",
       "      <td>https://api.spotify.com/v1/tracks/3Gjj8LeMagv4...</td>\n",
       "      <td>Little Changes</td>\n",
       "      <td>46</td>\n",
       "      <td>11</td>\n",
       "      <td>spotify:track:3Gjj8LeMagv4Ou2p7kgQHT</td>\n",
       "      <td>Sling</td>\n",
       "      <td>2021-07-16</td>\n",
       "    </tr>\n",
       "    <tr>\n",
       "      <th>11</th>\n",
       "      <td>0.268</td>\n",
       "      <td>0.1600</td>\n",
       "      <td>7</td>\n",
       "      <td>-16.405</td>\n",
       "      <td>0.0379</td>\n",
       "      <td>0.951</td>\n",
       "      <td>0.000411</td>\n",
       "      <td>0.1660</td>\n",
       "      <td>0.2190</td>\n",
       "      <td>89.855</td>\n",
       "      <td>...</td>\n",
       "      <td>False</td>\n",
       "      <td>{'isrc': 'USUG12101901'}</td>\n",
       "      <td>{'spotify': 'https://open.spotify.com/track/6I...</td>\n",
       "      <td>https://api.spotify.com/v1/tracks/6IemSJkHc0EH...</td>\n",
       "      <td>Management</td>\n",
       "      <td>46</td>\n",
       "      <td>12</td>\n",
       "      <td>spotify:track:6IemSJkHc0EHmGPRnxamG5</td>\n",
       "      <td>Sling</td>\n",
       "      <td>2021-07-16</td>\n",
       "    </tr>\n",
       "    <tr>\n",
       "      <th>0</th>\n",
       "      <td>0.510</td>\n",
       "      <td>0.4530</td>\n",
       "      <td>8</td>\n",
       "      <td>-11.172</td>\n",
       "      <td>0.0313</td>\n",
       "      <td>0.901</td>\n",
       "      <td>0.000075</td>\n",
       "      <td>0.1520</td>\n",
       "      <td>0.2690</td>\n",
       "      <td>83.044</td>\n",
       "      <td>...</td>\n",
       "      <td>False</td>\n",
       "      <td>{'isrc': 'USA2P2416223'}</td>\n",
       "      <td>{'spotify': 'https://open.spotify.com/track/4W...</td>\n",
       "      <td>https://api.spotify.com/v1/tracks/4WJPxTsvWIdR...</td>\n",
       "      <td>Nomad</td>\n",
       "      <td>66</td>\n",
       "      <td>1</td>\n",
       "      <td>spotify:track:4WJPxTsvWIdRZ9vMtqk7fj</td>\n",
       "      <td>Charm</td>\n",
       "      <td>2024-07-12</td>\n",
       "    </tr>\n",
       "    <tr>\n",
       "      <th>1</th>\n",
       "      <td>0.716</td>\n",
       "      <td>0.5450</td>\n",
       "      <td>0</td>\n",
       "      <td>-6.949</td>\n",
       "      <td>0.0329</td>\n",
       "      <td>0.352</td>\n",
       "      <td>0.003690</td>\n",
       "      <td>0.1010</td>\n",
       "      <td>0.8260</td>\n",
       "      <td>98.230</td>\n",
       "      <td>...</td>\n",
       "      <td>False</td>\n",
       "      <td>{'isrc': 'USA2P2416224'}</td>\n",
       "      <td>{'spotify': 'https://open.spotify.com/track/3a...</td>\n",
       "      <td>https://api.spotify.com/v1/tracks/3awweDjWIuXN...</td>\n",
       "      <td>Sexy to Someone</td>\n",
       "      <td>72</td>\n",
       "      <td>2</td>\n",
       "      <td>spotify:track:3awweDjWIuXNMogMClJnvE</td>\n",
       "      <td>Charm</td>\n",
       "      <td>2024-07-12</td>\n",
       "    </tr>\n",
       "    <tr>\n",
       "      <th>2</th>\n",
       "      <td>0.762</td>\n",
       "      <td>0.3790</td>\n",
       "      <td>2</td>\n",
       "      <td>-8.847</td>\n",
       "      <td>0.0338</td>\n",
       "      <td>0.446</td>\n",
       "      <td>0.093000</td>\n",
       "      <td>0.1890</td>\n",
       "      <td>0.5610</td>\n",
       "      <td>78.505</td>\n",
       "      <td>...</td>\n",
       "      <td>False</td>\n",
       "      <td>{'isrc': 'USA2P2416225'}</td>\n",
       "      <td>{'spotify': 'https://open.spotify.com/track/7c...</td>\n",
       "      <td>https://api.spotify.com/v1/tracks/7cFwopK7QTOg...</td>\n",
       "      <td>Second Nature</td>\n",
       "      <td>66</td>\n",
       "      <td>3</td>\n",
       "      <td>spotify:track:7cFwopK7QTOgaEwF9JgipA</td>\n",
       "      <td>Charm</td>\n",
       "      <td>2024-07-12</td>\n",
       "    </tr>\n",
       "    <tr>\n",
       "      <th>3</th>\n",
       "      <td>0.727</td>\n",
       "      <td>0.5340</td>\n",
       "      <td>2</td>\n",
       "      <td>-8.444</td>\n",
       "      <td>0.0297</td>\n",
       "      <td>0.720</td>\n",
       "      <td>0.018600</td>\n",
       "      <td>0.0977</td>\n",
       "      <td>0.5980</td>\n",
       "      <td>84.007</td>\n",
       "      <td>...</td>\n",
       "      <td>False</td>\n",
       "      <td>{'isrc': 'USA2P2416226'}</td>\n",
       "      <td>{'spotify': 'https://open.spotify.com/track/2q...</td>\n",
       "      <td>https://api.spotify.com/v1/tracks/2qmmnbJ9JR3f...</td>\n",
       "      <td>Slow Dance</td>\n",
       "      <td>67</td>\n",
       "      <td>4</td>\n",
       "      <td>spotify:track:2qmmnbJ9JR3f7vofbyje5r</td>\n",
       "      <td>Charm</td>\n",
       "      <td>2024-07-12</td>\n",
       "    </tr>\n",
       "    <tr>\n",
       "      <th>4</th>\n",
       "      <td>0.787</td>\n",
       "      <td>0.5790</td>\n",
       "      <td>8</td>\n",
       "      <td>-6.009</td>\n",
       "      <td>0.0292</td>\n",
       "      <td>0.604</td>\n",
       "      <td>0.292000</td>\n",
       "      <td>0.0839</td>\n",
       "      <td>0.6930</td>\n",
       "      <td>106.401</td>\n",
       "      <td>...</td>\n",
       "      <td>False</td>\n",
       "      <td>{'isrc': 'USA2P2416227'}</td>\n",
       "      <td>{'spotify': 'https://open.spotify.com/track/0m...</td>\n",
       "      <td>https://api.spotify.com/v1/tracks/0mMlo76aVZHp...</td>\n",
       "      <td>Thank You</td>\n",
       "      <td>64</td>\n",
       "      <td>5</td>\n",
       "      <td>spotify:track:0mMlo76aVZHpuvoR6fjBSK</td>\n",
       "      <td>Charm</td>\n",
       "      <td>2024-07-12</td>\n",
       "    </tr>\n",
       "    <tr>\n",
       "      <th>5</th>\n",
       "      <td>0.582</td>\n",
       "      <td>0.4410</td>\n",
       "      <td>4</td>\n",
       "      <td>-7.394</td>\n",
       "      <td>0.0452</td>\n",
       "      <td>0.231</td>\n",
       "      <td>0.740000</td>\n",
       "      <td>0.1880</td>\n",
       "      <td>0.4690</td>\n",
       "      <td>136.932</td>\n",
       "      <td>...</td>\n",
       "      <td>False</td>\n",
       "      <td>{'isrc': 'USA2P2416228'}</td>\n",
       "      <td>{'spotify': 'https://open.spotify.com/track/32...</td>\n",
       "      <td>https://api.spotify.com/v1/tracks/32fwe7MW5koo...</td>\n",
       "      <td>Terrapin</td>\n",
       "      <td>65</td>\n",
       "      <td>6</td>\n",
       "      <td>spotify:track:32fwe7MW5koort1Ua3YFx6</td>\n",
       "      <td>Charm</td>\n",
       "      <td>2024-07-12</td>\n",
       "    </tr>\n",
       "    <tr>\n",
       "      <th>6</th>\n",
       "      <td>0.606</td>\n",
       "      <td>0.7140</td>\n",
       "      <td>3</td>\n",
       "      <td>-6.244</td>\n",
       "      <td>0.0339</td>\n",
       "      <td>0.238</td>\n",
       "      <td>0.098000</td>\n",
       "      <td>0.1060</td>\n",
       "      <td>0.4480</td>\n",
       "      <td>141.512</td>\n",
       "      <td>...</td>\n",
       "      <td>False</td>\n",
       "      <td>{'isrc': 'USA2P2416229'}</td>\n",
       "      <td>{'spotify': 'https://open.spotify.com/track/2m...</td>\n",
       "      <td>https://api.spotify.com/v1/tracks/2mWfVxEo4xZY...</td>\n",
       "      <td>Juna</td>\n",
       "      <td>80</td>\n",
       "      <td>7</td>\n",
       "      <td>spotify:track:2mWfVxEo4xZYDaz0v7hYrN</td>\n",
       "      <td>Charm</td>\n",
       "      <td>2024-07-12</td>\n",
       "    </tr>\n",
       "    <tr>\n",
       "      <th>7</th>\n",
       "      <td>0.715</td>\n",
       "      <td>0.6210</td>\n",
       "      <td>8</td>\n",
       "      <td>-6.761</td>\n",
       "      <td>0.0270</td>\n",
       "      <td>0.170</td>\n",
       "      <td>0.001100</td>\n",
       "      <td>0.1110</td>\n",
       "      <td>0.7690</td>\n",
       "      <td>104.964</td>\n",
       "      <td>...</td>\n",
       "      <td>False</td>\n",
       "      <td>{'isrc': 'USA2P2416230'}</td>\n",
       "      <td>{'spotify': 'https://open.spotify.com/track/6F...</td>\n",
       "      <td>https://api.spotify.com/v1/tracks/6FcDxtnGfsYH...</td>\n",
       "      <td>Add Up My Love</td>\n",
       "      <td>70</td>\n",
       "      <td>8</td>\n",
       "      <td>spotify:track:6FcDxtnGfsYHOcGkXN2OIG</td>\n",
       "      <td>Charm</td>\n",
       "      <td>2024-07-12</td>\n",
       "    </tr>\n",
       "    <tr>\n",
       "      <th>8</th>\n",
       "      <td>0.560</td>\n",
       "      <td>0.7050</td>\n",
       "      <td>6</td>\n",
       "      <td>-5.676</td>\n",
       "      <td>0.0258</td>\n",
       "      <td>0.604</td>\n",
       "      <td>0.938000</td>\n",
       "      <td>0.4030</td>\n",
       "      <td>0.1990</td>\n",
       "      <td>112.501</td>\n",
       "      <td>...</td>\n",
       "      <td>False</td>\n",
       "      <td>{'isrc': 'USA2P2416231'}</td>\n",
       "      <td>{'spotify': 'https://open.spotify.com/track/6Q...</td>\n",
       "      <td>https://api.spotify.com/v1/tracks/6QlSPjiXHc1X...</td>\n",
       "      <td>Echo</td>\n",
       "      <td>62</td>\n",
       "      <td>9</td>\n",
       "      <td>spotify:track:6QlSPjiXHc1XwGKeEls6Gh</td>\n",
       "      <td>Charm</td>\n",
       "      <td>2024-07-12</td>\n",
       "    </tr>\n",
       "    <tr>\n",
       "      <th>9</th>\n",
       "      <td>0.731</td>\n",
       "      <td>0.5500</td>\n",
       "      <td>5</td>\n",
       "      <td>-8.715</td>\n",
       "      <td>0.0376</td>\n",
       "      <td>0.735</td>\n",
       "      <td>0.367000</td>\n",
       "      <td>0.1030</td>\n",
       "      <td>0.5880</td>\n",
       "      <td>117.995</td>\n",
       "      <td>...</td>\n",
       "      <td>False</td>\n",
       "      <td>{'isrc': 'USA2P2416232'}</td>\n",
       "      <td>{'spotify': 'https://open.spotify.com/track/4J...</td>\n",
       "      <td>https://api.spotify.com/v1/tracks/4JLBaHFkjxnb...</td>\n",
       "      <td>Glory of the Snow</td>\n",
       "      <td>62</td>\n",
       "      <td>10</td>\n",
       "      <td>spotify:track:4JLBaHFkjxnbf9X0D8G3zQ</td>\n",
       "      <td>Charm</td>\n",
       "      <td>2024-07-12</td>\n",
       "    </tr>\n",
       "    <tr>\n",
       "      <th>10</th>\n",
       "      <td>0.614</td>\n",
       "      <td>0.2660</td>\n",
       "      <td>4</td>\n",
       "      <td>-12.616</td>\n",
       "      <td>0.0293</td>\n",
       "      <td>0.940</td>\n",
       "      <td>0.217000</td>\n",
       "      <td>0.1150</td>\n",
       "      <td>0.1590</td>\n",
       "      <td>76.771</td>\n",
       "      <td>...</td>\n",
       "      <td>False</td>\n",
       "      <td>{'isrc': 'USA2P2416233'}</td>\n",
       "      <td>{'spotify': 'https://open.spotify.com/track/3l...</td>\n",
       "      <td>https://api.spotify.com/v1/tracks/3lnEcmIHlkeq...</td>\n",
       "      <td>Pier 4</td>\n",
       "      <td>61</td>\n",
       "      <td>11</td>\n",
       "      <td>spotify:track:3lnEcmIHlkeqcgDiZ5cgN3</td>\n",
       "      <td>Charm</td>\n",
       "      <td>2024-07-12</td>\n",
       "    </tr>\n",
       "  </tbody>\n",
       "</table>\n",
       "<p>23 rows × 31 columns</p>\n",
       "</div>"
      ],
      "text/plain": [
       "    danceability  energy  key  loudness  speechiness  acousticness  \\\n",
       "0          0.436  0.1960    9   -14.566       0.0284         0.904   \n",
       "1          0.739  0.4910    6   -11.515       0.0270         0.791   \n",
       "2          0.666  0.1800    5   -17.015       0.0484         0.917   \n",
       "3          0.695  0.4150    0   -13.489       0.0603         0.670   \n",
       "4          0.324  0.1160    7   -20.332       0.0331         0.947   \n",
       "5          0.606  0.1590    5   -18.181       0.0355         0.954   \n",
       "6          0.380  0.1670    6   -15.294       0.0374         0.950   \n",
       "7          0.379  0.0405    3   -21.848       0.0329         0.920   \n",
       "8          0.416  0.0740    2   -20.010       0.0407         0.957   \n",
       "9          0.536  0.2240    6   -19.681       0.0496         0.863   \n",
       "10         0.415  0.0778    5   -21.716       0.0434         0.982   \n",
       "11         0.268  0.1600    7   -16.405       0.0379         0.951   \n",
       "0          0.510  0.4530    8   -11.172       0.0313         0.901   \n",
       "1          0.716  0.5450    0    -6.949       0.0329         0.352   \n",
       "2          0.762  0.3790    2    -8.847       0.0338         0.446   \n",
       "3          0.727  0.5340    2    -8.444       0.0297         0.720   \n",
       "4          0.787  0.5790    8    -6.009       0.0292         0.604   \n",
       "5          0.582  0.4410    4    -7.394       0.0452         0.231   \n",
       "6          0.606  0.7140    3    -6.244       0.0339         0.238   \n",
       "7          0.715  0.6210    8    -6.761       0.0270         0.170   \n",
       "8          0.560  0.7050    6    -5.676       0.0258         0.604   \n",
       "9          0.731  0.5500    5    -8.715       0.0376         0.735   \n",
       "10         0.614  0.2660    4   -12.616       0.0293         0.940   \n",
       "\n",
       "    instrumentalness  liveness  valence    tempo  ... explicit  \\\n",
       "0           0.002300    0.1070   0.2810   83.768  ...    False   \n",
       "1           0.036600    0.1000   0.7070  111.008  ...    False   \n",
       "2           0.007810    0.1220   0.2650  130.021  ...    False   \n",
       "3           0.011100    0.3780   0.7790  145.982  ...    False   \n",
       "4           0.000286    0.1470   0.3990  144.524  ...    False   \n",
       "5           0.007360    0.1050   0.3330  107.792  ...    False   \n",
       "6           0.000369    0.0844   0.1950   93.112  ...    False   \n",
       "7           0.000572    0.1050   0.3190  144.335  ...    False   \n",
       "8           0.899000    0.1230   0.0476  121.240  ...    False   \n",
       "9           0.039400    0.1110   0.6250  147.881  ...     True   \n",
       "10          0.000034    0.0890   0.1780   62.850  ...    False   \n",
       "11          0.000411    0.1660   0.2190   89.855  ...    False   \n",
       "0           0.000075    0.1520   0.2690   83.044  ...    False   \n",
       "1           0.003690    0.1010   0.8260   98.230  ...    False   \n",
       "2           0.093000    0.1890   0.5610   78.505  ...    False   \n",
       "3           0.018600    0.0977   0.5980   84.007  ...    False   \n",
       "4           0.292000    0.0839   0.6930  106.401  ...    False   \n",
       "5           0.740000    0.1880   0.4690  136.932  ...    False   \n",
       "6           0.098000    0.1060   0.4480  141.512  ...    False   \n",
       "7           0.001100    0.1110   0.7690  104.964  ...    False   \n",
       "8           0.938000    0.4030   0.1990  112.501  ...    False   \n",
       "9           0.367000    0.1030   0.5880  117.995  ...    False   \n",
       "10          0.217000    0.1150   0.1590   76.771  ...    False   \n",
       "\n",
       "                external_ids  \\\n",
       "0   {'isrc': 'USUG12101890'}   \n",
       "1   {'isrc': 'USUG12101891'}   \n",
       "2   {'isrc': 'USUG12101892'}   \n",
       "3   {'isrc': 'USUG12101893'}   \n",
       "4   {'isrc': 'USUG12101894'}   \n",
       "5   {'isrc': 'USUG12101895'}   \n",
       "6   {'isrc': 'USUG12101896'}   \n",
       "7   {'isrc': 'USUG12101897'}   \n",
       "8   {'isrc': 'USUG12101898'}   \n",
       "9   {'isrc': 'USUG12101899'}   \n",
       "10  {'isrc': 'USUG12101900'}   \n",
       "11  {'isrc': 'USUG12101901'}   \n",
       "0   {'isrc': 'USA2P2416223'}   \n",
       "1   {'isrc': 'USA2P2416224'}   \n",
       "2   {'isrc': 'USA2P2416225'}   \n",
       "3   {'isrc': 'USA2P2416226'}   \n",
       "4   {'isrc': 'USA2P2416227'}   \n",
       "5   {'isrc': 'USA2P2416228'}   \n",
       "6   {'isrc': 'USA2P2416229'}   \n",
       "7   {'isrc': 'USA2P2416230'}   \n",
       "8   {'isrc': 'USA2P2416231'}   \n",
       "9   {'isrc': 'USA2P2416232'}   \n",
       "10  {'isrc': 'USA2P2416233'}   \n",
       "\n",
       "                                        external_urls  \\\n",
       "0   {'spotify': 'https://open.spotify.com/track/6w...   \n",
       "1   {'spotify': 'https://open.spotify.com/track/0H...   \n",
       "2   {'spotify': 'https://open.spotify.com/track/4i...   \n",
       "3   {'spotify': 'https://open.spotify.com/track/67...   \n",
       "4   {'spotify': 'https://open.spotify.com/track/7b...   \n",
       "5   {'spotify': 'https://open.spotify.com/track/6V...   \n",
       "6   {'spotify': 'https://open.spotify.com/track/57...   \n",
       "7   {'spotify': 'https://open.spotify.com/track/63...   \n",
       "8   {'spotify': 'https://open.spotify.com/track/1b...   \n",
       "9   {'spotify': 'https://open.spotify.com/track/2P...   \n",
       "10  {'spotify': 'https://open.spotify.com/track/3G...   \n",
       "11  {'spotify': 'https://open.spotify.com/track/6I...   \n",
       "0   {'spotify': 'https://open.spotify.com/track/4W...   \n",
       "1   {'spotify': 'https://open.spotify.com/track/3a...   \n",
       "2   {'spotify': 'https://open.spotify.com/track/7c...   \n",
       "3   {'spotify': 'https://open.spotify.com/track/2q...   \n",
       "4   {'spotify': 'https://open.spotify.com/track/0m...   \n",
       "5   {'spotify': 'https://open.spotify.com/track/32...   \n",
       "6   {'spotify': 'https://open.spotify.com/track/2m...   \n",
       "7   {'spotify': 'https://open.spotify.com/track/6F...   \n",
       "8   {'spotify': 'https://open.spotify.com/track/6Q...   \n",
       "9   {'spotify': 'https://open.spotify.com/track/4J...   \n",
       "10  {'spotify': 'https://open.spotify.com/track/3l...   \n",
       "\n",
       "                                                 href               name  \\\n",
       "0   https://api.spotify.com/v1/tracks/6wQXjA6KWbwP...              Bambi   \n",
       "1   https://api.spotify.com/v1/tracks/0HAqq2GcQKyi...             Amoeba   \n",
       "2   https://api.spotify.com/v1/tracks/4iBtktPvH4yf...          Partridge   \n",
       "3   https://api.spotify.com/v1/tracks/67bSS4aLrasU...            Zinnias   \n",
       "4   https://api.spotify.com/v1/tracks/7brBeAX3RT0C...             Blouse   \n",
       "5   https://api.spotify.com/v1/tracks/6VyCMQf7wZyZ...               Wade   \n",
       "6   https://api.spotify.com/v1/tracks/57VAuR1WgKFz...             Harbor   \n",
       "7   https://api.spotify.com/v1/tracks/63O4CpEtppRm...     Just For Today   \n",
       "8   https://api.spotify.com/v1/tracks/1bCFgapvqHqq...             Joanie   \n",
       "9   https://api.spotify.com/v1/tracks/2P0qa2otcQdj...             Reaper   \n",
       "10  https://api.spotify.com/v1/tracks/3Gjj8LeMagv4...     Little Changes   \n",
       "11  https://api.spotify.com/v1/tracks/6IemSJkHc0EH...         Management   \n",
       "0   https://api.spotify.com/v1/tracks/4WJPxTsvWIdR...              Nomad   \n",
       "1   https://api.spotify.com/v1/tracks/3awweDjWIuXN...    Sexy to Someone   \n",
       "2   https://api.spotify.com/v1/tracks/7cFwopK7QTOg...      Second Nature   \n",
       "3   https://api.spotify.com/v1/tracks/2qmmnbJ9JR3f...         Slow Dance   \n",
       "4   https://api.spotify.com/v1/tracks/0mMlo76aVZHp...          Thank You   \n",
       "5   https://api.spotify.com/v1/tracks/32fwe7MW5koo...           Terrapin   \n",
       "6   https://api.spotify.com/v1/tracks/2mWfVxEo4xZY...               Juna   \n",
       "7   https://api.spotify.com/v1/tracks/6FcDxtnGfsYH...     Add Up My Love   \n",
       "8   https://api.spotify.com/v1/tracks/6QlSPjiXHc1X...               Echo   \n",
       "9   https://api.spotify.com/v1/tracks/4JLBaHFkjxnb...  Glory of the Snow   \n",
       "10  https://api.spotify.com/v1/tracks/3lnEcmIHlkeq...             Pier 4   \n",
       "\n",
       "    popularity  track_number                                 uri_y albums  \\\n",
       "0           55             1  spotify:track:6wQXjA6KWbwPT3ydQCsJ4P  Sling   \n",
       "1           71             2  spotify:track:0HAqq2GcQKyi3s87GuN7jU  Sling   \n",
       "2           52             3  spotify:track:4iBtktPvH4yfS5LR6oAQT1  Sling   \n",
       "3           49             4  spotify:track:67bSS4aLrasUNp3EQjdHTT  Sling   \n",
       "4           54             5  spotify:track:7brBeAX3RT0CMh3qbTBrIP  Sling   \n",
       "5           47             6  spotify:track:6VyCMQf7wZyZF4j9368HGK  Sling   \n",
       "6           54             7  spotify:track:57VAuR1WgKFzcpO3ujQx9A  Sling   \n",
       "7           49             8  spotify:track:63O4CpEtppRmeOZ89Fb8tn  Sling   \n",
       "8           45             9  spotify:track:1bCFgapvqHqqcuQXgnP94L  Sling   \n",
       "9           50            10  spotify:track:2P0qa2otcQdjrnypyueuJl  Sling   \n",
       "10          46            11  spotify:track:3Gjj8LeMagv4Ou2p7kgQHT  Sling   \n",
       "11          46            12  spotify:track:6IemSJkHc0EHmGPRnxamG5  Sling   \n",
       "0           66             1  spotify:track:4WJPxTsvWIdRZ9vMtqk7fj  Charm   \n",
       "1           72             2  spotify:track:3awweDjWIuXNMogMClJnvE  Charm   \n",
       "2           66             3  spotify:track:7cFwopK7QTOgaEwF9JgipA  Charm   \n",
       "3           67             4  spotify:track:2qmmnbJ9JR3f7vofbyje5r  Charm   \n",
       "4           64             5  spotify:track:0mMlo76aVZHpuvoR6fjBSK  Charm   \n",
       "5           65             6  spotify:track:32fwe7MW5koort1Ua3YFx6  Charm   \n",
       "6           80             7  spotify:track:2mWfVxEo4xZYDaz0v7hYrN  Charm   \n",
       "7           70             8  spotify:track:6FcDxtnGfsYHOcGkXN2OIG  Charm   \n",
       "8           62             9  spotify:track:6QlSPjiXHc1XwGKeEls6Gh  Charm   \n",
       "9           62            10  spotify:track:4JLBaHFkjxnbf9X0D8G3zQ  Charm   \n",
       "10          61            11  spotify:track:3lnEcmIHlkeqcgDiZ5cgN3  Charm   \n",
       "\n",
       "    release_dates  \n",
       "0      2021-07-16  \n",
       "1      2021-07-16  \n",
       "2      2021-07-16  \n",
       "3      2021-07-16  \n",
       "4      2021-07-16  \n",
       "5      2021-07-16  \n",
       "6      2021-07-16  \n",
       "7      2021-07-16  \n",
       "8      2021-07-16  \n",
       "9      2021-07-16  \n",
       "10     2021-07-16  \n",
       "11     2021-07-16  \n",
       "0      2024-07-12  \n",
       "1      2024-07-12  \n",
       "2      2024-07-12  \n",
       "3      2024-07-12  \n",
       "4      2024-07-12  \n",
       "5      2024-07-12  \n",
       "6      2024-07-12  \n",
       "7      2024-07-12  \n",
       "8      2024-07-12  \n",
       "9      2024-07-12  \n",
       "10     2024-07-12  \n",
       "\n",
       "[23 rows x 31 columns]"
      ]
     },
     "execution_count": 78,
     "metadata": {},
     "output_type": "execute_result"
    }
   ],
   "source": [
    "clairo_compare_tidy = clairo_compare.drop(columns = ['type_y', 'is_local', 'is_playable', 'preview_url', 'mode'])\n",
    "clairo_compare_tidy"
   ]
  },
  {
   "cell_type": "markdown",
   "id": "0d695fce-7d83-414e-b47e-0ffc644371aa",
   "metadata": {},
   "source": [
    "this tidies up the dataframe, removing any unneccessary or redundant data"
   ]
  },
  {
   "cell_type": "code",
   "execution_count": 79,
   "id": "0e248764-558a-4d48-9e91-79a7b73ec756",
   "metadata": {},
   "outputs": [
    {
     "data": {
      "image/png": "[encoded data removed]",
      "text/plain": [
       "<Figure size 640x480 with 1 Axes>"
      ]
     },
     "metadata": {},
     "output_type": "display_data"
    }
   ],
   "source": [
    "fig1, ax1 = plt.subplots()\n",
    "ax1.scatter(charm_merged['valence'], charm_merged['energy'])\n",
    "ax1.scatter(sling_merged['valence'], sling_merged['energy'])\n",
    "csfont = {'fontname':'Arial'}\n",
    "ax1.set_title('Energy by Valence', csfont)\n",
    "ax1.set_xlabel('Valence', csfont, color = 'black')\n",
    "ax1.set_ylabel('Energy', csfont, color = 'black')\n",
    "ax1.legend(['Charm', 'Sling'])\n",
    "plt.style.use('ggplot')\n",
    "plt.show()"
   ]
  },
  {
   "cell_type": "markdown",
   "id": "eb44d8a1-50f3-4b46-a22f-422de498e2c1",
   "metadata": {},
   "source": [
    "added 10/31/24"
   ]
  },
  {
   "cell_type": "code",
   "execution_count": 92,
   "id": "2b19c1a2-21d8-4f81-a385-edf5b01a03f3",
   "metadata": {},
   "outputs": [
    {
     "data": {
      "text/plain": [
       "<seaborn.axisgrid.JointGrid at 0x159c47f20>"
      ]
     },
     "execution_count": 92,
     "metadata": {},
     "output_type": "execute_result"
    },
    {
     "data": {
      "image/png": "[encoded data removed]",
      "text/plain": [
       "<Figure size 600x600 with 3 Axes>"
      ]
     },
     "metadata": {},
     "output_type": "display_data"
    }
   ],
   "source": [
    "graph = sns.jointplot(data=clairo_compare_tidy, x=\"valence\", y=\"energy\", hue=\"albums\")\n",
    "graph.fig.suptitle(\"Energy by Valence\")\n",
    "graph"
   ]
  },
  {
   "cell_type": "markdown",
   "id": "79e84772-6776-46f4-b49a-7815c4d50892",
   "metadata": {},
   "source": [
    "Through these visualizations we can clearly see that \"Charm\" has higher average \"energy\" and \"valence levels. Let's further test if this affects the popularity."
   ]
  },
  {
   "cell_type": "code",
   "execution_count": 104,
   "id": "5c931017-a160-4135-9d82-c678d2a7dcd4",
   "metadata": {},
   "outputs": [
    {
     "data": {
      "text/html": [
       "<table class=\"simpletable\">\n",
       "<caption>OLS Regression Results</caption>\n",
       "<tr>\n",
       "  <th>Dep. Variable:</th>         <td>energy</td>      <th>  R-squared:         </th> <td>   0.716</td>\n",
       "</tr>\n",
       "<tr>\n",
       "  <th>Model:</th>                   <td>OLS</td>       <th>  Adj. R-squared:    </th> <td>   0.703</td>\n",
       "</tr>\n",
       "<tr>\n",
       "  <th>Method:</th>             <td>Least Squares</td>  <th>  F-statistic:       </th> <td>   53.00</td>\n",
       "</tr>\n",
       "<tr>\n",
       "  <th>Date:</th>             <td>Wed, 20 Nov 2024</td> <th>  Prob (F-statistic):</th> <td>3.61e-07</td>\n",
       "</tr>\n",
       "<tr>\n",
       "  <th>Time:</th>                 <td>15:42:00</td>     <th>  Log-Likelihood:    </th> <td>  17.651</td>\n",
       "</tr>\n",
       "<tr>\n",
       "  <th>No. Observations:</th>      <td>    23</td>      <th>  AIC:               </th> <td>  -31.30</td>\n",
       "</tr>\n",
       "<tr>\n",
       "  <th>Df Residuals:</th>          <td>    21</td>      <th>  BIC:               </th> <td>  -29.03</td>\n",
       "</tr>\n",
       "<tr>\n",
       "  <th>Df Model:</th>              <td>     1</td>      <th>                     </th>     <td> </td>   \n",
       "</tr>\n",
       "<tr>\n",
       "  <th>Covariance Type:</th>      <td>nonrobust</td>    <th>                     </th>     <td> </td>   \n",
       "</tr>\n",
       "</table>\n",
       "<table class=\"simpletable\">\n",
       "<tr>\n",
       "       <td></td>         <th>coef</th>     <th>std err</th>      <th>t</th>      <th>P>|t|</th>  <th>[0.025</th>    <th>0.975]</th>  \n",
       "</tr>\n",
       "<tr>\n",
       "  <th>Intercept</th>  <td>   -0.7233</td> <td>    0.150</td> <td>   -4.832</td> <td> 0.000</td> <td>   -1.035</td> <td>   -0.412</td>\n",
       "</tr>\n",
       "<tr>\n",
       "  <th>popularity</th> <td>    0.0183</td> <td>    0.003</td> <td>    7.280</td> <td> 0.000</td> <td>    0.013</td> <td>    0.023</td>\n",
       "</tr>\n",
       "</table>\n",
       "<table class=\"simpletable\">\n",
       "<tr>\n",
       "  <th>Omnibus:</th>       <td> 6.617</td> <th>  Durbin-Watson:     </th> <td>   1.816</td>\n",
       "</tr>\n",
       "<tr>\n",
       "  <th>Prob(Omnibus):</th> <td> 0.037</td> <th>  Jarque-Bera (JB):  </th> <td>   4.670</td>\n",
       "</tr>\n",
       "<tr>\n",
       "  <th>Skew:</th>          <td> 1.063</td> <th>  Prob(JB):          </th> <td>  0.0968</td>\n",
       "</tr>\n",
       "<tr>\n",
       "  <th>Kurtosis:</th>      <td> 3.593</td> <th>  Cond. No.          </th> <td>    364.</td>\n",
       "</tr>\n",
       "</table><br/><br/>Notes:<br/>[1] Standard Errors assume that the covariance matrix of the errors is correctly specified."
      ],
      "text/latex": [
       "\\begin{center}\n",
       "\\begin{tabular}{lclc}\n",
       "\\toprule\n",
       "\\textbf{Dep. Variable:}    &      energy      & \\textbf{  R-squared:         } &     0.716   \\\\\n",
       "\\textbf{Model:}            &       OLS        & \\textbf{  Adj. R-squared:    } &     0.703   \\\\\n",
       "\\textbf{Method:}           &  Least Squares   & \\textbf{  F-statistic:       } &     53.00   \\\\\n",
       "\\textbf{Date:}             & Wed, 20 Nov 2024 & \\textbf{  Prob (F-statistic):} &  3.61e-07   \\\\\n",
       "\\textbf{Time:}             &     15:42:00     & \\textbf{  Log-Likelihood:    } &    17.651   \\\\\n",
       "\\textbf{No. Observations:} &          23      & \\textbf{  AIC:               } &    -31.30   \\\\\n",
       "\\textbf{Df Residuals:}     &          21      & \\textbf{  BIC:               } &    -29.03   \\\\\n",
       "\\textbf{Df Model:}         &           1      & \\textbf{                     } &             \\\\\n",
       "\\textbf{Covariance Type:}  &    nonrobust     & \\textbf{                     } &             \\\\\n",
       "\\bottomrule\n",
       "\\end{tabular}\n",
       "\\begin{tabular}{lcccccc}\n",
       "                    & \\textbf{coef} & \\textbf{std err} & \\textbf{t} & \\textbf{P$> |$t$|$} & \\textbf{[0.025} & \\textbf{0.975]}  \\\\\n",
       "\\midrule\n",
       "\\textbf{Intercept}  &      -0.7233  &        0.150     &    -4.832  &         0.000        &       -1.035    &       -0.412     \\\\\n",
       "\\textbf{popularity} &       0.0183  &        0.003     &     7.280  &         0.000        &        0.013    &        0.023     \\\\\n",
       "\\bottomrule\n",
       "\\end{tabular}\n",
       "\\begin{tabular}{lclc}\n",
       "\\textbf{Omnibus:}       &  6.617 & \\textbf{  Durbin-Watson:     } &    1.816  \\\\\n",
       "\\textbf{Prob(Omnibus):} &  0.037 & \\textbf{  Jarque-Bera (JB):  } &    4.670  \\\\\n",
       "\\textbf{Skew:}          &  1.063 & \\textbf{  Prob(JB):          } &   0.0968  \\\\\n",
       "\\textbf{Kurtosis:}      &  3.593 & \\textbf{  Cond. No.          } &     364.  \\\\\n",
       "\\bottomrule\n",
       "\\end{tabular}\n",
       "%\\caption{OLS Regression Results}\n",
       "\\end{center}\n",
       "\n",
       "Notes: \\newline\n",
       " [1] Standard Errors assume that the covariance matrix of the errors is correctly specified."
      ],
      "text/plain": [
       "<class 'statsmodels.iolib.summary.Summary'>\n",
       "\"\"\"\n",
       "                            OLS Regression Results                            \n",
       "==============================================================================\n",
       "Dep. Variable:                 energy   R-squared:                       0.716\n",
       "Model:                            OLS   Adj. R-squared:                  0.703\n",
       "Method:                 Least Squares   F-statistic:                     53.00\n",
       "Date:                Wed, 20 Nov 2024   Prob (F-statistic):           3.61e-07\n",
       "Time:                        15:42:00   Log-Likelihood:                 17.651\n",
       "No. Observations:                  23   AIC:                            -31.30\n",
       "Df Residuals:                      21   BIC:                            -29.03\n",
       "Df Model:                           1                                         \n",
       "Covariance Type:            nonrobust                                         \n",
       "==============================================================================\n",
       "                 coef    std err          t      P>|t|      [0.025      0.975]\n",
       "------------------------------------------------------------------------------\n",
       "Intercept     -0.7233      0.150     -4.832      0.000      -1.035      -0.412\n",
       "popularity     0.0183      0.003      7.280      0.000       0.013       0.023\n",
       "==============================================================================\n",
       "Omnibus:                        6.617   Durbin-Watson:                   1.816\n",
       "Prob(Omnibus):                  0.037   Jarque-Bera (JB):                4.670\n",
       "Skew:                           1.063   Prob(JB):                       0.0968\n",
       "Kurtosis:                       3.593   Cond. No.                         364.\n",
       "==============================================================================\n",
       "\n",
       "Notes:\n",
       "[1] Standard Errors assume that the covariance matrix of the errors is correctly specified.\n",
       "\"\"\""
      ]
     },
     "execution_count": 104,
     "metadata": {},
     "output_type": "execute_result"
    }
   ],
   "source": [
    "fit1 = smf.ols('energy ~ popularity', data = clairo_compare_tidy).fit()\n",
    "fit1.summary()"
   ]
  },
  {
   "cell_type": "code",
   "execution_count": 122,
   "id": "c2761eed-d886-4d12-8236-b679e1f95952",
   "metadata": {},
   "outputs": [
    {
     "data": {
      "text/plain": [
       "<seaborn.axisgrid.JointGrid at 0x15b6e94f0>"
      ]
     },
     "execution_count": 122,
     "metadata": {},
     "output_type": "execute_result"
    },
    {
     "data": {
      "image/png": "[encoded data removed]",
      "text/plain": [
       "<Figure size 600x600 with 3 Axes>"
      ]
     },
     "metadata": {},
     "output_type": "display_data"
    }
   ],
   "source": [
    "evp_graph = sns.jointplot(data=clairo_compare_tidy, x=\"energy\", y=\"popularity\", hue=\"albums\")\n",
    "graph.fig.suptitle(\"Popularity by Energy\")\n",
    "evp_graph"
   ]
  },
  {
   "cell_type": "markdown",
   "id": "c1ce1b14-c616-4aa4-b241-2a5d90120c2e",
   "metadata": {},
   "source": [
    "From the r-squared value of .716 and visualization above we can assume that energy has a decent, if not large, part to play on whether a song becomes popular. Next, valence."
   ]
  },
  {
   "cell_type": "code",
   "execution_count": 105,
   "id": "5a7708b7-0031-432e-961e-9049e1431f22",
   "metadata": {},
   "outputs": [
    {
     "data": {
      "text/html": [
       "<table class=\"simpletable\">\n",
       "<caption>OLS Regression Results</caption>\n",
       "<tr>\n",
       "  <th>Dep. Variable:</th>         <td>valence</td>     <th>  R-squared:         </th> <td>   0.260</td>\n",
       "</tr>\n",
       "<tr>\n",
       "  <th>Model:</th>                   <td>OLS</td>       <th>  Adj. R-squared:    </th> <td>   0.225</td>\n",
       "</tr>\n",
       "<tr>\n",
       "  <th>Method:</th>             <td>Least Squares</td>  <th>  F-statistic:       </th> <td>   7.383</td>\n",
       "</tr>\n",
       "<tr>\n",
       "  <th>Date:</th>             <td>Wed, 20 Nov 2024</td> <th>  Prob (F-statistic):</th>  <td>0.0129</td> \n",
       "</tr>\n",
       "<tr>\n",
       "  <th>Time:</th>                 <td>15:43:11</td>     <th>  Log-Likelihood:    </th> <td>  4.9458</td>\n",
       "</tr>\n",
       "<tr>\n",
       "  <th>No. Observations:</th>      <td>    23</td>      <th>  AIC:               </th> <td>  -5.892</td>\n",
       "</tr>\n",
       "<tr>\n",
       "  <th>Df Residuals:</th>          <td>    21</td>      <th>  BIC:               </th> <td>  -3.621</td>\n",
       "</tr>\n",
       "<tr>\n",
       "  <th>Df Model:</th>              <td>     1</td>      <th>                     </th>     <td> </td>   \n",
       "</tr>\n",
       "<tr>\n",
       "  <th>Covariance Type:</th>      <td>nonrobust</td>    <th>                     </th>     <td> </td>   \n",
       "</tr>\n",
       "</table>\n",
       "<table class=\"simpletable\">\n",
       "<tr>\n",
       "       <td></td>         <th>coef</th>     <th>std err</th>      <th>t</th>      <th>P>|t|</th>  <th>[0.025</th>    <th>0.975]</th>  \n",
       "</tr>\n",
       "<tr>\n",
       "  <th>Intercept</th>  <td>   -0.2655</td> <td>    0.260</td> <td>   -1.021</td> <td> 0.319</td> <td>   -0.806</td> <td>    0.275</td>\n",
       "</tr>\n",
       "<tr>\n",
       "  <th>popularity</th> <td>    0.0118</td> <td>    0.004</td> <td>    2.717</td> <td> 0.013</td> <td>    0.003</td> <td>    0.021</td>\n",
       "</tr>\n",
       "</table>\n",
       "<table class=\"simpletable\">\n",
       "<tr>\n",
       "  <th>Omnibus:</th>       <td> 0.838</td> <th>  Durbin-Watson:     </th> <td>   2.656</td>\n",
       "</tr>\n",
       "<tr>\n",
       "  <th>Prob(Omnibus):</th> <td> 0.658</td> <th>  Jarque-Bera (JB):  </th> <td>   0.783</td>\n",
       "</tr>\n",
       "<tr>\n",
       "  <th>Skew:</th>          <td> 0.392</td> <th>  Prob(JB):          </th> <td>   0.676</td>\n",
       "</tr>\n",
       "<tr>\n",
       "  <th>Kurtosis:</th>      <td> 2.548</td> <th>  Cond. No.          </th> <td>    364.</td>\n",
       "</tr>\n",
       "</table><br/><br/>Notes:<br/>[1] Standard Errors assume that the covariance matrix of the errors is correctly specified."
      ],
      "text/latex": [
       "\\begin{center}\n",
       "\\begin{tabular}{lclc}\n",
       "\\toprule\n",
       "\\textbf{Dep. Variable:}    &     valence      & \\textbf{  R-squared:         } &     0.260   \\\\\n",
       "\\textbf{Model:}            &       OLS        & \\textbf{  Adj. R-squared:    } &     0.225   \\\\\n",
       "\\textbf{Method:}           &  Least Squares   & \\textbf{  F-statistic:       } &     7.383   \\\\\n",
       "\\textbf{Date:}             & Wed, 20 Nov 2024 & \\textbf{  Prob (F-statistic):} &   0.0129    \\\\\n",
       "\\textbf{Time:}             &     15:43:11     & \\textbf{  Log-Likelihood:    } &    4.9458   \\\\\n",
       "\\textbf{No. Observations:} &          23      & \\textbf{  AIC:               } &    -5.892   \\\\\n",
       "\\textbf{Df Residuals:}     &          21      & \\textbf{  BIC:               } &    -3.621   \\\\\n",
       "\\textbf{Df Model:}         &           1      & \\textbf{                     } &             \\\\\n",
       "\\textbf{Covariance Type:}  &    nonrobust     & \\textbf{                     } &             \\\\\n",
       "\\bottomrule\n",
       "\\end{tabular}\n",
       "\\begin{tabular}{lcccccc}\n",
       "                    & \\textbf{coef} & \\textbf{std err} & \\textbf{t} & \\textbf{P$> |$t$|$} & \\textbf{[0.025} & \\textbf{0.975]}  \\\\\n",
       "\\midrule\n",
       "\\textbf{Intercept}  &      -0.2655  &        0.260     &    -1.021  &         0.319        &       -0.806    &        0.275     \\\\\n",
       "\\textbf{popularity} &       0.0118  &        0.004     &     2.717  &         0.013        &        0.003    &        0.021     \\\\\n",
       "\\bottomrule\n",
       "\\end{tabular}\n",
       "\\begin{tabular}{lclc}\n",
       "\\textbf{Omnibus:}       &  0.838 & \\textbf{  Durbin-Watson:     } &    2.656  \\\\\n",
       "\\textbf{Prob(Omnibus):} &  0.658 & \\textbf{  Jarque-Bera (JB):  } &    0.783  \\\\\n",
       "\\textbf{Skew:}          &  0.392 & \\textbf{  Prob(JB):          } &    0.676  \\\\\n",
       "\\textbf{Kurtosis:}      &  2.548 & \\textbf{  Cond. No.          } &     364.  \\\\\n",
       "\\bottomrule\n",
       "\\end{tabular}\n",
       "%\\caption{OLS Regression Results}\n",
       "\\end{center}\n",
       "\n",
       "Notes: \\newline\n",
       " [1] Standard Errors assume that the covariance matrix of the errors is correctly specified."
      ],
      "text/plain": [
       "<class 'statsmodels.iolib.summary.Summary'>\n",
       "\"\"\"\n",
       "                            OLS Regression Results                            \n",
       "==============================================================================\n",
       "Dep. Variable:                valence   R-squared:                       0.260\n",
       "Model:                            OLS   Adj. R-squared:                  0.225\n",
       "Method:                 Least Squares   F-statistic:                     7.383\n",
       "Date:                Wed, 20 Nov 2024   Prob (F-statistic):             0.0129\n",
       "Time:                        15:43:11   Log-Likelihood:                 4.9458\n",
       "No. Observations:                  23   AIC:                            -5.892\n",
       "Df Residuals:                      21   BIC:                            -3.621\n",
       "Df Model:                           1                                         \n",
       "Covariance Type:            nonrobust                                         \n",
       "==============================================================================\n",
       "                 coef    std err          t      P>|t|      [0.025      0.975]\n",
       "------------------------------------------------------------------------------\n",
       "Intercept     -0.2655      0.260     -1.021      0.319      -0.806       0.275\n",
       "popularity     0.0118      0.004      2.717      0.013       0.003       0.021\n",
       "==============================================================================\n",
       "Omnibus:                        0.838   Durbin-Watson:                   2.656\n",
       "Prob(Omnibus):                  0.658   Jarque-Bera (JB):                0.783\n",
       "Skew:                           0.392   Prob(JB):                        0.676\n",
       "Kurtosis:                       2.548   Cond. No.                         364.\n",
       "==============================================================================\n",
       "\n",
       "Notes:\n",
       "[1] Standard Errors assume that the covariance matrix of the errors is correctly specified.\n",
       "\"\"\""
      ]
     },
     "execution_count": 105,
     "metadata": {},
     "output_type": "execute_result"
    }
   ],
   "source": [
    "fit2 = smf.ols('valence ~ popularity', data = clairo_compare_tidy).fit()\n",
    "fit2.summary()"
   ]
  },
  {
   "cell_type": "code",
   "execution_count": 121,
   "id": "57c545d2-7999-44d9-9512-4c31dc673c3e",
   "metadata": {},
   "outputs": [
    {
     "data": {
      "text/plain": [
       "<seaborn.axisgrid.JointGrid at 0x14f4e3fb0>"
      ]
     },
     "execution_count": 121,
     "metadata": {},
     "output_type": "execute_result"
    },
    {
     "data": {
      "image/png": "[encoded data removed]",
      "text/plain": [
       "<Figure size 600x600 with 3 Axes>"
      ]
     },
     "metadata": {},
     "output_type": "display_data"
    }
   ],
   "source": [
    "vvp_graph = sns.jointplot(data=clairo_compare_tidy, x=\"valence\", y=\"popularity\", hue=\"albums\")\n",
    "graph.fig.suptitle(\"Popularity by Valence\")\n",
    "vvp_graph"
   ]
  },
  {
   "cell_type": "markdown",
   "id": "7e22c8a4-bf34-4118-a6a6-4c32d1841d17",
   "metadata": {},
   "source": [
    "This summary has an r-squared value of .260 and both albums have similar valence levels. From this result we can tell that valence has less to do with how popular a song gets than energy."
   ]
  },
  {
   "cell_type": "markdown",
   "id": "45ec3bfe-d31d-466e-80b7-0693d06e438c",
   "metadata": {},
   "source": [
    "From these visualizations, I am now able to conclude that, with room for some error, the level of energy in any one of these songs has a part to play in how popular the songs get."
   ]
  },
  {
   "cell_type": "markdown",
   "id": "a205b4ad-7975-48c3-9e27-ed243ae79b10",
   "metadata": {},
   "source": [
    "Compared to the last submission, I actually had the skills to be able to visualize my assumptions and back them up. The valence levels of each album are very similar, but the energy levels show that \"Charm\" has a much higher result in that area. While valence may not play a large part in how popular a song gets, at least we know. If I possessed the skills to, the next step for me would be to compare both the energy and valence levels with the popularity of each album. This would probably be more of a 3D visualization that I do not currently have the skills to tackle at the moment."
   ]
  },
  {
   "cell_type": "markdown",
   "id": "bec94794-847a-4d95-8784-e6469ebd4a90",
   "metadata": {},
   "source": []
  },
  {
   "cell_type": "markdown",
   "id": "a1d798be-c1d6-44a5-b4b2-c8755f01d09d",
   "metadata": {},
   "source": []
  }
 ],
 "metadata": {
  "kernelspec": {
   "display_name": "Python 3 (ipykernel)",
   "language": "python",
   "name": "python3"
  },
  "language_info": {
   "codemirror_mode": {
    "name": "ipython",
    "version": 3
   },
   "file_extension": ".py",
   "mimetype": "text/x-python",
   "name": "python",
   "nbconvert_exporter": "python",
   "pygments_lexer": "ipython3",
   "version": "3.12.4"
  }
 },
 "nbformat": 4,
 "nbformat_minor": 5
}
