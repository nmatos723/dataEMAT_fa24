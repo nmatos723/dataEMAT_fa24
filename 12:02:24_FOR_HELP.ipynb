{
 "cells": [
  {
   "cell_type": "markdown",
   "metadata": {},
   "source": [
    "#### Comic Vine API Demonstration"
   ]
  },
  {
   "cell_type": "markdown",
   "metadata": {},
   "source": [
    "##### First\n",
    "Some modules and loading in an API key which can be created at the [Comic Vine API page](https://comicvine.gamespot.com/api/). "
   ]
  },
  {
   "cell_type": "code",
   "execution_count": 421,
   "metadata": {},
   "outputs": [],
   "source": [
    "import pandas as pd\n",
    "import requests\n",
    "import json\n",
    "import matplotlib.pyplot as plt\n",
    "import seaborn as sns\n",
    "from scipy import stats\n",
    "import statsmodels.formula.api as smf\n",
    "import numpy as np"
   ]
  },
  {
   "cell_type": "code",
   "execution_count": 422,
   "metadata": {},
   "outputs": [
    {
     "data": {
      "text/plain": [
       "Index(['API-key'], dtype='object')"
      ]
     },
     "execution_count": 422,
     "metadata": {},
     "output_type": "execute_result"
    }
   ],
   "source": [
    "cv_key = pd.read_csv('comicvine key.txt')\n",
    "cv_key.keys()"
   ]
  },
  {
   "cell_type": "code",
   "execution_count": 423,
   "metadata": {},
   "outputs": [],
   "source": [
    "key = cv_key['API-key'].iloc[0]"
   ]
  },
  {
   "cell_type": "markdown",
   "metadata": {},
   "source": [
    "##### Second\n",
    "\n",
    "I am just going to create a few variables to hold the api base URL and structure the parameter that holds your API key."
   ]
  },
  {
   "cell_type": "code",
   "execution_count": 391,
   "metadata": {},
   "outputs": [],
   "source": [
    "api_url = 'https://comicvine.gamespot.com/api/'\n",
    "key_url = 'api_key='+str(key)"
   ]
  },
  {
   "cell_type": "code",
   "execution_count": null,
   "metadata": {},
   "outputs": [],
   "source": []
  },
  {
   "cell_type": "code",
   "execution_count": 392,
   "metadata": {},
   "outputs": [
    {
     "data": {
      "text/plain": [
       "403"
      ]
     },
     "execution_count": 392,
     "metadata": {},
     "output_type": "execute_result"
    }
   ],
   "source": [
    "failed_request = characters_response = requests.get(api_url + 'characters/?' + key_url + '&format=json')\n",
    "failed_request.status_code"
   ]
  },
  {
   "cell_type": "code",
   "execution_count": 393,
   "metadata": {},
   "outputs": [],
   "source": [
    "with open('comicvine_out.html', 'w') as t:\n",
    "    t.write(failed_request.text)"
   ]
  },
  {
   "cell_type": "markdown",
   "metadata": {},
   "source": [
    "##### Explaining the solution:\n",
    "From the output html file, scroll down to the bottom and you will find the following text that explains the reason for the 403 status code:\n",
    "\n",
    ">... Or you're running a bot that does not provide a unique user agent.\n",
    "> \t\t<p>Please provide a UNIQUE user agent that describes you. Do not use a default user agent like \"PHP\", \"Java\", \"Ruby\", \"wget\", \"curl\" etc.<p>\n",
    "> \t\tYou MUST provide a UNIQUE user agent. ...and for God's sake don't impersonate another bot like Google Bot that will for sure \n",
    "> \t\tget you permanently banned.\n",
    "\n",
    "This just means that header information is required for the API to return data. In this case, the header does not require the API key, but instead just needs what is called a User Agent.\n",
    "\n",
    "This User Agent can take many forms. What I include below is a default User Agent which is not entirely what this API wants, but it works well enough for this demonstration.\n",
    "\n",
    "To find your unique user agent, open any browser and go to this [helpful header utility](https://www.whatismybrowser.com/detect/what-is-my-user-agent/).\n",
    "The top box starting with something like: `Mozilla/5.0 (Windows...` is what you could use for the `User-Agent` headers parameter instead of the default used in the example below."
   ]
  },
  {
   "cell_type": "code",
   "execution_count": 394,
   "metadata": {},
   "outputs": [],
   "source": [
    "characters_response = requests.get(api_url + 'characters/?' + key_url + '&format=json', headers = {'User-agent': 'Mozilla/5.0 (Macintosh; Intel Mac OS X 10_15_7) AppleWebKit/605.1.15 (KHTML, like Gecko) Version/18.0.1 Safari/605.1.15'})"
   ]
  },
  {
   "cell_type": "code",
   "execution_count": 395,
   "metadata": {},
   "outputs": [
    {
     "data": {
      "text/plain": [
       "200"
      ]
     },
     "execution_count": 395,
     "metadata": {},
     "output_type": "execute_result"
    }
   ],
   "source": [
    "characters_response.status_code"
   ]
  },
  {
   "cell_type": "code",
   "execution_count": 396,
   "metadata": {},
   "outputs": [
    {
     "data": {
      "text/plain": [
       "dict_keys(['error', 'limit', 'offset', 'number_of_page_results', 'number_of_total_results', 'status_code', 'results', 'version'])"
      ]
     },
     "execution_count": 396,
     "metadata": {},
     "output_type": "execute_result"
    }
   ],
   "source": [
    "cha_dict = json.loads(characters_response.text)\n",
    "cha_dict.keys()"
   ]
  },
  {
   "cell_type": "code",
   "execution_count": 397,
   "metadata": {},
   "outputs": [
    {
     "data": {
      "text/plain": [
       "100"
      ]
     },
     "execution_count": 397,
     "metadata": {},
     "output_type": "execute_result"
    }
   ],
   "source": [
    "len(cha_dict['results'])"
   ]
  },
  {
   "cell_type": "code",
   "execution_count": 398,
   "metadata": {},
   "outputs": [],
   "source": [
    "#cha_dict['results'][0]"
   ]
  },
  {
   "cell_type": "code",
   "execution_count": 399,
   "metadata": {},
   "outputs": [],
   "source": [
    "cha_df = pd.DataFrame(cha_dict['results'])\n",
    "#cha_df.head()"
   ]
  },
  {
   "cell_type": "code",
   "execution_count": null,
   "metadata": {},
   "outputs": [],
   "source": []
  },
  {
   "cell_type": "code",
   "execution_count": null,
   "metadata": {},
   "outputs": [],
   "source": []
  },
  {
   "cell_type": "code",
   "execution_count": 400,
   "metadata": {},
   "outputs": [],
   "source": [
    "spawn_response = requests.get(api_url + 'character/4005-3381?' + key_url + '&format=json', headers = {'User-agent': 'Mozilla/5.0 (Macintosh; Intel Mac OS X 10_15_7) AppleWebKit/605.1.15 (KHTML, like Gecko) Version/18.0.1 Safari/605.1.15'})"
   ]
  },
  {
   "cell_type": "code",
   "execution_count": 401,
   "metadata": {},
   "outputs": [
    {
     "data": {
      "text/plain": [
       "200"
      ]
     },
     "execution_count": 401,
     "metadata": {},
     "output_type": "execute_result"
    }
   ],
   "source": [
    "spawn_response.status_code"
   ]
  },
  {
   "cell_type": "code",
   "execution_count": 402,
   "metadata": {},
   "outputs": [],
   "source": [
    "spawn = json.loads(spawn_response.text)"
   ]
  },
  {
   "cell_type": "code",
   "execution_count": 403,
   "metadata": {},
   "outputs": [
    {
     "data": {
      "text/plain": [
       "dict_keys(['error', 'limit', 'offset', 'number_of_page_results', 'number_of_total_results', 'status_code', 'results', 'version'])"
      ]
     },
     "execution_count": 403,
     "metadata": {},
     "output_type": "execute_result"
    }
   ],
   "source": [
    "spawn.keys()"
   ]
  },
  {
   "cell_type": "markdown",
   "metadata": {},
   "source": [
    "trial for figuring out how to call a character"
   ]
  },
  {
   "cell_type": "code",
   "execution_count": null,
   "metadata": {},
   "outputs": [],
   "source": []
  },
  {
   "cell_type": "code",
   "execution_count": null,
   "metadata": {},
   "outputs": [],
   "source": []
  },
  {
   "cell_type": "markdown",
   "metadata": {},
   "source": [
    "                                                 PAGE BREAK LOL"
   ]
  },
  {
   "cell_type": "code",
   "execution_count": null,
   "metadata": {},
   "outputs": [],
   "source": []
  },
  {
   "cell_type": "code",
   "execution_count": null,
   "metadata": {},
   "outputs": [],
   "source": []
  },
  {
   "cell_type": "code",
   "execution_count": null,
   "metadata": {},
   "outputs": [],
   "source": []
  },
  {
   "cell_type": "code",
   "execution_count": 404,
   "metadata": {},
   "outputs": [],
   "source": [
    "char_list = ['4005-24863', '4005-3381', '4005-40550', '4005-51840', '4005-42443', '4005-5210', '4005-48901', '4005-17996', '4005-5209','4005-5195','4005-5182','4005-47906', '4005-6538', '4005-64035', '4005-17859']\n",
    "responses = []\n",
    "for i in char_list:\n",
    "    resp = requests.get(api_url+'character/'+str(i)+'?'+key_url + '&format=json', headers = {'User-agent': 'Mozilla/5.0 (Macintosh; Intel Mac OS X 10_15_7) AppleWebKit/605.1.15 (KHTML, like Gecko) Version/18.0.1 Safari/605.1.15'} )\n",
    "    chj = json.loads(resp.text)\n",
    "    responses.append(chj['results'])"
   ]
  },
  {
   "cell_type": "code",
   "execution_count": 405,
   "metadata": {},
   "outputs": [
    {
     "name": "stdout",
     "output_type": "stream",
     "text": [
      "https://comicvine.gamespot.com/api/character/4005-17859?api_key=61e513aa5ef93ccd3df87a74b91f41a6fce71448\n"
     ]
    }
   ],
   "source": [
    "print(api_url + 'character/' + str(i) + '?' + key_url)"
   ]
  },
  {
   "cell_type": "code",
   "execution_count": 406,
   "metadata": {},
   "outputs": [],
   "source": [
    "ic_df = pd.DataFrame(responses)\n",
    "#ic_df"
   ]
  },
  {
   "cell_type": "markdown",
   "metadata": {},
   "source": []
  },
  {
   "cell_type": "markdown",
   "metadata": {},
   "source": [
    "I have begun to put the characters that I would like to focus on in their own dataframe so far. I did this by getting the ID's of each character manually and putting them in a list. The function that is above automatically gets the 'results' from each character's call and puts them into a dataframe."
   ]
  },
  {
   "cell_type": "code",
   "execution_count": 407,
   "metadata": {},
   "outputs": [
    {
     "data": {
      "text/plain": [
       "{'api_detail_url': 'https://comicvine.gamespot.com/api/publisher/4010-513/',\n",
       " 'id': 513,\n",
       " 'name': 'Image'}"
      ]
     },
     "execution_count": 407,
     "metadata": {},
     "output_type": "execute_result"
    }
   ],
   "source": [
    "ic_df['publisher'].iloc[1]"
   ]
  },
  {
   "cell_type": "markdown",
   "metadata": {},
   "source": [
    "need to somehow make it so that that 513 code (which = image comics) reads image comics in the dataframe. 521 means creator-owned. used chatgpt to help out below with anything that has the lambda functionaility inputted as well as this function (map_publisher_id) below. I used it because I needed to know how to isolate just the 'id' of 'publisher' as well as the 'issue_number' from 'first_appeared_in_issue', 'name' from 'movies', and 'name' from 'powers'"
   ]
  },
  {
   "cell_type": "code",
   "execution_count": 408,
   "metadata": {},
   "outputs": [],
   "source": [
    "ic_df['publisher_id'] = ic_df['publisher'].apply(lambda x: x.get('id') if x else None)"
   ]
  },
  {
   "cell_type": "code",
   "execution_count": 409,
   "metadata": {},
   "outputs": [],
   "source": [
    "def map_publisher_id(x):\n",
    "    if x.get('id') == 513:\n",
    "        return 'Image Comics'\n",
    "    elif x.get('id') == 521:\n",
    "        return 'creator-owned'\n",
    "    else:\n",
    "        return None  # Default to None if no match\n",
    "\n",
    "ic_df['publisher_type'] = ic_df['publisher'].apply(lambda x: map_publisher_id(x) if x else None)"
   ]
  },
  {
   "cell_type": "markdown",
   "metadata": {},
   "source": []
  },
  {
   "cell_type": "code",
   "execution_count": 410,
   "metadata": {},
   "outputs": [
    {
     "data": {
      "text/plain": [
       "{'api_detail_url': 'https://comicvine.gamespot.com/api/first_appeared_in_issue/4000-170742/',\n",
       " 'id': 170742,\n",
       " 'name': None,\n",
       " 'issue_number': '16'}"
      ]
     },
     "execution_count": 410,
     "metadata": {},
     "output_type": "execute_result"
    }
   ],
   "source": [
    "ic_df['first_appeared_in_issue'].iloc[0]"
   ]
  },
  {
   "cell_type": "code",
   "execution_count": 411,
   "metadata": {},
   "outputs": [],
   "source": [
    "ic_df['issue_number'] = ic_df['first_appeared_in_issue'].apply(lambda x: x.get('issue_number'))\n",
    "ic_df.rename(columns={'issue_number': 'first_issue_number'}, inplace=True)\n",
    "#ic_df"
   ]
  },
  {
   "cell_type": "code",
   "execution_count": 412,
   "metadata": {},
   "outputs": [
    {
     "data": {
      "text/plain": [
       "[{'api_detail_url': 'https://comicvine.gamespot.com/api/movie/4025-1083/',\n",
       "  'id': 1083,\n",
       "  'name': \"Todd McFarlane's Spawn\",\n",
       "  'site_detail_url': 'https://comicvine.gamespot.com/todd-mcfarlanes-spawn/4025-1083/'},\n",
       " {'api_detail_url': 'https://comicvine.gamespot.com/api/movie/4025-38/',\n",
       "  'id': 38,\n",
       "  'name': 'Spawn',\n",
       "  'site_detail_url': 'https://comicvine.gamespot.com/spawn/4025-38/'}]"
      ]
     },
     "execution_count": 412,
     "metadata": {},
     "output_type": "execute_result"
    }
   ],
   "source": [
    "ic_df['movies'].iloc[1]"
   ]
  },
  {
   "cell_type": "code",
   "execution_count": 413,
   "metadata": {},
   "outputs": [],
   "source": [
    "ic_df['movie_names'] = ic_df['movies'].apply(lambda x: [movie.get('name') for movie in x])\n",
    "#ic_df"
   ]
  },
  {
   "cell_type": "code",
   "execution_count": 414,
   "metadata": {},
   "outputs": [],
   "source": [
    "#ic_df['powers'].iloc[0]"
   ]
  },
  {
   "cell_type": "code",
   "execution_count": 415,
   "metadata": {},
   "outputs": [],
   "source": [
    "ic_df['power_names'] = ic_df['powers'].apply(lambda x: [power['name'] for power in x] if isinstance(x, list) else None)"
   ]
  },
  {
   "cell_type": "code",
   "execution_count": 416,
   "metadata": {},
   "outputs": [],
   "source": [
    "ic_df_tidy  = ic_df.drop(columns = ['story_arc_credits', 'team_enemies', 'team_friends', 'volume_credits', 'teams', 'character_enemies', 'character_friends', 'birth', 'image', 'creators', 'issue_credits', 'movies', 'issues_died_in', 'origin', 'description', 'first_appeared_in_issue', 'powers', 'publisher', 'aliases', 'api_detail_url'])\n",
    "#ic_df_tidy.sort_values(by='name')"
   ]
  },
  {
   "cell_type": "code",
   "execution_count": 417,
   "metadata": {},
   "outputs": [],
   "source": [
    "image_df = ic_df_tidy[['name','real_name','power_names', 'count_of_issue_appearances','gender','id','deck','date_added','date_last_updated','site_detail_url']]"
   ]
  },
  {
   "cell_type": "code",
   "execution_count": 418,
   "metadata": {},
   "outputs": [
    {
     "data": {
      "text/html": [
       "<div>\n",
       "<style scoped>\n",
       "    .dataframe tbody tr th:only-of-type {\n",
       "        vertical-align: middle;\n",
       "    }\n",
       "\n",
       "    .dataframe tbody tr th {\n",
       "        vertical-align: top;\n",
       "    }\n",
       "\n",
       "    .dataframe thead th {\n",
       "        text-align: right;\n",
       "    }\n",
       "</style>\n",
       "<table border=\"1\" class=\"dataframe\">\n",
       "  <thead>\n",
       "    <tr style=\"text-align: right;\">\n",
       "      <th></th>\n",
       "      <th>name</th>\n",
       "      <th>real_name</th>\n",
       "      <th>power_names</th>\n",
       "      <th>count_of_issue_appearances</th>\n",
       "      <th>gender</th>\n",
       "      <th>id</th>\n",
       "      <th>deck</th>\n",
       "      <th>date_added</th>\n",
       "      <th>date_last_updated</th>\n",
       "      <th>site_detail_url</th>\n",
       "    </tr>\n",
       "  </thead>\n",
       "  <tbody>\n",
       "    <tr>\n",
       "      <th>1</th>\n",
       "      <td>Spawn (Simmons)</td>\n",
       "      <td>Al Simmons</td>\n",
       "      <td>[Flight, Super Strength, Super Speed, Agility,...</td>\n",
       "      <td>1490</td>\n",
       "      <td>1</td>\n",
       "      <td>3381</td>\n",
       "      <td>A highly trained assassin, murdered by his emp...</td>\n",
       "      <td>2008-06-06 11:27:42</td>\n",
       "      <td>2024-08-17 07:14:45</td>\n",
       "      <td>https://comicvine.gamespot.com/spawn-simmons/4...</td>\n",
       "    </tr>\n",
       "    <tr>\n",
       "      <th>8</th>\n",
       "      <td>Savage Dragon</td>\n",
       "      <td>Kurr</td>\n",
       "      <td>[Super Strength, Super Speed, Agility, Stamina...</td>\n",
       "      <td>579</td>\n",
       "      <td>1</td>\n",
       "      <td>5209</td>\n",
       "      <td>Savage Dragon is a green-skinned superhero/ali...</td>\n",
       "      <td>2008-06-06 11:27:36</td>\n",
       "      <td>2023-03-06 06:44:37</td>\n",
       "      <td>https://comicvine.gamespot.com/savage-dragon/4...</td>\n",
       "    </tr>\n",
       "    <tr>\n",
       "      <th>4</th>\n",
       "      <td>Rick Grimes</td>\n",
       "      <td>Richard Grimes</td>\n",
       "      <td>[Intellect, Weapon Master, Unarmed Combat, Mar...</td>\n",
       "      <td>501</td>\n",
       "      <td>1</td>\n",
       "      <td>42443</td>\n",
       "      <td>Rick Grimes was formerly a police officer in t...</td>\n",
       "      <td>2008-06-06 11:27:28</td>\n",
       "      <td>2023-06-23 07:17:18</td>\n",
       "      <td>https://comicvine.gamespot.com/rick-grimes/400...</td>\n",
       "    </tr>\n",
       "    <tr>\n",
       "      <th>5</th>\n",
       "      <td>Invincible</td>\n",
       "      <td>Markus Sebastian Grayson</td>\n",
       "      <td>[Flight, Super Strength, Super Speed, Agility,...</td>\n",
       "      <td>444</td>\n",
       "      <td>1</td>\n",
       "      <td>5210</td>\n",
       "      <td>Girls, acne, homework and supervillains. When ...</td>\n",
       "      <td>2008-06-06 11:27:37</td>\n",
       "      <td>2024-03-02 06:00:28</td>\n",
       "      <td>https://comicvine.gamespot.com/invincible/4005...</td>\n",
       "    </tr>\n",
       "    <tr>\n",
       "      <th>7</th>\n",
       "      <td>SuperPatriot</td>\n",
       "      <td>John Quincy Armstrong</td>\n",
       "      <td>[Super Strength, Agility, Stamina, Invulnerabi...</td>\n",
       "      <td>259</td>\n",
       "      <td>1</td>\n",
       "      <td>17996</td>\n",
       "      <td>An American soldier of World War II, who was c...</td>\n",
       "      <td>2008-06-06 11:27:32</td>\n",
       "      <td>2021-04-10 23:57:15</td>\n",
       "      <td>https://comicvine.gamespot.com/superpatriot/40...</td>\n",
       "    </tr>\n",
       "    <tr>\n",
       "      <th>9</th>\n",
       "      <td>Shadowhawk</td>\n",
       "      <td>Eddie Collins</td>\n",
       "      <td>[Super Strength, Super Speed, Agility, Intelle...</td>\n",
       "      <td>197</td>\n",
       "      <td>1</td>\n",
       "      <td>5195</td>\n",
       "      <td>Various men and women throughout the ages have...</td>\n",
       "      <td>2008-06-06 11:27:34</td>\n",
       "      <td>2024-02-22 09:46:13</td>\n",
       "      <td>https://comicvine.gamespot.com/shadowhawk/4005...</td>\n",
       "    </tr>\n",
       "    <tr>\n",
       "      <th>11</th>\n",
       "      <td>Cassie Hack</td>\n",
       "      <td>Cassandra Hack</td>\n",
       "      <td>[Agility, Stamina, Weapon Master, Unarmed Comb...</td>\n",
       "      <td>191</td>\n",
       "      <td>2</td>\n",
       "      <td>47906</td>\n",
       "      <td>Cassie Hack is the lone survivor of an attack ...</td>\n",
       "      <td>2008-06-06 11:27:20</td>\n",
       "      <td>2024-05-18 13:47:52</td>\n",
       "      <td>https://comicvine.gamespot.com/cassie-hack/400...</td>\n",
       "    </tr>\n",
       "    <tr>\n",
       "      <th>10</th>\n",
       "      <td>Shaft</td>\n",
       "      <td>Jeff Allan Terrell</td>\n",
       "      <td>[Weapon Master, Unarmed Combat, Gadgets, Sword...</td>\n",
       "      <td>186</td>\n",
       "      <td>1</td>\n",
       "      <td>5182</td>\n",
       "      <td>Former FBI Agent Jeff Terrell is recruited to ...</td>\n",
       "      <td>2008-06-06 11:27:33</td>\n",
       "      <td>2021-10-01 22:58:02</td>\n",
       "      <td>https://comicvine.gamespot.com/shaft/4005-5182/</td>\n",
       "    </tr>\n",
       "    <tr>\n",
       "      <th>12</th>\n",
       "      <td>Supreme</td>\n",
       "      <td>Ethan Thomas Crane</td>\n",
       "      <td>[Flight, Super Strength, Super Speed, Agility,...</td>\n",
       "      <td>161</td>\n",
       "      <td>1</td>\n",
       "      <td>6538</td>\n",
       "      <td>The equivalent of Superman in Rob Liefeld's co...</td>\n",
       "      <td>2008-06-06 11:27:36</td>\n",
       "      <td>2024-03-07 20:28:36</td>\n",
       "      <td>https://comicvine.gamespot.com/supreme/4005-6538/</td>\n",
       "    </tr>\n",
       "    <tr>\n",
       "      <th>2</th>\n",
       "      <td>Omni-Man</td>\n",
       "      <td>Nolan</td>\n",
       "      <td>[Flight, Super Strength, Super Speed, Agility,...</td>\n",
       "      <td>156</td>\n",
       "      <td>1</td>\n",
       "      <td>40550</td>\n",
       "      <td>Father of the famous teen superhero Invincible...</td>\n",
       "      <td>2008-06-06 11:27:34</td>\n",
       "      <td>2023-06-24 21:30:39</td>\n",
       "      <td>https://comicvine.gamespot.com/omni-man/4005-4...</td>\n",
       "    </tr>\n",
       "    <tr>\n",
       "      <th>13</th>\n",
       "      <td>Ralph</td>\n",
       "      <td>Ralph</td>\n",
       "      <td>[Stamina, Intellect, Weapon Master, Gadgets, A...</td>\n",
       "      <td>151</td>\n",
       "      <td>1</td>\n",
       "      <td>64035</td>\n",
       "      <td>Ralph is a midget circus bear from the animal ...</td>\n",
       "      <td>2009-07-29 10:52:24</td>\n",
       "      <td>2024-11-24 13:57:18</td>\n",
       "      <td>https://comicvine.gamespot.com/ralph/4005-64035/</td>\n",
       "    </tr>\n",
       "    <tr>\n",
       "      <th>14</th>\n",
       "      <td>Vanguard</td>\n",
       "      <td>Vanguard Thakka</td>\n",
       "      <td>[Flight, Super Strength, Invulnerability, Weap...</td>\n",
       "      <td>147</td>\n",
       "      <td>1</td>\n",
       "      <td>17859</td>\n",
       "      <td>Vanguard is an alien from the planet Kalyptus,...</td>\n",
       "      <td>2008-06-06 11:27:28</td>\n",
       "      <td>2024-03-15 22:35:57</td>\n",
       "      <td>https://comicvine.gamespot.com/vanguard/4005-1...</td>\n",
       "    </tr>\n",
       "    <tr>\n",
       "      <th>0</th>\n",
       "      <td>Maxx</td>\n",
       "      <td>Dave</td>\n",
       "      <td>[Super Strength, Super Speed, Agility, Super S...</td>\n",
       "      <td>126</td>\n",
       "      <td>1</td>\n",
       "      <td>24863</td>\n",
       "      <td>A mysterious, foul smelling, cartoon loving, P...</td>\n",
       "      <td>2008-06-06 11:27:35</td>\n",
       "      <td>2023-07-10 11:12:15</td>\n",
       "      <td>https://comicvine.gamespot.com/maxx/4005-24863/</td>\n",
       "    </tr>\n",
       "    <tr>\n",
       "      <th>3</th>\n",
       "      <td>Kick-Ass</td>\n",
       "      <td>David Lizewski</td>\n",
       "      <td>[Agility, Stamina, Implants, Unarmed Combat, G...</td>\n",
       "      <td>69</td>\n",
       "      <td>1</td>\n",
       "      <td>51840</td>\n",
       "      <td>Dave Lizewski was an average high school stude...</td>\n",
       "      <td>2008-06-06 11:25:02</td>\n",
       "      <td>2019-05-27 14:01:21</td>\n",
       "      <td>https://comicvine.gamespot.com/kick-ass/4005-5...</td>\n",
       "    </tr>\n",
       "    <tr>\n",
       "      <th>6</th>\n",
       "      <td>Proof</td>\n",
       "      <td>Gulliver</td>\n",
       "      <td>[Super Strength, Stamina, Intellect, Weapon Ma...</td>\n",
       "      <td>40</td>\n",
       "      <td>1</td>\n",
       "      <td>48901</td>\n",
       "      <td>Proof is a member of The Lodge, an agency dedi...</td>\n",
       "      <td>2008-06-06 11:26:17</td>\n",
       "      <td>2013-03-12 02:49:52</td>\n",
       "      <td>https://comicvine.gamespot.com/proof/4005-48901/</td>\n",
       "    </tr>\n",
       "  </tbody>\n",
       "</table>\n",
       "</div>"
      ],
      "text/plain": [
       "               name                 real_name  \\\n",
       "1   Spawn (Simmons)                Al Simmons   \n",
       "8     Savage Dragon                      Kurr   \n",
       "4       Rick Grimes            Richard Grimes   \n",
       "5        Invincible  Markus Sebastian Grayson   \n",
       "7      SuperPatriot     John Quincy Armstrong   \n",
       "9        Shadowhawk             Eddie Collins   \n",
       "11      Cassie Hack            Cassandra Hack   \n",
       "10            Shaft        Jeff Allan Terrell   \n",
       "12          Supreme        Ethan Thomas Crane   \n",
       "2          Omni-Man                     Nolan   \n",
       "13            Ralph                     Ralph   \n",
       "14         Vanguard           Vanguard Thakka   \n",
       "0              Maxx                      Dave   \n",
       "3          Kick-Ass            David Lizewski   \n",
       "6             Proof                  Gulliver   \n",
       "\n",
       "                                          power_names  \\\n",
       "1   [Flight, Super Strength, Super Speed, Agility,...   \n",
       "8   [Super Strength, Super Speed, Agility, Stamina...   \n",
       "4   [Intellect, Weapon Master, Unarmed Combat, Mar...   \n",
       "5   [Flight, Super Strength, Super Speed, Agility,...   \n",
       "7   [Super Strength, Agility, Stamina, Invulnerabi...   \n",
       "9   [Super Strength, Super Speed, Agility, Intelle...   \n",
       "11  [Agility, Stamina, Weapon Master, Unarmed Comb...   \n",
       "10  [Weapon Master, Unarmed Combat, Gadgets, Sword...   \n",
       "12  [Flight, Super Strength, Super Speed, Agility,...   \n",
       "2   [Flight, Super Strength, Super Speed, Agility,...   \n",
       "13  [Stamina, Intellect, Weapon Master, Gadgets, A...   \n",
       "14  [Flight, Super Strength, Invulnerability, Weap...   \n",
       "0   [Super Strength, Super Speed, Agility, Super S...   \n",
       "3   [Agility, Stamina, Implants, Unarmed Combat, G...   \n",
       "6   [Super Strength, Stamina, Intellect, Weapon Ma...   \n",
       "\n",
       "    count_of_issue_appearances  gender     id  \\\n",
       "1                         1490       1   3381   \n",
       "8                          579       1   5209   \n",
       "4                          501       1  42443   \n",
       "5                          444       1   5210   \n",
       "7                          259       1  17996   \n",
       "9                          197       1   5195   \n",
       "11                         191       2  47906   \n",
       "10                         186       1   5182   \n",
       "12                         161       1   6538   \n",
       "2                          156       1  40550   \n",
       "13                         151       1  64035   \n",
       "14                         147       1  17859   \n",
       "0                          126       1  24863   \n",
       "3                           69       1  51840   \n",
       "6                           40       1  48901   \n",
       "\n",
       "                                                 deck           date_added  \\\n",
       "1   A highly trained assassin, murdered by his emp...  2008-06-06 11:27:42   \n",
       "8   Savage Dragon is a green-skinned superhero/ali...  2008-06-06 11:27:36   \n",
       "4   Rick Grimes was formerly a police officer in t...  2008-06-06 11:27:28   \n",
       "5   Girls, acne, homework and supervillains. When ...  2008-06-06 11:27:37   \n",
       "7   An American soldier of World War II, who was c...  2008-06-06 11:27:32   \n",
       "9   Various men and women throughout the ages have...  2008-06-06 11:27:34   \n",
       "11  Cassie Hack is the lone survivor of an attack ...  2008-06-06 11:27:20   \n",
       "10  Former FBI Agent Jeff Terrell is recruited to ...  2008-06-06 11:27:33   \n",
       "12  The equivalent of Superman in Rob Liefeld's co...  2008-06-06 11:27:36   \n",
       "2   Father of the famous teen superhero Invincible...  2008-06-06 11:27:34   \n",
       "13  Ralph is a midget circus bear from the animal ...  2009-07-29 10:52:24   \n",
       "14  Vanguard is an alien from the planet Kalyptus,...  2008-06-06 11:27:28   \n",
       "0   A mysterious, foul smelling, cartoon loving, P...  2008-06-06 11:27:35   \n",
       "3   Dave Lizewski was an average high school stude...  2008-06-06 11:25:02   \n",
       "6   Proof is a member of The Lodge, an agency dedi...  2008-06-06 11:26:17   \n",
       "\n",
       "      date_last_updated                                    site_detail_url  \n",
       "1   2024-08-17 07:14:45  https://comicvine.gamespot.com/spawn-simmons/4...  \n",
       "8   2023-03-06 06:44:37  https://comicvine.gamespot.com/savage-dragon/4...  \n",
       "4   2023-06-23 07:17:18  https://comicvine.gamespot.com/rick-grimes/400...  \n",
       "5   2024-03-02 06:00:28  https://comicvine.gamespot.com/invincible/4005...  \n",
       "7   2021-04-10 23:57:15  https://comicvine.gamespot.com/superpatriot/40...  \n",
       "9   2024-02-22 09:46:13  https://comicvine.gamespot.com/shadowhawk/4005...  \n",
       "11  2024-05-18 13:47:52  https://comicvine.gamespot.com/cassie-hack/400...  \n",
       "10  2021-10-01 22:58:02    https://comicvine.gamespot.com/shaft/4005-5182/  \n",
       "12  2024-03-07 20:28:36  https://comicvine.gamespot.com/supreme/4005-6538/  \n",
       "2   2023-06-24 21:30:39  https://comicvine.gamespot.com/omni-man/4005-4...  \n",
       "13  2024-11-24 13:57:18   https://comicvine.gamespot.com/ralph/4005-64035/  \n",
       "14  2024-03-15 22:35:57  https://comicvine.gamespot.com/vanguard/4005-1...  \n",
       "0   2023-07-10 11:12:15    https://comicvine.gamespot.com/maxx/4005-24863/  \n",
       "3   2019-05-27 14:01:21  https://comicvine.gamespot.com/kick-ass/4005-5...  \n",
       "6   2013-03-12 02:49:52   https://comicvine.gamespot.com/proof/4005-48901/  "
      ]
     },
     "execution_count": 418,
     "metadata": {},
     "output_type": "execute_result"
    }
   ],
   "source": [
    "image_df.sort_values(by='count_of_issue_appearances', ascending = False)"
   ]
  },
  {
   "cell_type": "markdown",
   "metadata": {},
   "source": [
    "this dataframe is now tidy as I have gotten rid of unnecessary columns as well as simplifying a few that were too complicated.\n",
    "\n",
    "\n",
    "i would like to make a note that these characters were not as a popular as i thought and appeared in many less issues. Originally I was going to see how many issues each character was getting over the years and if they were gaining popularity. From the keys in this dataframe I am not really able to work with the data from over the years. My next idea is to pit these image comic characters against marvel characters and see if there is a correlation between powers and count_of_issues_appeared\n",
    "\n"
   ]
  },
  {
   "cell_type": "code",
   "execution_count": null,
   "metadata": {},
   "outputs": [],
   "source": []
  },
  {
   "cell_type": "code",
   "execution_count": null,
   "metadata": {},
   "outputs": [],
   "source": []
  },
  {
   "cell_type": "code",
   "execution_count": null,
   "metadata": {},
   "outputs": [],
   "source": []
  },
  {
   "cell_type": "markdown",
   "metadata": {},
   "source": [
    "                                                    PAGE BREAK                  "
   ]
  },
  {
   "cell_type": "code",
   "execution_count": null,
   "metadata": {},
   "outputs": [],
   "source": []
  },
  {
   "cell_type": "code",
   "execution_count": null,
   "metadata": {},
   "outputs": [],
   "source": []
  },
  {
   "cell_type": "code",
   "execution_count": null,
   "metadata": {},
   "outputs": [],
   "source": []
  },
  {
   "cell_type": "code",
   "execution_count": 424,
   "metadata": {},
   "outputs": [
    {
     "ename": "JSONDecodeError",
     "evalue": "Expecting value: line 2 column 1 (char 1)",
     "output_type": "error",
     "traceback": [
      "\u001b[0;31m---------------------------------------------------------------------------\u001b[0m",
      "\u001b[0;31mJSONDecodeError\u001b[0m                           Traceback (most recent call last)",
      "Cell \u001b[0;32mIn[424], line 5\u001b[0m\n\u001b[1;32m      3\u001b[0m \u001b[38;5;28;01mfor\u001b[39;00m i \u001b[38;5;129;01min\u001b[39;00m m_char_list:\n\u001b[1;32m      4\u001b[0m     m_resp \u001b[38;5;241m=\u001b[39m requests\u001b[38;5;241m.\u001b[39mget(api_url\u001b[38;5;241m+\u001b[39m\u001b[38;5;124m'\u001b[39m\u001b[38;5;124mcharacter/\u001b[39m\u001b[38;5;124m'\u001b[39m\u001b[38;5;241m+\u001b[39m\u001b[38;5;28mstr\u001b[39m(i)\u001b[38;5;241m+\u001b[39m\u001b[38;5;124m'\u001b[39m\u001b[38;5;124m?\u001b[39m\u001b[38;5;124m'\u001b[39m\u001b[38;5;241m+\u001b[39mkey_url \u001b[38;5;241m+\u001b[39m \u001b[38;5;124m'\u001b[39m\u001b[38;5;124m&format=json\u001b[39m\u001b[38;5;124m'\u001b[39m, headers \u001b[38;5;241m=\u001b[39m {\u001b[38;5;124m'\u001b[39m\u001b[38;5;124mUser-agent\u001b[39m\u001b[38;5;124m'\u001b[39m: \u001b[38;5;124m'\u001b[39m\u001b[38;5;124mMozilla/5.0 (Macintosh; Intel Mac OS X 10_15_7) AppleWebKit/605.1.15 (KHTML, like Gecko) Version/18.0.1 Safari/605.1.15\u001b[39m\u001b[38;5;124m'\u001b[39m} )\n\u001b[0;32m----> 5\u001b[0m     m_chj \u001b[38;5;241m=\u001b[39m \u001b[43mjson\u001b[49m\u001b[38;5;241;43m.\u001b[39;49m\u001b[43mloads\u001b[49m\u001b[43m(\u001b[49m\u001b[43mm_resp\u001b[49m\u001b[38;5;241;43m.\u001b[39;49m\u001b[43mtext\u001b[49m\u001b[43m)\u001b[49m\n\u001b[1;32m      6\u001b[0m     m_responses\u001b[38;5;241m.\u001b[39mappend(m_chj[\u001b[38;5;124m'\u001b[39m\u001b[38;5;124mresults\u001b[39m\u001b[38;5;124m'\u001b[39m])\n",
      "File \u001b[0;32m/opt/anaconda3/envs/dataEMAT_fa24/lib/python3.12/json/__init__.py:346\u001b[0m, in \u001b[0;36mloads\u001b[0;34m(s, cls, object_hook, parse_float, parse_int, parse_constant, object_pairs_hook, **kw)\u001b[0m\n\u001b[1;32m    341\u001b[0m     s \u001b[38;5;241m=\u001b[39m s\u001b[38;5;241m.\u001b[39mdecode(detect_encoding(s), \u001b[38;5;124m'\u001b[39m\u001b[38;5;124msurrogatepass\u001b[39m\u001b[38;5;124m'\u001b[39m)\n\u001b[1;32m    343\u001b[0m \u001b[38;5;28;01mif\u001b[39;00m (\u001b[38;5;28mcls\u001b[39m \u001b[38;5;129;01mis\u001b[39;00m \u001b[38;5;28;01mNone\u001b[39;00m \u001b[38;5;129;01mand\u001b[39;00m object_hook \u001b[38;5;129;01mis\u001b[39;00m \u001b[38;5;28;01mNone\u001b[39;00m \u001b[38;5;129;01mand\u001b[39;00m\n\u001b[1;32m    344\u001b[0m         parse_int \u001b[38;5;129;01mis\u001b[39;00m \u001b[38;5;28;01mNone\u001b[39;00m \u001b[38;5;129;01mand\u001b[39;00m parse_float \u001b[38;5;129;01mis\u001b[39;00m \u001b[38;5;28;01mNone\u001b[39;00m \u001b[38;5;129;01mand\u001b[39;00m\n\u001b[1;32m    345\u001b[0m         parse_constant \u001b[38;5;129;01mis\u001b[39;00m \u001b[38;5;28;01mNone\u001b[39;00m \u001b[38;5;129;01mand\u001b[39;00m object_pairs_hook \u001b[38;5;129;01mis\u001b[39;00m \u001b[38;5;28;01mNone\u001b[39;00m \u001b[38;5;129;01mand\u001b[39;00m \u001b[38;5;129;01mnot\u001b[39;00m kw):\n\u001b[0;32m--> 346\u001b[0m     \u001b[38;5;28;01mreturn\u001b[39;00m \u001b[43m_default_decoder\u001b[49m\u001b[38;5;241;43m.\u001b[39;49m\u001b[43mdecode\u001b[49m\u001b[43m(\u001b[49m\u001b[43ms\u001b[49m\u001b[43m)\u001b[49m\n\u001b[1;32m    347\u001b[0m \u001b[38;5;28;01mif\u001b[39;00m \u001b[38;5;28mcls\u001b[39m \u001b[38;5;129;01mis\u001b[39;00m \u001b[38;5;28;01mNone\u001b[39;00m:\n\u001b[1;32m    348\u001b[0m     \u001b[38;5;28mcls\u001b[39m \u001b[38;5;241m=\u001b[39m JSONDecoder\n",
      "File \u001b[0;32m/opt/anaconda3/envs/dataEMAT_fa24/lib/python3.12/json/decoder.py:337\u001b[0m, in \u001b[0;36mJSONDecoder.decode\u001b[0;34m(self, s, _w)\u001b[0m\n\u001b[1;32m    332\u001b[0m \u001b[38;5;28;01mdef\u001b[39;00m \u001b[38;5;21mdecode\u001b[39m(\u001b[38;5;28mself\u001b[39m, s, _w\u001b[38;5;241m=\u001b[39mWHITESPACE\u001b[38;5;241m.\u001b[39mmatch):\n\u001b[1;32m    333\u001b[0m \u001b[38;5;250m    \u001b[39m\u001b[38;5;124;03m\"\"\"Return the Python representation of ``s`` (a ``str`` instance\u001b[39;00m\n\u001b[1;32m    334\u001b[0m \u001b[38;5;124;03m    containing a JSON document).\u001b[39;00m\n\u001b[1;32m    335\u001b[0m \n\u001b[1;32m    336\u001b[0m \u001b[38;5;124;03m    \"\"\"\u001b[39;00m\n\u001b[0;32m--> 337\u001b[0m     obj, end \u001b[38;5;241m=\u001b[39m \u001b[38;5;28;43mself\u001b[39;49m\u001b[38;5;241;43m.\u001b[39;49m\u001b[43mraw_decode\u001b[49m\u001b[43m(\u001b[49m\u001b[43ms\u001b[49m\u001b[43m,\u001b[49m\u001b[43m \u001b[49m\u001b[43midx\u001b[49m\u001b[38;5;241;43m=\u001b[39;49m\u001b[43m_w\u001b[49m\u001b[43m(\u001b[49m\u001b[43ms\u001b[49m\u001b[43m,\u001b[49m\u001b[43m \u001b[49m\u001b[38;5;241;43m0\u001b[39;49m\u001b[43m)\u001b[49m\u001b[38;5;241;43m.\u001b[39;49m\u001b[43mend\u001b[49m\u001b[43m(\u001b[49m\u001b[43m)\u001b[49m\u001b[43m)\u001b[49m\n\u001b[1;32m    338\u001b[0m     end \u001b[38;5;241m=\u001b[39m _w(s, end)\u001b[38;5;241m.\u001b[39mend()\n\u001b[1;32m    339\u001b[0m     \u001b[38;5;28;01mif\u001b[39;00m end \u001b[38;5;241m!=\u001b[39m \u001b[38;5;28mlen\u001b[39m(s):\n",
      "File \u001b[0;32m/opt/anaconda3/envs/dataEMAT_fa24/lib/python3.12/json/decoder.py:355\u001b[0m, in \u001b[0;36mJSONDecoder.raw_decode\u001b[0;34m(self, s, idx)\u001b[0m\n\u001b[1;32m    353\u001b[0m     obj, end \u001b[38;5;241m=\u001b[39m \u001b[38;5;28mself\u001b[39m\u001b[38;5;241m.\u001b[39mscan_once(s, idx)\n\u001b[1;32m    354\u001b[0m \u001b[38;5;28;01mexcept\u001b[39;00m \u001b[38;5;167;01mStopIteration\u001b[39;00m \u001b[38;5;28;01mas\u001b[39;00m err:\n\u001b[0;32m--> 355\u001b[0m     \u001b[38;5;28;01mraise\u001b[39;00m JSONDecodeError(\u001b[38;5;124m\"\u001b[39m\u001b[38;5;124mExpecting value\u001b[39m\u001b[38;5;124m\"\u001b[39m, s, err\u001b[38;5;241m.\u001b[39mvalue) \u001b[38;5;28;01mfrom\u001b[39;00m \u001b[38;5;28;01mNone\u001b[39;00m\n\u001b[1;32m    356\u001b[0m \u001b[38;5;28;01mreturn\u001b[39;00m obj, end\n",
      "\u001b[0;31mJSONDecodeError\u001b[0m: Expecting value: line 2 column 1 (char 1)"
     ]
    }
   ],
   "source": [
    "m_char_list = ['4005-1443', '4005-1440', '4005-1442', '4005-1459', '4005-1455', '4005-2268', '4005-2267', '4005-2151', '4005-1456','4005-24694','4005-1462','4005-1468', '4005-7606', '4005-1477']\n",
    "m_responses = []\n",
    "for i in m_char_list:\n",
    "    m_resp = requests.get(api_url+'character/'+str(i)+'?'+key_url + '&format=json', headers = {'User-agent': 'Mozilla/5.0 (Macintosh; Intel Mac OS X 10_15_7) AppleWebKit/605.1.15 (KHTML, like Gecko) Version/18.0.1 Safari/605.1.15'} )\n",
    "    m_chj = json.loads(m_resp.text)\n",
    "    m_responses.append(m_chj['results'])"
   ]
  },
  {
   "cell_type": "code",
   "execution_count": null,
   "metadata": {},
   "outputs": [],
   "source": [
    "marvel_df = pd.DataFrame(m_responses)\n",
    "#marvel_df.sort_values(by='count_of_issue_appearances', ascending = False)"
   ]
  },
  {
   "cell_type": "code",
   "execution_count": null,
   "metadata": {},
   "outputs": [],
   "source": [
    "marvel_df['publisher'].iloc[1]"
   ]
  },
  {
   "cell_type": "code",
   "execution_count": null,
   "metadata": {},
   "outputs": [],
   "source": [
    "marvel_df['publisher_id'] = marvel_df['publisher'].apply(lambda x: x.get('id') if x else None)\n"
   ]
  },
  {
   "cell_type": "code",
   "execution_count": null,
   "metadata": {},
   "outputs": [],
   "source": [
    "def map_publisher_id(x):\n",
    "    if x.get('id') == 31:\n",
    "        return 'Marvel Comics'\n",
    "    else:\n",
    "        return None  # Default to None if no match\n",
    "\n",
    "marvel_df['publisher_type'] = marvel_df['publisher'].apply(lambda x: map_publisher_id(x) if x else None)"
   ]
  },
  {
   "cell_type": "code",
   "execution_count": null,
   "metadata": {},
   "outputs": [],
   "source": [
    "marvel_df['issue_number'] = marvel_df['first_appeared_in_issue'].apply(lambda x: x.get('issue_number'))\n",
    "marvel_df.rename(columns={'issue_number': 'first_issue_number'}, inplace=True)"
   ]
  },
  {
   "cell_type": "code",
   "execution_count": null,
   "metadata": {},
   "outputs": [],
   "source": [
    "marvel_df['movie_names'] = marvel_df['movies'].apply(lambda x: [movie.get('name') for movie in x])"
   ]
  },
  {
   "cell_type": "code",
   "execution_count": null,
   "metadata": {},
   "outputs": [],
   "source": [
    "marvel_df['power_names'] = marvel_df['powers'].apply(lambda x: [power['name'] for power in x] if isinstance(x, list) else None)"
   ]
  },
  {
   "cell_type": "code",
   "execution_count": null,
   "metadata": {},
   "outputs": [],
   "source": [
    "tidy_marvel_df = marvel_df[['name','real_name','power_names', 'count_of_issue_appearances','gender','id','deck','date_added','date_last_updated','site_detail_url']]\n",
    "tidy_marvel_df.sort_values(by='count_of_issue_appearances', ascending = False)"
   ]
  },
  {
   "cell_type": "code",
   "execution_count": null,
   "metadata": {},
   "outputs": [],
   "source": [
    "fig1, ax1 = plt.subplots()\n",
    "ax1.hist(image_df['count_of_issue_appearances'])\n",
    "plt.show()"
   ]
  },
  {
   "cell_type": "code",
   "execution_count": null,
   "metadata": {},
   "outputs": [],
   "source": [
    "fig2, ax2 = plt.subplots()\n",
    "ax2.hist(tidy_marvel_df['count_of_issue_appearances'])\n",
    "plt.show()"
   ]
  },
  {
   "cell_type": "code",
   "execution_count": null,
   "metadata": {},
   "outputs": [],
   "source": [
    "fig3, ax3 = plt.subplots()\n",
    "ax3.scatter(image_df['count_of_issue_appearances'], image_df['name'])\n",
    "plt.show()"
   ]
  },
  {
   "cell_type": "code",
   "execution_count": null,
   "metadata": {},
   "outputs": [],
   "source": [
    "fig4, ax4 = plt.subplots()\n",
    "ax4.scatter(marvel_df['count_of_issue_appearances'], marvel_df['name'])\n",
    "plt.show()"
   ]
  },
  {
   "cell_type": "markdown",
   "metadata": {},
   "source": [
    "So far, I am having a little bit of trouble trying to figure out a correlation between the two dataframes. I believe there is a connection there but I am in the process of figuring it out"
   ]
  },
  {
   "cell_type": "markdown",
   "metadata": {},
   "source": [
    "Investigate if Image characters lean more towards certain power types (e.g., dark/magic themes in Spawn) compared to Marvel's diverse abilities."
   ]
  },
  {
   "cell_type": "code",
   "execution_count": 426,
   "metadata": {},
   "outputs": [
    {
     "data": {
      "text/plain": [
       "['Super Strength',\n",
       " 'Super Speed',\n",
       " 'Agility',\n",
       " 'Stamina',\n",
       " 'Intellect',\n",
       " 'Healing',\n",
       " 'Feral',\n",
       " 'Gadgets',\n",
       " 'Siphon Abilities',\n",
       " 'Wall Clinger',\n",
       " 'Danger Sense',\n",
       " 'Berserker Strength',\n",
       " 'Webslinger']"
      ]
     },
     "execution_count": 426,
     "metadata": {},
     "output_type": "execute_result"
    }
   ],
   "source": [
    "tidy_marvel_df['power_names'].iloc[0]"
   ]
  },
  {
   "cell_type": "markdown",
   "metadata": {},
   "source": [
    "used chatGPT to help with the visualization below"
   ]
  },
  {
   "cell_type": "code",
   "execution_count": 427,
   "metadata": {},
   "outputs": [
    {
     "data": {
      "text/html": [
       "<div>\n",
       "<style scoped>\n",
       "    .dataframe tbody tr th:only-of-type {\n",
       "        vertical-align: middle;\n",
       "    }\n",
       "\n",
       "    .dataframe tbody tr th {\n",
       "        vertical-align: top;\n",
       "    }\n",
       "\n",
       "    .dataframe thead th {\n",
       "        text-align: right;\n",
       "    }\n",
       "</style>\n",
       "<table border=\"1\" class=\"dataframe\">\n",
       "  <thead>\n",
       "    <tr style=\"text-align: right;\">\n",
       "      <th></th>\n",
       "      <th>Power</th>\n",
       "      <th>Count</th>\n",
       "    </tr>\n",
       "  </thead>\n",
       "  <tbody>\n",
       "    <tr>\n",
       "      <th>0</th>\n",
       "      <td>Stamina</td>\n",
       "      <td>14</td>\n",
       "    </tr>\n",
       "    <tr>\n",
       "      <th>2</th>\n",
       "      <td>Unarmed Combat</td>\n",
       "      <td>13</td>\n",
       "    </tr>\n",
       "    <tr>\n",
       "      <th>1</th>\n",
       "      <td>Agility</td>\n",
       "      <td>13</td>\n",
       "    </tr>\n",
       "    <tr>\n",
       "      <th>3</th>\n",
       "      <td>Intellect</td>\n",
       "      <td>11</td>\n",
       "    </tr>\n",
       "    <tr>\n",
       "      <th>4</th>\n",
       "      <td>Super Strength</td>\n",
       "      <td>10</td>\n",
       "    </tr>\n",
       "    <tr>\n",
       "      <th>...</th>\n",
       "      <td>...</td>\n",
       "      <td>...</td>\n",
       "    </tr>\n",
       "    <tr>\n",
       "      <th>76</th>\n",
       "      <td>Genetic Manipulation</td>\n",
       "      <td>1</td>\n",
       "    </tr>\n",
       "    <tr>\n",
       "      <th>75</th>\n",
       "      <td>Levitation</td>\n",
       "      <td>1</td>\n",
       "    </tr>\n",
       "    <tr>\n",
       "      <th>73</th>\n",
       "      <td>Fire Control</td>\n",
       "      <td>1</td>\n",
       "    </tr>\n",
       "    <tr>\n",
       "      <th>86</th>\n",
       "      <td>Soul Absorption</td>\n",
       "      <td>1</td>\n",
       "    </tr>\n",
       "    <tr>\n",
       "      <th>101</th>\n",
       "      <td>Heat Vision</td>\n",
       "      <td>1</td>\n",
       "    </tr>\n",
       "  </tbody>\n",
       "</table>\n",
       "<p>102 rows × 2 columns</p>\n",
       "</div>"
      ],
      "text/plain": [
       "                    Power  Count\n",
       "0                 Stamina     14\n",
       "2          Unarmed Combat     13\n",
       "1                 Agility     13\n",
       "3               Intellect     11\n",
       "4          Super Strength     10\n",
       "..                    ...    ...\n",
       "76   Genetic Manipulation      1\n",
       "75             Levitation      1\n",
       "73           Fire Control      1\n",
       "86        Soul Absorption      1\n",
       "101           Heat Vision      1\n",
       "\n",
       "[102 rows x 2 columns]"
      ]
     },
     "execution_count": 427,
     "metadata": {},
     "output_type": "execute_result"
    }
   ],
   "source": [
    "power_df"
   ]
  },
  {
   "cell_type": "code",
   "execution_count": 425,
   "metadata": {},
   "outputs": [
    {
     "data": {
      "image/png": "[encoded data removed]",
      "text/plain": [
       "<Figure size 1200x800 with 1 Axes>"
      ]
     },
     "metadata": {},
     "output_type": "display_data"
    }
   ],
   "source": [
    "# Display only the top 15 powers for marvel_df\n",
    "top_powers = power_df.sort_values(by='Count', ascending=False).head(15)\n",
    "\n",
    "plt.figure(figsize=(12, 8))\n",
    "plt.barh(top_powers['Power'], top_powers['Count'], color='skyblue', alpha=0.8)\n",
    "plt.title(\"Top 15 Power Counts\")\n",
    "plt.xlabel(\"Count\")\n",
    "plt.ylabel(\"Powers\")\n",
    "plt.gca().invert_yaxis()  # Invert Y-axis for readability\n",
    "plt.show()"
   ]
  },
  {
   "cell_type": "code",
   "execution_count": 428,
   "metadata": {},
   "outputs": [
    {
     "ename": "KeyError",
     "evalue": "'Count'",
     "output_type": "error",
     "traceback": [
      "\u001b[0;31m---------------------------------------------------------------------------\u001b[0m",
      "\u001b[0;31mKeyError\u001b[0m                                  Traceback (most recent call last)",
      "\u001b[0;32m/var/folders/82/9t585cz90wd9lg9jkmx49fjm0000gn/T/ipykernel_1858/15670006.py\u001b[0m in \u001b[0;36m?\u001b[0;34m()\u001b[0m\n\u001b[1;32m      1\u001b[0m \u001b[0;31m# Display only the top 15 powers for ic_df\u001b[0m\u001b[0;34m\u001b[0m\u001b[0;34m\u001b[0m\u001b[0m\n\u001b[0;32m----> 2\u001b[0;31m \u001b[0mtop_powers_image\u001b[0m \u001b[0;34m=\u001b[0m \u001b[0mimage_df\u001b[0m\u001b[0;34m.\u001b[0m\u001b[0msort_values\u001b[0m\u001b[0;34m(\u001b[0m\u001b[0mby\u001b[0m\u001b[0;34m=\u001b[0m\u001b[0;34m'Count'\u001b[0m\u001b[0;34m,\u001b[0m \u001b[0mascending\u001b[0m\u001b[0;34m=\u001b[0m\u001b[0;32mFalse\u001b[0m\u001b[0;34m)\u001b[0m\u001b[0;34m.\u001b[0m\u001b[0mhead\u001b[0m\u001b[0;34m(\u001b[0m\u001b[0;36m15\u001b[0m\u001b[0;34m)\u001b[0m\u001b[0;34m\u001b[0m\u001b[0;34m\u001b[0m\u001b[0m\n\u001b[0m\u001b[1;32m      3\u001b[0m \u001b[0;34m\u001b[0m\u001b[0m\n\u001b[1;32m      4\u001b[0m \u001b[0mplt\u001b[0m\u001b[0;34m.\u001b[0m\u001b[0mfigure\u001b[0m\u001b[0;34m(\u001b[0m\u001b[0mfigsize\u001b[0m\u001b[0;34m=\u001b[0m\u001b[0;34m(\u001b[0m\u001b[0;36m12\u001b[0m\u001b[0;34m,\u001b[0m \u001b[0;36m8\u001b[0m\u001b[0;34m)\u001b[0m\u001b[0;34m)\u001b[0m\u001b[0;34m\u001b[0m\u001b[0;34m\u001b[0m\u001b[0m\n\u001b[1;32m      5\u001b[0m \u001b[0mplt\u001b[0m\u001b[0;34m.\u001b[0m\u001b[0mbarh\u001b[0m\u001b[0;34m(\u001b[0m\u001b[0mtop_powers_image\u001b[0m\u001b[0;34m[\u001b[0m\u001b[0;34m'Power'\u001b[0m\u001b[0;34m]\u001b[0m\u001b[0;34m,\u001b[0m \u001b[0mtop_powers_image\u001b[0m\u001b[0;34m[\u001b[0m\u001b[0;34m'Count'\u001b[0m\u001b[0;34m]\u001b[0m\u001b[0;34m,\u001b[0m \u001b[0mcolor\u001b[0m\u001b[0;34m=\u001b[0m\u001b[0;34m'lightcoral'\u001b[0m\u001b[0;34m,\u001b[0m \u001b[0malpha\u001b[0m\u001b[0;34m=\u001b[0m\u001b[0;36m0.8\u001b[0m\u001b[0;34m)\u001b[0m\u001b[0;34m\u001b[0m\u001b[0;34m\u001b[0m\u001b[0m\n",
      "\u001b[0;32m/opt/anaconda3/envs/dataEMAT_fa24/lib/python3.12/site-packages/pandas/core/frame.py\u001b[0m in \u001b[0;36m?\u001b[0;34m(self, by, axis, ascending, inplace, kind, na_position, ignore_index, key)\u001b[0m\n\u001b[1;32m   7185\u001b[0m             \u001b[0;34m)\u001b[0m\u001b[0;34m\u001b[0m\u001b[0;34m\u001b[0m\u001b[0m\n\u001b[1;32m   7186\u001b[0m         \u001b[0;32melif\u001b[0m \u001b[0mlen\u001b[0m\u001b[0;34m(\u001b[0m\u001b[0mby\u001b[0m\u001b[0;34m)\u001b[0m\u001b[0;34m:\u001b[0m\u001b[0;34m\u001b[0m\u001b[0;34m\u001b[0m\u001b[0m\n\u001b[1;32m   7187\u001b[0m             \u001b[0;31m# len(by) == 1\u001b[0m\u001b[0;34m\u001b[0m\u001b[0;34m\u001b[0m\u001b[0m\n\u001b[1;32m   7188\u001b[0m \u001b[0;34m\u001b[0m\u001b[0m\n\u001b[0;32m-> 7189\u001b[0;31m             \u001b[0mk\u001b[0m \u001b[0;34m=\u001b[0m \u001b[0mself\u001b[0m\u001b[0;34m.\u001b[0m\u001b[0m_get_label_or_level_values\u001b[0m\u001b[0;34m(\u001b[0m\u001b[0mby\u001b[0m\u001b[0;34m[\u001b[0m\u001b[0;36m0\u001b[0m\u001b[0;34m]\u001b[0m\u001b[0;34m,\u001b[0m \u001b[0maxis\u001b[0m\u001b[0;34m=\u001b[0m\u001b[0maxis\u001b[0m\u001b[0;34m)\u001b[0m\u001b[0;34m\u001b[0m\u001b[0;34m\u001b[0m\u001b[0m\n\u001b[0m\u001b[1;32m   7190\u001b[0m \u001b[0;34m\u001b[0m\u001b[0m\n\u001b[1;32m   7191\u001b[0m             \u001b[0;31m# need to rewrap column in Series to apply key function\u001b[0m\u001b[0;34m\u001b[0m\u001b[0;34m\u001b[0m\u001b[0m\n\u001b[1;32m   7192\u001b[0m             \u001b[0;32mif\u001b[0m \u001b[0mkey\u001b[0m \u001b[0;32mis\u001b[0m \u001b[0;32mnot\u001b[0m \u001b[0;32mNone\u001b[0m\u001b[0;34m:\u001b[0m\u001b[0;34m\u001b[0m\u001b[0;34m\u001b[0m\u001b[0m\n",
      "\u001b[0;32m/opt/anaconda3/envs/dataEMAT_fa24/lib/python3.12/site-packages/pandas/core/generic.py\u001b[0m in \u001b[0;36m?\u001b[0;34m(self, key, axis)\u001b[0m\n\u001b[1;32m   1907\u001b[0m             \u001b[0mvalues\u001b[0m \u001b[0;34m=\u001b[0m \u001b[0mself\u001b[0m\u001b[0;34m.\u001b[0m\u001b[0mxs\u001b[0m\u001b[0;34m(\u001b[0m\u001b[0mkey\u001b[0m\u001b[0;34m,\u001b[0m \u001b[0maxis\u001b[0m\u001b[0;34m=\u001b[0m\u001b[0mother_axes\u001b[0m\u001b[0;34m[\u001b[0m\u001b[0;36m0\u001b[0m\u001b[0;34m]\u001b[0m\u001b[0;34m)\u001b[0m\u001b[0;34m.\u001b[0m\u001b[0m_values\u001b[0m\u001b[0;34m\u001b[0m\u001b[0;34m\u001b[0m\u001b[0m\n\u001b[1;32m   1908\u001b[0m         \u001b[0;32melif\u001b[0m \u001b[0mself\u001b[0m\u001b[0;34m.\u001b[0m\u001b[0m_is_level_reference\u001b[0m\u001b[0;34m(\u001b[0m\u001b[0mkey\u001b[0m\u001b[0;34m,\u001b[0m \u001b[0maxis\u001b[0m\u001b[0;34m=\u001b[0m\u001b[0maxis\u001b[0m\u001b[0;34m)\u001b[0m\u001b[0;34m:\u001b[0m\u001b[0;34m\u001b[0m\u001b[0;34m\u001b[0m\u001b[0m\n\u001b[1;32m   1909\u001b[0m             \u001b[0mvalues\u001b[0m \u001b[0;34m=\u001b[0m \u001b[0mself\u001b[0m\u001b[0;34m.\u001b[0m\u001b[0maxes\u001b[0m\u001b[0;34m[\u001b[0m\u001b[0maxis\u001b[0m\u001b[0;34m]\u001b[0m\u001b[0;34m.\u001b[0m\u001b[0mget_level_values\u001b[0m\u001b[0;34m(\u001b[0m\u001b[0mkey\u001b[0m\u001b[0;34m)\u001b[0m\u001b[0;34m.\u001b[0m\u001b[0m_values\u001b[0m\u001b[0;34m\u001b[0m\u001b[0;34m\u001b[0m\u001b[0m\n\u001b[1;32m   1910\u001b[0m         \u001b[0;32melse\u001b[0m\u001b[0;34m:\u001b[0m\u001b[0;34m\u001b[0m\u001b[0;34m\u001b[0m\u001b[0m\n\u001b[0;32m-> 1911\u001b[0;31m             \u001b[0;32mraise\u001b[0m \u001b[0mKeyError\u001b[0m\u001b[0;34m(\u001b[0m\u001b[0mkey\u001b[0m\u001b[0;34m)\u001b[0m\u001b[0;34m\u001b[0m\u001b[0;34m\u001b[0m\u001b[0m\n\u001b[0m\u001b[1;32m   1912\u001b[0m \u001b[0;34m\u001b[0m\u001b[0m\n\u001b[1;32m   1913\u001b[0m         \u001b[0;31m# Check for duplicates\u001b[0m\u001b[0;34m\u001b[0m\u001b[0;34m\u001b[0m\u001b[0m\n\u001b[1;32m   1914\u001b[0m         \u001b[0;32mif\u001b[0m \u001b[0mvalues\u001b[0m\u001b[0;34m.\u001b[0m\u001b[0mndim\u001b[0m \u001b[0;34m>\u001b[0m \u001b[0;36m1\u001b[0m\u001b[0;34m:\u001b[0m\u001b[0;34m\u001b[0m\u001b[0;34m\u001b[0m\u001b[0m\n",
      "\u001b[0;31mKeyError\u001b[0m: 'Count'"
     ]
    }
   ],
   "source": [
    "# Display only the top 15 powers for ic_df\n",
    "top_powers_image = image_df.sort_values(by='Count', ascending=False).head(15)\n",
    "\n",
    "plt.figure(figsize=(12, 8))\n",
    "plt.barh(top_powers_image['Power'], top_powers_image['Count'], color='lightcoral', alpha=0.8)\n",
    "plt.title(\"Top 15 Powers in Image Comics\")\n",
    "plt.xlabel(\"Count\")\n",
    "plt.ylabel(\"Powers\")\n",
    "plt.gca().invert_yaxis()  # Invert Y-axis for readability\n",
    "plt.show()"
   ]
  },
  {
   "cell_type": "code",
   "execution_count": null,
   "metadata": {},
   "outputs": [],
   "source": []
  },
  {
   "cell_type": "code",
   "execution_count": null,
   "metadata": {},
   "outputs": [],
   "source": []
  },
  {
   "cell_type": "code",
   "execution_count": null,
   "metadata": {},
   "outputs": [],
   "source": []
  },
  {
   "cell_type": "code",
   "execution_count": null,
   "metadata": {},
   "outputs": [],
   "source": []
  }
 ],
 "metadata": {
  "kernelspec": {
   "display_name": "Python 3 (ipykernel)",
   "language": "python",
   "name": "python3"
  },
  "language_info": {
   "codemirror_mode": {
    "name": "ipython",
    "version": 3
   },
   "file_extension": ".py",
   "mimetype": "text/x-python",
   "name": "python",
   "nbconvert_exporter": "python",
   "pygments_lexer": "ipython3",
   "version": "3.12.4"
  }
 },
 "nbformat": 4,
 "nbformat_minor": 4
}
